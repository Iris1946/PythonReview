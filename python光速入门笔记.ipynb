{
 "cells": [
  {
   "cell_type": "markdown",
   "id": "2446f1f8",
   "metadata": {},
   "source": [
    "# 1. 数据类型"
   ]
  },
  {
   "cell_type": "markdown",
   "id": "fab3d087",
   "metadata": {},
   "source": [
    "## 1.1 bool"
   ]
  },
  {
   "cell_type": "markdown",
   "id": "6012cfe9",
   "metadata": {},
   "source": [
    "**包括: `True`、`False`。注意首字符大写!!!**"
   ]
  },
  {
   "cell_type": "code",
   "execution_count": 1,
   "id": "c7ba4f22",
   "metadata": {},
   "outputs": [
    {
     "data": {
      "text/plain": [
       "True"
      ]
     },
     "execution_count": 1,
     "metadata": {},
     "output_type": "execute_result"
    }
   ],
   "source": [
    "a1 = True\n",
    "a1"
   ]
  },
  {
   "cell_type": "code",
   "execution_count": 2,
   "id": "79ff87b0",
   "metadata": {},
   "outputs": [
    {
     "data": {
      "text/plain": [
       "False"
      ]
     },
     "execution_count": 2,
     "metadata": {},
     "output_type": "execute_result"
    }
   ],
   "source": [
    "b1 = False\n",
    "b1"
   ]
  },
  {
   "cell_type": "code",
   "execution_count": 3,
   "id": "285c775b",
   "metadata": {},
   "outputs": [
    {
     "data": {
      "text/plain": [
       "False"
      ]
     },
     "execution_count": 3,
     "metadata": {},
     "output_type": "execute_result"
    }
   ],
   "source": [
    "b2 = 2 > 3\n",
    "b2"
   ]
  },
  {
   "cell_type": "markdown",
   "id": "751438dd",
   "metadata": {},
   "source": [
    "## 1.2 int"
   ]
  },
  {
   "cell_type": "markdown",
   "id": "efe7ce54",
   "metadata": {},
   "source": [
    "**运算符: `+`、`-`、`*`、`/`、`//`、`%`**"
   ]
  },
  {
   "cell_type": "code",
   "execution_count": 4,
   "id": "dbd63d7a",
   "metadata": {},
   "outputs": [
    {
     "data": {
      "text/plain": [
       "6"
      ]
     },
     "execution_count": 4,
     "metadata": {},
     "output_type": "execute_result"
    }
   ],
   "source": [
    "3 + 3"
   ]
  },
  {
   "cell_type": "code",
   "execution_count": 5,
   "id": "950a440d",
   "metadata": {},
   "outputs": [
    {
     "data": {
      "text/plain": [
       "1"
      ]
     },
     "execution_count": 5,
     "metadata": {},
     "output_type": "execute_result"
    }
   ],
   "source": [
    "4 - 3"
   ]
  },
  {
   "cell_type": "code",
   "execution_count": 6,
   "id": "0e82f5cd",
   "metadata": {},
   "outputs": [
    {
     "data": {
      "text/plain": [
       "25"
      ]
     },
     "execution_count": 6,
     "metadata": {},
     "output_type": "execute_result"
    }
   ],
   "source": [
    "5 * 5"
   ]
  },
  {
   "cell_type": "code",
   "execution_count": 7,
   "id": "5b913337",
   "metadata": {},
   "outputs": [
    {
     "data": {
      "text/plain": [
       "3.5"
      ]
     },
     "execution_count": 7,
     "metadata": {},
     "output_type": "execute_result"
    }
   ],
   "source": [
    "7 / 2"
   ]
  },
  {
   "cell_type": "code",
   "execution_count": 8,
   "id": "0820bbf8",
   "metadata": {},
   "outputs": [
    {
     "data": {
      "text/plain": [
       "3"
      ]
     },
     "execution_count": 8,
     "metadata": {},
     "output_type": "execute_result"
    }
   ],
   "source": [
    "7 // 2"
   ]
  },
  {
   "cell_type": "code",
   "execution_count": 9,
   "id": "dd26d69e",
   "metadata": {},
   "outputs": [
    {
     "data": {
      "text/plain": [
       "3"
      ]
     },
     "execution_count": 9,
     "metadata": {},
     "output_type": "execute_result"
    }
   ],
   "source": [
    "7 % 4"
   ]
  },
  {
   "cell_type": "markdown",
   "id": "e6b41c54",
   "metadata": {},
   "source": [
    "**乘方运算符: ****"
   ]
  },
  {
   "cell_type": "code",
   "execution_count": 10,
   "id": "e9d551b7",
   "metadata": {},
   "outputs": [
    {
     "data": {
      "text/plain": [
       "524288"
      ]
     },
     "execution_count": 10,
     "metadata": {},
     "output_type": "execute_result"
    }
   ],
   "source": [
    "2 ** 19"
   ]
  },
  {
   "cell_type": "code",
   "execution_count": 11,
   "id": "da7c3799",
   "metadata": {},
   "outputs": [
    {
     "data": {
      "text/plain": [
       "1024"
      ]
     },
     "execution_count": 11,
     "metadata": {},
     "output_type": "execute_result"
    }
   ],
   "source": [
    "2 ** 10"
   ]
  },
  {
   "cell_type": "code",
   "execution_count": 12,
   "id": "79c40465",
   "metadata": {},
   "outputs": [
    {
     "data": {
      "text/plain": [
       "1267650600228229401496703205376"
      ]
     },
     "execution_count": 12,
     "metadata": {},
     "output_type": "execute_result"
    }
   ],
   "source": [
    "2 ** 100"
   ]
  },
  {
   "cell_type": "code",
   "execution_count": 13,
   "id": "686a5525",
   "metadata": {},
   "outputs": [
    {
     "data": {
      "text/plain": [
       "10715086071862673209484250490600018105614048117055336074437503883703510511249361224931983788156958581275946729175531468251871452856923140435984577574698574803934567774824230985421074605062371141877954182153046474983581941267398767559165543946077062914571196477686542167660429831652624386837205668069376"
      ]
     },
     "execution_count": 13,
     "metadata": {},
     "output_type": "execute_result"
    }
   ],
   "source": [
    "2 ** 1000"
   ]
  },
  {
   "cell_type": "markdown",
   "id": "cd1ae69e",
   "metadata": {},
   "source": [
    "## 1.3 float"
   ]
  },
  {
   "cell_type": "markdown",
   "id": "fd76a18c",
   "metadata": {},
   "source": [
    "**可以对`float`进行`%`**"
   ]
  },
  {
   "cell_type": "code",
   "execution_count": 14,
   "id": "19249d23",
   "metadata": {},
   "outputs": [
    {
     "data": {
      "text/plain": [
       "33.3"
      ]
     },
     "execution_count": 14,
     "metadata": {},
     "output_type": "execute_result"
    }
   ],
   "source": [
    "123.3 % 45"
   ]
  },
  {
   "cell_type": "code",
   "execution_count": 15,
   "id": "e0044126",
   "metadata": {},
   "outputs": [
    {
     "data": {
      "text/plain": [
       "0.9400000000000079"
      ]
     },
     "execution_count": 15,
     "metadata": {},
     "output_type": "execute_result"
    }
   ],
   "source": [
    "123.34 % 1.2"
   ]
  },
  {
   "cell_type": "markdown",
   "id": "c074a76f",
   "metadata": {},
   "source": [
    "**判断两个`float`的大小**"
   ]
  },
  {
   "cell_type": "code",
   "execution_count": 16,
   "id": "700316cf",
   "metadata": {},
   "outputs": [],
   "source": [
    "x = 123.45 * 2.3\n",
    "y = 123.45 + 123.45 + 123.45 * 0.3"
   ]
  },
  {
   "cell_type": "markdown",
   "id": "b927616c",
   "metadata": {},
   "source": [
    "错误: 直接`==`判断"
   ]
  },
  {
   "cell_type": "code",
   "execution_count": 17,
   "id": "74472495",
   "metadata": {},
   "outputs": [
    {
     "data": {
      "text/plain": [
       "True"
      ]
     },
     "execution_count": 17,
     "metadata": {},
     "output_type": "execute_result"
    }
   ],
   "source": [
    "x == y"
   ]
  },
  {
   "cell_type": "markdown",
   "id": "99332b90",
   "metadata": {},
   "source": [
    "正确: 判断两个`float`是否小于`eps`"
   ]
  },
  {
   "cell_type": "code",
   "execution_count": 18,
   "id": "3798b2ed",
   "metadata": {},
   "outputs": [
    {
     "data": {
      "text/plain": [
       "True"
      ]
     },
     "execution_count": 18,
     "metadata": {},
     "output_type": "execute_result"
    }
   ],
   "source": [
    "eps = 1e-6\n",
    "abs(x - y) < eps"
   ]
  },
  {
   "cell_type": "markdown",
   "id": "3471cdc0",
   "metadata": {},
   "source": [
    "**`python`中可以用大整数进行运算**"
   ]
  },
  {
   "cell_type": "code",
   "execution_count": 19,
   "id": "c561a286",
   "metadata": {},
   "outputs": [
    {
     "data": {
      "text/plain": [
       "106276459549967698946419343368216"
      ]
     },
     "execution_count": 19,
     "metadata": {},
     "output_type": "execute_result"
    }
   ],
   "source": [
    "65466231791873498174398 * 1623378292"
   ]
  },
  {
   "cell_type": "markdown",
   "id": "0e388739",
   "metadata": {},
   "source": [
    "## 1.4 complex"
   ]
  },
  {
   "cell_type": "markdown",
   "id": "b8aa6281",
   "metadata": {},
   "source": [
    "**使用`j`作为复数的单位**"
   ]
  },
  {
   "cell_type": "code",
   "execution_count": 20,
   "id": "cb50a113",
   "metadata": {},
   "outputs": [
    {
     "data": {
      "text/plain": [
       "(3+2j)"
      ]
     },
     "execution_count": 20,
     "metadata": {},
     "output_type": "execute_result"
    }
   ],
   "source": [
    "x = 3 + 2j\n",
    "x"
   ]
  },
  {
   "cell_type": "code",
   "execution_count": 21,
   "id": "ae5d4183",
   "metadata": {},
   "outputs": [
    {
     "data": {
      "text/plain": [
       "(4-3j)"
      ]
     },
     "execution_count": 21,
     "metadata": {},
     "output_type": "execute_result"
    }
   ],
   "source": [
    "y = 4 - 3j\n",
    "y"
   ]
  },
  {
   "cell_type": "code",
   "execution_count": 22,
   "id": "c2a5dd7d",
   "metadata": {},
   "outputs": [
    {
     "data": {
      "text/plain": [
       "(18-1j)"
      ]
     },
     "execution_count": 22,
     "metadata": {},
     "output_type": "execute_result"
    }
   ],
   "source": [
    "x * y"
   ]
  },
  {
   "cell_type": "code",
   "execution_count": 23,
   "id": "7f655ade",
   "metadata": {},
   "outputs": [
    {
     "data": {
      "text/plain": [
       "(0.24+0.68j)"
      ]
     },
     "execution_count": 23,
     "metadata": {},
     "output_type": "execute_result"
    }
   ],
   "source": [
    "x / y"
   ]
  },
  {
   "cell_type": "markdown",
   "id": "95490cee",
   "metadata": {},
   "source": [
    "## 1.5 string"
   ]
  },
  {
   "cell_type": "markdown",
   "id": "fe455706",
   "metadata": {},
   "source": [
    "**可以用`'`、`\"`、`\"\"\"`表示字符串`str`**"
   ]
  },
  {
   "cell_type": "code",
   "execution_count": 24,
   "id": "a1a4ab66",
   "metadata": {},
   "outputs": [
    {
     "data": {
      "text/plain": [
       "'abc'"
      ]
     },
     "execution_count": 24,
     "metadata": {},
     "output_type": "execute_result"
    }
   ],
   "source": [
    "s = 'abc'\n",
    "s"
   ]
  },
  {
   "cell_type": "code",
   "execution_count": 25,
   "id": "7b2d5883",
   "metadata": {},
   "outputs": [
    {
     "data": {
      "text/plain": [
       "'abc'"
      ]
     },
     "execution_count": 25,
     "metadata": {},
     "output_type": "execute_result"
    }
   ],
   "source": [
    "s = \"abc\"\n",
    "s"
   ]
  },
  {
   "cell_type": "markdown",
   "id": "978152a3",
   "metadata": {},
   "source": [
    "`\"\"\"`一般用于写大段注释。"
   ]
  },
  {
   "cell_type": "code",
   "execution_count": 26,
   "id": "87472824",
   "metadata": {},
   "outputs": [
    {
     "data": {
      "text/plain": [
       "'abc\\ndef'"
      ]
     },
     "execution_count": 26,
     "metadata": {},
     "output_type": "execute_result"
    }
   ],
   "source": [
    "s = 'abc\\ndef'\n",
    "s"
   ]
  },
  {
   "cell_type": "code",
   "execution_count": 27,
   "id": "f11c95d3",
   "metadata": {},
   "outputs": [
    {
     "data": {
      "text/plain": [
       "'abc\\ndef'"
      ]
     },
     "execution_count": 27,
     "metadata": {},
     "output_type": "execute_result"
    }
   ],
   "source": [
    "s = \"\"\"abc\n",
    "def\"\"\"\n",
    "s"
   ]
  },
  {
   "cell_type": "markdown",
   "id": "933d9191",
   "metadata": {},
   "source": [
    "**`len(s)`可以正确数出中文字符的数量, 中文字符仅占一个字节(`python`使用`UNICODE`编码)**"
   ]
  },
  {
   "cell_type": "code",
   "execution_count": 28,
   "id": "e14a82e1",
   "metadata": {},
   "outputs": [
    {
     "data": {
      "text/plain": [
       "5"
      ]
     },
     "execution_count": 28,
     "metadata": {},
     "output_type": "execute_result"
    }
   ],
   "source": [
    "s = '中文abc'\n",
    "len(s)"
   ]
  },
  {
   "cell_type": "markdown",
   "id": "ff1f6161",
   "metadata": {},
   "source": [
    "## 1.6 其他"
   ]
  },
  {
   "cell_type": "markdown",
   "id": "4696be95",
   "metadata": {},
   "source": [
    "**数据类型转换: `int`、`float`、`bool`、`str`**"
   ]
  },
  {
   "cell_type": "code",
   "execution_count": 29,
   "id": "46de3a7e",
   "metadata": {},
   "outputs": [
    {
     "data": {
      "text/plain": [
       "3434"
      ]
     },
     "execution_count": 29,
     "metadata": {},
     "output_type": "execute_result"
    }
   ],
   "source": [
    "int('3434')"
   ]
  },
  {
   "cell_type": "code",
   "execution_count": 30,
   "id": "f0f024b5",
   "metadata": {},
   "outputs": [
    {
     "data": {
      "text/plain": [
       "34.0"
      ]
     },
     "execution_count": 30,
     "metadata": {},
     "output_type": "execute_result"
    }
   ],
   "source": [
    "float('34')"
   ]
  },
  {
   "cell_type": "code",
   "execution_count": 31,
   "id": "d99d064c",
   "metadata": {},
   "outputs": [
    {
     "data": {
      "text/plain": [
       "True"
      ]
     },
     "execution_count": 31,
     "metadata": {},
     "output_type": "execute_result"
    }
   ],
   "source": [
    "bool('abedrfaf')"
   ]
  },
  {
   "cell_type": "code",
   "execution_count": 32,
   "id": "f348f817",
   "metadata": {},
   "outputs": [
    {
     "data": {
      "text/plain": [
       "False"
      ]
     },
     "execution_count": 32,
     "metadata": {},
     "output_type": "execute_result"
    }
   ],
   "source": [
    "bool('')"
   ]
  },
  {
   "cell_type": "code",
   "execution_count": 33,
   "id": "f917ff3f",
   "metadata": {},
   "outputs": [
    {
     "data": {
      "text/plain": [
       "True"
      ]
     },
     "execution_count": 33,
     "metadata": {},
     "output_type": "execute_result"
    }
   ],
   "source": [
    "bool(99)"
   ]
  },
  {
   "cell_type": "code",
   "execution_count": 34,
   "id": "05bf3475",
   "metadata": {},
   "outputs": [
    {
     "data": {
      "text/plain": [
       "False"
      ]
     },
     "execution_count": 34,
     "metadata": {},
     "output_type": "execute_result"
    }
   ],
   "source": [
    "bool(0)"
   ]
  },
  {
   "cell_type": "code",
   "execution_count": 35,
   "id": "de5e74a3",
   "metadata": {},
   "outputs": [
    {
     "data": {
      "text/plain": [
       "'中文abc22'"
      ]
     },
     "execution_count": 35,
     "metadata": {},
     "output_type": "execute_result"
    }
   ],
   "source": [
    "s = s + str(22)\n",
    "s"
   ]
  },
  {
   "cell_type": "markdown",
   "id": "1bc671a3",
   "metadata": {},
   "source": [
    "**判断数据类型的函数: `isinstance()`**"
   ]
  },
  {
   "cell_type": "code",
   "execution_count": 36,
   "id": "f493aee9",
   "metadata": {},
   "outputs": [
    {
     "data": {
      "text/plain": [
       "False"
      ]
     },
     "execution_count": 36,
     "metadata": {},
     "output_type": "execute_result"
    }
   ],
   "source": [
    "isinstance(s, int)"
   ]
  },
  {
   "cell_type": "code",
   "execution_count": 37,
   "id": "58c0c8fa",
   "metadata": {},
   "outputs": [
    {
     "data": {
      "text/plain": [
       "True"
      ]
     },
     "execution_count": 37,
     "metadata": {},
     "output_type": "execute_result"
    }
   ],
   "source": [
    "isinstance(s, str)"
   ]
  },
  {
   "cell_type": "markdown",
   "id": "07215232",
   "metadata": {},
   "source": [
    "**判断是否相等: `==`、`is`**"
   ]
  },
  {
   "cell_type": "markdown",
   "id": "99553704",
   "metadata": {},
   "source": [
    "`python`中变量内装的是**引用**"
   ]
  },
  {
   "cell_type": "code",
   "execution_count": 38,
   "id": "b8aba3a9",
   "metadata": {},
   "outputs": [
    {
     "data": {
      "text/plain": [
       "True"
      ]
     },
     "execution_count": 38,
     "metadata": {},
     "output_type": "execute_result"
    }
   ],
   "source": [
    "2 + 1 == 3 "
   ]
  },
  {
   "cell_type": "code",
   "execution_count": 39,
   "id": "14ff66bd",
   "metadata": {},
   "outputs": [],
   "source": [
    "s1 = \"Hello\"\n",
    "s2 = \"Hello\""
   ]
  },
  {
   "cell_type": "code",
   "execution_count": 40,
   "id": "a121e7e9",
   "metadata": {},
   "outputs": [
    {
     "data": {
      "text/plain": [
       "True"
      ]
     },
     "execution_count": 40,
     "metadata": {},
     "output_type": "execute_result"
    }
   ],
   "source": [
    "s1 == s2"
   ]
  },
  {
   "cell_type": "code",
   "execution_count": 41,
   "id": "effe86fc",
   "metadata": {},
   "outputs": [
    {
     "data": {
      "text/plain": [
       "True"
      ]
     },
     "execution_count": 41,
     "metadata": {},
     "output_type": "execute_result"
    }
   ],
   "source": [
    "s1 is s2"
   ]
  },
  {
   "cell_type": "code",
   "execution_count": 42,
   "id": "d59662f7",
   "metadata": {},
   "outputs": [
    {
     "data": {
      "text/plain": [
       "2556982036848"
      ]
     },
     "execution_count": 42,
     "metadata": {},
     "output_type": "execute_result"
    }
   ],
   "source": [
    "id(s1)"
   ]
  },
  {
   "cell_type": "code",
   "execution_count": 43,
   "id": "a9dc7101",
   "metadata": {},
   "outputs": [
    {
     "data": {
      "text/plain": [
       "2556982036848"
      ]
     },
     "execution_count": 43,
     "metadata": {},
     "output_type": "execute_result"
    }
   ],
   "source": [
    "id(s2)"
   ]
  },
  {
   "cell_type": "markdown",
   "id": "30e27ca5",
   "metadata": {},
   "source": [
    "# 2. 序列类型"
   ]
  },
  {
   "cell_type": "markdown",
   "id": "8ab070bd",
   "metadata": {},
   "source": [
    "## 2.1 list"
   ]
  },
  {
   "cell_type": "code",
   "execution_count": 44,
   "id": "ad334c73",
   "metadata": {},
   "outputs": [],
   "source": [
    "x = [1, 2, 3]"
   ]
  },
  {
   "cell_type": "code",
   "execution_count": 45,
   "id": "da85dcdb",
   "metadata": {},
   "outputs": [
    {
     "data": {
      "text/plain": [
       "list"
      ]
     },
     "execution_count": 45,
     "metadata": {},
     "output_type": "execute_result"
    }
   ],
   "source": [
    "type(x)"
   ]
  },
  {
   "cell_type": "markdown",
   "id": "7a36c1dd",
   "metadata": {},
   "source": [
    "**添加元素: `.append()`**"
   ]
  },
  {
   "cell_type": "code",
   "execution_count": 46,
   "id": "398805da",
   "metadata": {},
   "outputs": [
    {
     "data": {
      "text/plain": [
       "[1, 2, 3, 4]"
      ]
     },
     "execution_count": 46,
     "metadata": {},
     "output_type": "execute_result"
    }
   ],
   "source": [
    "x.append(4)\n",
    "x"
   ]
  },
  {
   "cell_type": "code",
   "execution_count": 47,
   "id": "82b0fc9b",
   "metadata": {},
   "outputs": [
    {
     "data": {
      "text/plain": [
       "[1, 2, 3, 4, 5]"
      ]
     },
     "execution_count": 47,
     "metadata": {},
     "output_type": "execute_result"
    }
   ],
   "source": [
    "x.append(5)\n",
    "x"
   ]
  },
  {
   "cell_type": "code",
   "execution_count": 48,
   "id": "091d4f7e",
   "metadata": {},
   "outputs": [
    {
     "data": {
      "text/plain": [
       "[1, 2, 3, 2]"
      ]
     },
     "execution_count": 48,
     "metadata": {},
     "output_type": "execute_result"
    }
   ],
   "source": [
    "x = [1, 2, 3]\n",
    "x.append(2)\n",
    "x"
   ]
  },
  {
   "cell_type": "code",
   "execution_count": 49,
   "id": "a6ca9dec",
   "metadata": {},
   "outputs": [
    {
     "data": {
      "text/plain": [
       "2"
      ]
     },
     "execution_count": 49,
     "metadata": {},
     "output_type": "execute_result"
    }
   ],
   "source": [
    "x[1]"
   ]
  },
  {
   "cell_type": "code",
   "execution_count": 50,
   "id": "89f9b79f",
   "metadata": {},
   "outputs": [
    {
     "data": {
      "text/plain": [
       "2"
      ]
     },
     "execution_count": 50,
     "metadata": {},
     "output_type": "execute_result"
    }
   ],
   "source": [
    "x[3]"
   ]
  },
  {
   "cell_type": "code",
   "execution_count": 51,
   "id": "0195efbd",
   "metadata": {},
   "outputs": [
    {
     "data": {
      "text/plain": [
       "True"
      ]
     },
     "execution_count": 51,
     "metadata": {},
     "output_type": "execute_result"
    }
   ],
   "source": [
    "x[1] is x[3]"
   ]
  },
  {
   "cell_type": "markdown",
   "id": "4284c774",
   "metadata": {},
   "source": [
    "**`x in s`: 如果`s`中的某项等于`x`则结果为`True`，否则为`False`**"
   ]
  },
  {
   "cell_type": "code",
   "execution_count": 52,
   "id": "6057f9f3",
   "metadata": {},
   "outputs": [
    {
     "data": {
      "text/plain": [
       "[1, 2, 3, 2]"
      ]
     },
     "execution_count": 52,
     "metadata": {},
     "output_type": "execute_result"
    }
   ],
   "source": [
    "x"
   ]
  },
  {
   "cell_type": "code",
   "execution_count": 53,
   "id": "9ec49311",
   "metadata": {},
   "outputs": [
    {
     "data": {
      "text/plain": [
       "False"
      ]
     },
     "execution_count": 53,
     "metadata": {},
     "output_type": "execute_result"
    }
   ],
   "source": [
    "[1, 2] in x"
   ]
  },
  {
   "cell_type": "code",
   "execution_count": 54,
   "id": "593c9fb4",
   "metadata": {},
   "outputs": [
    {
     "data": {
      "text/plain": [
       "True"
      ]
     },
     "execution_count": 54,
     "metadata": {},
     "output_type": "execute_result"
    }
   ],
   "source": [
    "1 in x"
   ]
  },
  {
   "cell_type": "markdown",
   "id": "148549aa",
   "metadata": {},
   "source": [
    "**`s + t`: `s`与`t`相拼接**"
   ]
  },
  {
   "cell_type": "code",
   "execution_count": 55,
   "id": "a702b8bb",
   "metadata": {},
   "outputs": [
    {
     "data": {
      "text/plain": [
       "[1, 2, 3, 'abc', 'def']"
      ]
     },
     "execution_count": 55,
     "metadata": {},
     "output_type": "execute_result"
    }
   ],
   "source": [
    "s = [1, 2, 3]\n",
    "t = [\"abc\", \"def\"]\n",
    "s + t"
   ]
  },
  {
   "cell_type": "code",
   "execution_count": 56,
   "id": "584f40b6",
   "metadata": {},
   "outputs": [
    {
     "data": {
      "text/plain": [
       "[1, 2, 3, 'abc', 'def']"
      ]
     },
     "execution_count": 56,
     "metadata": {},
     "output_type": "execute_result"
    }
   ],
   "source": [
    "_"
   ]
  },
  {
   "cell_type": "code",
   "execution_count": 57,
   "id": "8fa3203a",
   "metadata": {},
   "outputs": [
    {
     "data": {
      "text/plain": [
       "'abc'"
      ]
     },
     "execution_count": 57,
     "metadata": {},
     "output_type": "execute_result"
    }
   ],
   "source": [
    "_[3]"
   ]
  },
  {
   "cell_type": "code",
   "execution_count": 58,
   "id": "939369a0",
   "metadata": {},
   "outputs": [],
   "source": [
    "x = s + t"
   ]
  },
  {
   "cell_type": "code",
   "execution_count": 59,
   "id": "0b4d67f6",
   "metadata": {},
   "outputs": [
    {
     "data": {
      "text/plain": [
       "[1, 2, 3, 'xyz', 'def']"
      ]
     },
     "execution_count": 59,
     "metadata": {},
     "output_type": "execute_result"
    }
   ],
   "source": [
    "x[3] = 'xyz'\n",
    "x"
   ]
  },
  {
   "cell_type": "markdown",
   "id": "d03c6845",
   "metadata": {},
   "source": [
    "**`s * n`: 相当于`s`与自身进行`n`次拼接**"
   ]
  },
  {
   "cell_type": "code",
   "execution_count": 60,
   "id": "62ade410",
   "metadata": {},
   "outputs": [
    {
     "data": {
      "text/plain": [
       "[1, 2, 3, 'xyz', 'def', 1, 2, 3, 'xyz', 'def']"
      ]
     },
     "execution_count": 60,
     "metadata": {},
     "output_type": "execute_result"
    }
   ],
   "source": [
    "x * 2"
   ]
  },
  {
   "cell_type": "markdown",
   "id": "8346ff9a",
   "metadata": {},
   "source": [
    "**`[]`: 空列表**"
   ]
  },
  {
   "cell_type": "code",
   "execution_count": 61,
   "id": "34d67202",
   "metadata": {},
   "outputs": [],
   "source": [
    "x = []"
   ]
  },
  {
   "cell_type": "code",
   "execution_count": 62,
   "id": "5e5ad87d",
   "metadata": {},
   "outputs": [
    {
     "data": {
      "text/plain": [
       "[1]"
      ]
     },
     "execution_count": 62,
     "metadata": {},
     "output_type": "execute_result"
    }
   ],
   "source": [
    "x.append(1)\n",
    "x"
   ]
  },
  {
   "cell_type": "code",
   "execution_count": 63,
   "id": "4b9b3cf4",
   "metadata": {},
   "outputs": [
    {
     "data": {
      "text/plain": [
       "1"
      ]
     },
     "execution_count": 63,
     "metadata": {},
     "output_type": "execute_result"
    }
   ],
   "source": [
    "len(x)"
   ]
  },
  {
   "cell_type": "markdown",
   "id": "512f942d",
   "metadata": {},
   "source": [
    "**`[[]]`: 一个包含了一个空列表的单元素列表**"
   ]
  },
  {
   "cell_type": "code",
   "execution_count": 64,
   "id": "9b6071fa",
   "metadata": {},
   "outputs": [
    {
     "data": {
      "text/plain": [
       "[[], [], []]"
      ]
     },
     "execution_count": 64,
     "metadata": {},
     "output_type": "execute_result"
    }
   ],
   "source": [
    "x = [[]] * 3\n",
    "x"
   ]
  },
  {
   "cell_type": "code",
   "execution_count": 65,
   "id": "adb05042",
   "metadata": {},
   "outputs": [
    {
     "data": {
      "text/plain": [
       "[[2], [2], [2]]"
      ]
     },
     "execution_count": 65,
     "metadata": {},
     "output_type": "execute_result"
    }
   ],
   "source": [
    "x[1].append(2)\n",
    "x"
   ]
  },
  {
   "cell_type": "code",
   "execution_count": 66,
   "id": "58a049ba",
   "metadata": {},
   "outputs": [],
   "source": [
    "x = [[], [], []]"
   ]
  },
  {
   "cell_type": "code",
   "execution_count": 67,
   "id": "ad647f3f",
   "metadata": {},
   "outputs": [
    {
     "data": {
      "text/plain": [
       "[[], [2], []]"
      ]
     },
     "execution_count": 67,
     "metadata": {},
     "output_type": "execute_result"
    }
   ],
   "source": [
    "x[1].append(2)\n",
    "x"
   ]
  },
  {
   "cell_type": "markdown",
   "id": "eb673be8",
   "metadata": {},
   "source": [
    "**`s[i]`: `s`的第`i`项**"
   ]
  },
  {
   "cell_type": "code",
   "execution_count": 68,
   "id": "78082f4d",
   "metadata": {},
   "outputs": [],
   "source": [
    "x = [1, 2, 3, 4]"
   ]
  },
  {
   "cell_type": "code",
   "execution_count": 69,
   "id": "ee2a3668",
   "metadata": {},
   "outputs": [
    {
     "data": {
      "text/plain": [
       "2"
      ]
     },
     "execution_count": 69,
     "metadata": {},
     "output_type": "execute_result"
    }
   ],
   "source": [
    "x[1]"
   ]
  },
  {
   "cell_type": "code",
   "execution_count": 70,
   "id": "59007c7b",
   "metadata": {},
   "outputs": [
    {
     "data": {
      "text/plain": [
       "4"
      ]
     },
     "execution_count": 70,
     "metadata": {},
     "output_type": "execute_result"
    }
   ],
   "source": [
    "x[-1]   # 倒数第1个元素"
   ]
  },
  {
   "cell_type": "code",
   "execution_count": 71,
   "id": "90402844",
   "metadata": {},
   "outputs": [
    {
     "data": {
      "text/plain": [
       "3"
      ]
     },
     "execution_count": 71,
     "metadata": {},
     "output_type": "execute_result"
    }
   ],
   "source": [
    "x[-2]   # 倒数第2个元素"
   ]
  },
  {
   "cell_type": "markdown",
   "id": "84eb27a9",
   "metadata": {},
   "source": [
    "**`s[i:j]`: `s`从`i`到`j`的切片. `i`表示开始位置, `j`表示结束位置的前一个位置**"
   ]
  },
  {
   "cell_type": "code",
   "execution_count": 72,
   "id": "df13c1d2",
   "metadata": {},
   "outputs": [
    {
     "data": {
      "text/plain": [
       "[2, 3]"
      ]
     },
     "execution_count": 72,
     "metadata": {},
     "output_type": "execute_result"
    }
   ],
   "source": [
    "y = x[1:3]      # 将x[1] - x[2]进行切片\n",
    "y"
   ]
  },
  {
   "cell_type": "markdown",
   "id": "7d9577aa",
   "metadata": {},
   "source": [
    "**`s[i:j:k]`: `s`从`i`到`j`步长为`k`的切片. `i`表示起始位置, `j`表示结束位置的前一个位置, `k`表示步长**"
   ]
  },
  {
   "cell_type": "code",
   "execution_count": 73,
   "id": "0dcf8938",
   "metadata": {},
   "outputs": [
    {
     "data": {
      "text/plain": [
       "[1, 2, 3, 4]"
      ]
     },
     "execution_count": 73,
     "metadata": {},
     "output_type": "execute_result"
    }
   ],
   "source": [
    "x"
   ]
  },
  {
   "cell_type": "code",
   "execution_count": 74,
   "id": "bf4fa08c",
   "metadata": {},
   "outputs": [
    {
     "data": {
      "text/plain": [
       "[1, 3]"
      ]
     },
     "execution_count": 74,
     "metadata": {},
     "output_type": "execute_result"
    }
   ],
   "source": [
    "x[0:4:2]        # 将x[0], x[2] (x[4]不要) 进行切片"
   ]
  },
  {
   "cell_type": "code",
   "execution_count": 75,
   "id": "46f478b0",
   "metadata": {},
   "outputs": [
    {
     "data": {
      "text/plain": [
       "[2, 4]"
      ]
     },
     "execution_count": 75,
     "metadata": {},
     "output_type": "execute_result"
    }
   ],
   "source": [
    "x[1::2]         # j省略表示取全部元素, 将x[1], x[3]进行切片"
   ]
  },
  {
   "cell_type": "markdown",
   "id": "b54998bf",
   "metadata": {},
   "source": [
    "**`min(s)`: `s`的最小项**"
   ]
  },
  {
   "cell_type": "code",
   "execution_count": 76,
   "id": "6a59caa5",
   "metadata": {},
   "outputs": [
    {
     "data": {
      "text/plain": [
       "[1, 2, 3, 4]"
      ]
     },
     "execution_count": 76,
     "metadata": {},
     "output_type": "execute_result"
    }
   ],
   "source": [
    "x"
   ]
  },
  {
   "cell_type": "code",
   "execution_count": 77,
   "id": "bf40a45b",
   "metadata": {},
   "outputs": [
    {
     "data": {
      "text/plain": [
       "1"
      ]
     },
     "execution_count": 77,
     "metadata": {},
     "output_type": "execute_result"
    }
   ],
   "source": [
    "min(x)"
   ]
  },
  {
   "cell_type": "code",
   "execution_count": 78,
   "id": "89061483",
   "metadata": {},
   "outputs": [
    {
     "data": {
      "text/plain": [
       "'abc'"
      ]
     },
     "execution_count": 78,
     "metadata": {},
     "output_type": "execute_result"
    }
   ],
   "source": [
    "x = ['abc', 'def']\n",
    "min(x)"
   ]
  },
  {
   "cell_type": "code",
   "execution_count": 79,
   "id": "a8f35686",
   "metadata": {},
   "outputs": [
    {
     "data": {
      "text/plain": [
       "['abc', 'def', 1]"
      ]
     },
     "execution_count": 79,
     "metadata": {},
     "output_type": "execute_result"
    }
   ],
   "source": [
    "x = x + [1]\n",
    "x"
   ]
  },
  {
   "cell_type": "code",
   "execution_count": 80,
   "id": "937708dd",
   "metadata": {},
   "outputs": [],
   "source": [
    "# min(x)"
   ]
  },
  {
   "cell_type": "markdown",
   "id": "e89fa541",
   "metadata": {},
   "source": [
    "**`max(s)`: `s`的最大项**"
   ]
  },
  {
   "cell_type": "code",
   "execution_count": 81,
   "id": "68ba45c9",
   "metadata": {},
   "outputs": [
    {
     "data": {
      "text/plain": [
       "3"
      ]
     },
     "execution_count": 81,
     "metadata": {},
     "output_type": "execute_result"
    }
   ],
   "source": [
    "x = [1, 3, 2.5]\n",
    "max(x)"
   ]
  },
  {
   "cell_type": "markdown",
   "id": "a09759b6",
   "metadata": {},
   "source": [
    "**`s.index(x[, i[, j]])`: `x`在`s`中首次出现项的索引号（索引号在`i`或其后且在`j`之前）**"
   ]
  },
  {
   "cell_type": "code",
   "execution_count": 82,
   "id": "c0c32c83",
   "metadata": {},
   "outputs": [
    {
     "data": {
      "text/plain": [
       "[1, 3, 2.5]"
      ]
     },
     "execution_count": 82,
     "metadata": {},
     "output_type": "execute_result"
    }
   ],
   "source": [
    "x"
   ]
  },
  {
   "cell_type": "code",
   "execution_count": 83,
   "id": "ece748e4",
   "metadata": {},
   "outputs": [
    {
     "data": {
      "text/plain": [
       "1"
      ]
     },
     "execution_count": 83,
     "metadata": {},
     "output_type": "execute_result"
    }
   ],
   "source": [
    "x.index(3)"
   ]
  },
  {
   "cell_type": "code",
   "execution_count": 84,
   "id": "baeacd18",
   "metadata": {},
   "outputs": [],
   "source": [
    "# x.index('abc')"
   ]
  },
  {
   "cell_type": "markdown",
   "id": "784cbd8f",
   "metadata": {},
   "source": [
    "**`s.count(x)`: `x`在`s`中出现的总次数. 做`=`比较, 而不是`is`比较.**"
   ]
  },
  {
   "cell_type": "code",
   "execution_count": 85,
   "id": "0716a5e8",
   "metadata": {},
   "outputs": [],
   "source": [
    "x = ['abc', 'abc', 1, 2]"
   ]
  },
  {
   "cell_type": "code",
   "execution_count": 86,
   "id": "590b43bd",
   "metadata": {},
   "outputs": [
    {
     "data": {
      "text/plain": [
       "2"
      ]
     },
     "execution_count": 86,
     "metadata": {},
     "output_type": "execute_result"
    }
   ],
   "source": [
    "x.count('abc')"
   ]
  },
  {
   "cell_type": "code",
   "execution_count": 87,
   "id": "8000ad4b",
   "metadata": {},
   "outputs": [],
   "source": [
    "x = [[], [], []]"
   ]
  },
  {
   "cell_type": "code",
   "execution_count": 88,
   "id": "ee185510",
   "metadata": {},
   "outputs": [
    {
     "data": {
      "text/plain": [
       "3"
      ]
     },
     "execution_count": 88,
     "metadata": {},
     "output_type": "execute_result"
    }
   ],
   "source": [
    "x.count([])"
   ]
  },
  {
   "cell_type": "markdown",
   "id": "638575e4",
   "metadata": {},
   "source": [
    "## 2.2 tuple"
   ]
  },
  {
   "cell_type": "markdown",
   "id": "af5f874a",
   "metadata": {},
   "source": [
    "`tuple`只读, 不可写"
   ]
  },
  {
   "cell_type": "code",
   "execution_count": 89,
   "id": "21f90837",
   "metadata": {},
   "outputs": [],
   "source": [
    "x = (1, 2, 3)"
   ]
  },
  {
   "cell_type": "code",
   "execution_count": 90,
   "id": "4eb6cc09",
   "metadata": {},
   "outputs": [
    {
     "data": {
      "text/plain": [
       "tuple"
      ]
     },
     "execution_count": 90,
     "metadata": {},
     "output_type": "execute_result"
    }
   ],
   "source": [
    "type(x)"
   ]
  },
  {
   "cell_type": "code",
   "execution_count": 91,
   "id": "2dcf70ad",
   "metadata": {},
   "outputs": [
    {
     "data": {
      "text/plain": [
       "2"
      ]
     },
     "execution_count": 91,
     "metadata": {},
     "output_type": "execute_result"
    }
   ],
   "source": [
    "x[1]"
   ]
  },
  {
   "cell_type": "code",
   "execution_count": 92,
   "id": "a423bb5b",
   "metadata": {},
   "outputs": [
    {
     "data": {
      "text/plain": [
       "(1, 2)"
      ]
     },
     "execution_count": 92,
     "metadata": {},
     "output_type": "execute_result"
    }
   ],
   "source": [
    "x[0:2]"
   ]
  },
  {
   "cell_type": "markdown",
   "id": "a0382023",
   "metadata": {},
   "source": [
    "**`list`和`tuple`进行类型转换**"
   ]
  },
  {
   "cell_type": "code",
   "execution_count": 93,
   "id": "1fa5d757",
   "metadata": {},
   "outputs": [
    {
     "data": {
      "text/plain": [
       "[1, 2, 3]"
      ]
     },
     "execution_count": 93,
     "metadata": {},
     "output_type": "execute_result"
    }
   ],
   "source": [
    "x = [1, 2, 3]\n",
    "x"
   ]
  },
  {
   "cell_type": "code",
   "execution_count": 94,
   "id": "627e7963",
   "metadata": {},
   "outputs": [
    {
     "data": {
      "text/plain": [
       "(1, 2, 3)"
      ]
     },
     "execution_count": 94,
     "metadata": {},
     "output_type": "execute_result"
    }
   ],
   "source": [
    "x = tuple(x)\n",
    "x"
   ]
  },
  {
   "cell_type": "code",
   "execution_count": 95,
   "id": "3cea960e",
   "metadata": {},
   "outputs": [
    {
     "data": {
      "text/plain": [
       "2"
      ]
     },
     "execution_count": 95,
     "metadata": {},
     "output_type": "execute_result"
    }
   ],
   "source": [
    "x[1]"
   ]
  },
  {
   "cell_type": "code",
   "execution_count": 96,
   "id": "650d9d5f",
   "metadata": {},
   "outputs": [],
   "source": [
    "# x[1] = 'abc'"
   ]
  },
  {
   "cell_type": "code",
   "execution_count": 97,
   "id": "b5ac3c4a",
   "metadata": {},
   "outputs": [],
   "source": [
    "x1 = [1, 2]\n",
    "x2 = [3, 4]\n",
    "x3 = [5, 6]"
   ]
  },
  {
   "cell_type": "code",
   "execution_count": 98,
   "id": "f9a6aee1",
   "metadata": {},
   "outputs": [
    {
     "data": {
      "text/plain": [
       "([1, 2], [3, 4], [5, 6])"
      ]
     },
     "execution_count": 98,
     "metadata": {},
     "output_type": "execute_result"
    }
   ],
   "source": [
    "x = (x1, x2, x3)\n",
    "x"
   ]
  },
  {
   "cell_type": "code",
   "execution_count": 99,
   "id": "e788cca4",
   "metadata": {},
   "outputs": [
    {
     "data": {
      "text/plain": [
       "([1, 2], [3, 4], [5, 6])"
      ]
     },
     "execution_count": 99,
     "metadata": {},
     "output_type": "execute_result"
    }
   ],
   "source": [
    "x1 = ['a', 'b']\n",
    "x"
   ]
  },
  {
   "cell_type": "code",
   "execution_count": 100,
   "id": "49aa8567",
   "metadata": {},
   "outputs": [
    {
     "data": {
      "text/plain": [
       "([1, 2], [3, 4, 'abc'], [5, 6])"
      ]
     },
     "execution_count": 100,
     "metadata": {},
     "output_type": "execute_result"
    }
   ],
   "source": [
    "x2.append('abc')\n",
    "x"
   ]
  },
  {
   "cell_type": "markdown",
   "id": "27a0e2b3",
   "metadata": {},
   "source": [
    "**删除`list`元素: `del`**"
   ]
  },
  {
   "cell_type": "code",
   "execution_count": 101,
   "id": "0ab994cf",
   "metadata": {},
   "outputs": [],
   "source": [
    "x = [1, 2, 3]"
   ]
  },
  {
   "cell_type": "code",
   "execution_count": 102,
   "id": "847170b4",
   "metadata": {},
   "outputs": [
    {
     "data": {
      "text/plain": [
       "[1, 3]"
      ]
     },
     "execution_count": 102,
     "metadata": {},
     "output_type": "execute_result"
    }
   ],
   "source": [
    "del x[1]\n",
    "x"
   ]
  },
  {
   "cell_type": "markdown",
   "id": "d887b50d",
   "metadata": {},
   "source": [
    "## 2.3 字符串类型"
   ]
  },
  {
   "cell_type": "markdown",
   "id": "f9066e30",
   "metadata": {},
   "source": [
    "字符串是只读类型"
   ]
  },
  {
   "cell_type": "markdown",
   "id": "b752d6d6",
   "metadata": {},
   "source": [
    "### 2.3.1 定义"
   ]
  },
  {
   "cell_type": "code",
   "execution_count": 103,
   "id": "3eea812b",
   "metadata": {},
   "outputs": [
    {
     "data": {
      "text/plain": [
       "'This is a example'"
      ]
     },
     "execution_count": 103,
     "metadata": {},
     "output_type": "execute_result"
    }
   ],
   "source": [
    "s = 'This is a example'\n",
    "s"
   ]
  },
  {
   "cell_type": "code",
   "execution_count": 104,
   "id": "53397819",
   "metadata": {},
   "outputs": [
    {
     "data": {
      "text/plain": [
       "'This is another example'"
      ]
     },
     "execution_count": 104,
     "metadata": {},
     "output_type": "execute_result"
    }
   ],
   "source": [
    "s = \"This is another example\"\n",
    "s"
   ]
  },
  {
   "cell_type": "code",
   "execution_count": 105,
   "id": "413a9ea1",
   "metadata": {},
   "outputs": [
    {
     "data": {
      "text/plain": [
       "'abcd'"
      ]
     },
     "execution_count": 105,
     "metadata": {},
     "output_type": "execute_result"
    }
   ],
   "source": [
    "s = \"\"\"abcd\"\"\"\n",
    "s"
   ]
  },
  {
   "cell_type": "markdown",
   "id": "63a54c1f",
   "metadata": {},
   "source": [
    "**句子里有`'`就用`\"`, 句子里`'`和`\"`都有就用`\\`转义字符或`\"\"\"`**"
   ]
  },
  {
   "cell_type": "code",
   "execution_count": 106,
   "id": "d0cf89d1",
   "metadata": {},
   "outputs": [
    {
     "data": {
      "text/plain": [
       "\"I'm a batman\""
      ]
     },
     "execution_count": 106,
     "metadata": {},
     "output_type": "execute_result"
    }
   ],
   "source": [
    "'I\\'m a batman'"
   ]
  },
  {
   "cell_type": "code",
   "execution_count": 107,
   "id": "2a1af752",
   "metadata": {},
   "outputs": [
    {
     "data": {
      "text/plain": [
       "\"I'm a batman\""
      ]
     },
     "execution_count": 107,
     "metadata": {},
     "output_type": "execute_result"
    }
   ],
   "source": [
    "\"I'm a batman\""
   ]
  },
  {
   "cell_type": "markdown",
   "id": "9a5cb1ed",
   "metadata": {},
   "source": [
    "**转义字符`\\`&`r`: 告诉`python`解释器不要把`\\`看成转义字符, 而就是`\\`本身**"
   ]
  },
  {
   "cell_type": "code",
   "execution_count": 108,
   "id": "2b7eba56",
   "metadata": {},
   "outputs": [
    {
     "data": {
      "text/plain": [
       "\"'\""
      ]
     },
     "execution_count": 108,
     "metadata": {},
     "output_type": "execute_result"
    }
   ],
   "source": [
    "'\\''"
   ]
  },
  {
   "cell_type": "code",
   "execution_count": 109,
   "id": "c4bc6948",
   "metadata": {},
   "outputs": [
    {
     "data": {
      "text/plain": [
       "'\\\\'"
      ]
     },
     "execution_count": 109,
     "metadata": {},
     "output_type": "execute_result"
    }
   ],
   "source": [
    "'\\\\'"
   ]
  },
  {
   "cell_type": "code",
   "execution_count": 110,
   "id": "42f53f22",
   "metadata": {},
   "outputs": [
    {
     "name": "stdout",
     "output_type": "stream",
     "text": [
      "d:\\dir\u0007.txt\n"
     ]
    }
   ],
   "source": [
    "s = 'd:\\dir\\a.txt'\n",
    "print(s)"
   ]
  },
  {
   "cell_type": "code",
   "execution_count": 111,
   "id": "36f94e6f",
   "metadata": {},
   "outputs": [
    {
     "name": "stdout",
     "output_type": "stream",
     "text": [
      "d:\\dir\\a.txt\n"
     ]
    }
   ],
   "source": [
    "s = 'd:\\\\dir\\\\a.txt'\n",
    "print(s)"
   ]
  },
  {
   "cell_type": "code",
   "execution_count": 112,
   "id": "3d830e12",
   "metadata": {},
   "outputs": [
    {
     "name": "stdout",
     "output_type": "stream",
     "text": [
      "d:\\dir\\a.txt\n"
     ]
    }
   ],
   "source": [
    "s = r'd:\\dir\\a.txt'\n",
    "print(s)"
   ]
  },
  {
   "cell_type": "markdown",
   "id": "7e170c9f",
   "metadata": {},
   "source": [
    "**`UNICODE`编码**"
   ]
  },
  {
   "cell_type": "code",
   "execution_count": 113,
   "id": "29cc9e26",
   "metadata": {},
   "outputs": [
    {
     "data": {
      "text/plain": [
       "'中文'"
      ]
     },
     "execution_count": 113,
     "metadata": {},
     "output_type": "execute_result"
    }
   ],
   "source": [
    "s = '中文'\n",
    "s"
   ]
  },
  {
   "cell_type": "code",
   "execution_count": 114,
   "id": "fff0405b",
   "metadata": {},
   "outputs": [
    {
     "data": {
      "text/plain": [
       "'文'"
      ]
     },
     "execution_count": 114,
     "metadata": {},
     "output_type": "execute_result"
    }
   ],
   "source": [
    "s[1]"
   ]
  },
  {
   "cell_type": "markdown",
   "id": "ae2c6a66",
   "metadata": {},
   "source": [
    "**字符串拼接**"
   ]
  },
  {
   "cell_type": "code",
   "execution_count": 115,
   "id": "837c08ee",
   "metadata": {},
   "outputs": [
    {
     "data": {
      "text/plain": [
       "'abcdef'"
      ]
     },
     "execution_count": 115,
     "metadata": {},
     "output_type": "execute_result"
    }
   ],
   "source": [
    "'abc' + 'def'"
   ]
  },
  {
   "cell_type": "code",
   "execution_count": 116,
   "id": "ee11983e",
   "metadata": {},
   "outputs": [
    {
     "data": {
      "text/plain": [
       "'abc12'"
      ]
     },
     "execution_count": 116,
     "metadata": {},
     "output_type": "execute_result"
    }
   ],
   "source": [
    "'abc' + str(12)"
   ]
  },
  {
   "cell_type": "markdown",
   "id": "b14af634",
   "metadata": {},
   "source": [
    "### 2.3.2 格式化"
   ]
  },
  {
   "cell_type": "markdown",
   "id": "f94341c6",
   "metadata": {},
   "source": [
    "#### (1). `+`"
   ]
  },
  {
   "cell_type": "code",
   "execution_count": 117,
   "id": "c9a9457f",
   "metadata": {},
   "outputs": [],
   "source": [
    "name = 'Mike'\n",
    "age = 12"
   ]
  },
  {
   "cell_type": "code",
   "execution_count": 118,
   "id": "5a6a95eb",
   "metadata": {},
   "outputs": [
    {
     "data": {
      "text/plain": [
       "'Mike is 12 years old.'"
      ]
     },
     "execution_count": 118,
     "metadata": {},
     "output_type": "execute_result"
    }
   ],
   "source": [
    "msg = name + ' is ' + str(age) + ' years old.'\n",
    "msg"
   ]
  },
  {
   "cell_type": "markdown",
   "id": "8fcba04b",
   "metadata": {},
   "source": [
    "#### (2). `%`:  str`%`tuple"
   ]
  },
  {
   "cell_type": "code",
   "execution_count": 119,
   "id": "7ea66e75",
   "metadata": {},
   "outputs": [
    {
     "data": {
      "text/plain": [
       "'Mike is 12 years old.'"
      ]
     },
     "execution_count": 119,
     "metadata": {},
     "output_type": "execute_result"
    }
   ],
   "source": [
    "pattern = '%s is %d years old.'\n",
    "msg = pattern % (name, age)\n",
    "msg"
   ]
  },
  {
   "cell_type": "code",
   "execution_count": 120,
   "id": "f2f6723a",
   "metadata": {},
   "outputs": [
    {
     "data": {
      "text/plain": [
       "'      Mike is 12 years old.'"
      ]
     },
     "execution_count": 120,
     "metadata": {},
     "output_type": "execute_result"
    }
   ],
   "source": [
    "pattern = '%10s is %d years old.'\n",
    "msg = pattern % (name, age)\n",
    "msg"
   ]
  },
  {
   "cell_type": "markdown",
   "id": "762dcf1c",
   "metadata": {},
   "source": [
    "#### (3). `format`: \"...\".format( , , )"
   ]
  },
  {
   "cell_type": "code",
   "execution_count": 121,
   "id": "6cb95e5b",
   "metadata": {},
   "outputs": [
    {
     "data": {
      "text/plain": [
       "'1 + 21 = 22'"
      ]
     },
     "execution_count": 121,
     "metadata": {},
     "output_type": "execute_result"
    }
   ],
   "source": [
    "msg = '{:d} + {:d} = {:d}'.format(1, 21, 22)\n",
    "msg"
   ]
  },
  {
   "cell_type": "code",
   "execution_count": 122,
   "id": "c83559ec",
   "metadata": {},
   "outputs": [
    {
     "data": {
      "text/plain": [
       "'21 + 1 = 22'"
      ]
     },
     "execution_count": 122,
     "metadata": {},
     "output_type": "execute_result"
    }
   ],
   "source": [
    "msg = '{1:d} + {0:d} = {2:d}'.format(1, 21, 22)\n",
    "msg"
   ]
  },
  {
   "cell_type": "code",
   "execution_count": 123,
   "id": "ba75389b",
   "metadata": {},
   "outputs": [
    {
     "data": {
      "text/plain": [
       "'10 + 10 + 10 + 1'"
      ]
     },
     "execution_count": 123,
     "metadata": {},
     "output_type": "execute_result"
    }
   ],
   "source": [
    "msg = \"{1:d} + {1:d} + {1:d} + {0:d}\".format(1, 10)\n",
    "msg"
   ]
  },
  {
   "cell_type": "markdown",
   "id": "b830db95",
   "metadata": {},
   "source": [
    "#### (4). `f'`"
   ]
  },
  {
   "cell_type": "code",
   "execution_count": 124,
   "id": "c35f7cf4",
   "metadata": {},
   "outputs": [
    {
     "data": {
      "text/plain": [
       "('Mike', 12)"
      ]
     },
     "execution_count": 124,
     "metadata": {},
     "output_type": "execute_result"
    }
   ],
   "source": [
    "name, age"
   ]
  },
  {
   "cell_type": "code",
   "execution_count": 125,
   "id": "14d12039",
   "metadata": {},
   "outputs": [
    {
     "data": {
      "text/plain": [
       "'Mike is 12 years old.'"
      ]
     },
     "execution_count": 125,
     "metadata": {},
     "output_type": "execute_result"
    }
   ],
   "source": [
    "f'{name} is {age} years old.'"
   ]
  },
  {
   "cell_type": "markdown",
   "id": "40b8e08e",
   "metadata": {},
   "source": [
    "### 2.3.3 其他"
   ]
  },
  {
   "cell_type": "markdown",
   "id": "17df4bc0",
   "metadata": {},
   "source": [
    "字符串拼接与复制"
   ]
  },
  {
   "cell_type": "code",
   "execution_count": 126,
   "id": "6735e808",
   "metadata": {},
   "outputs": [
    {
     "data": {
      "text/plain": [
       "'Hello Hello Hello '"
      ]
     },
     "execution_count": 126,
     "metadata": {},
     "output_type": "execute_result"
    }
   ],
   "source": [
    "'Hello ' * 3"
   ]
  },
  {
   "cell_type": "code",
   "execution_count": 127,
   "id": "9f7e241b",
   "metadata": {},
   "outputs": [
    {
     "data": {
      "text/plain": [
       "'Hello World'"
      ]
     },
     "execution_count": 127,
     "metadata": {},
     "output_type": "execute_result"
    }
   ],
   "source": [
    "'Hello' + ' World'"
   ]
  },
  {
   "cell_type": "markdown",
   "id": "e534d03b",
   "metadata": {},
   "source": [
    "`str1` in `str2`"
   ]
  },
  {
   "cell_type": "code",
   "execution_count": 128,
   "id": "53e73163",
   "metadata": {},
   "outputs": [],
   "source": [
    "s = 'abcdefg'"
   ]
  },
  {
   "cell_type": "code",
   "execution_count": 129,
   "id": "44f44950",
   "metadata": {},
   "outputs": [
    {
     "data": {
      "text/plain": [
       "True"
      ]
     },
     "execution_count": 129,
     "metadata": {},
     "output_type": "execute_result"
    }
   ],
   "source": [
    "'abc' in s"
   ]
  },
  {
   "cell_type": "markdown",
   "id": "fd66d549",
   "metadata": {},
   "source": [
    "`s.isascii()`: 如果字符串为空或字符串中的所有字符都是`ASCII`，返回`True`，否则返回`False`"
   ]
  },
  {
   "cell_type": "code",
   "execution_count": 130,
   "id": "df39271c",
   "metadata": {},
   "outputs": [
    {
     "data": {
      "text/plain": [
       "True"
      ]
     },
     "execution_count": 130,
     "metadata": {},
     "output_type": "execute_result"
    }
   ],
   "source": [
    "s.isascii()"
   ]
  },
  {
   "cell_type": "code",
   "execution_count": 131,
   "id": "546ca162",
   "metadata": {},
   "outputs": [
    {
     "data": {
      "text/plain": [
       "False"
      ]
     },
     "execution_count": 131,
     "metadata": {},
     "output_type": "execute_result"
    }
   ],
   "source": [
    "'中文abc'.isascii()"
   ]
  },
  {
   "cell_type": "markdown",
   "id": "1770f3d9",
   "metadata": {},
   "source": [
    "`s.join(iterable)`: 返回一个由`iterable`中的字符串拼接而成的字符串"
   ]
  },
  {
   "cell_type": "code",
   "execution_count": 132,
   "id": "2a476893",
   "metadata": {},
   "outputs": [
    {
     "data": {
      "text/plain": [
       "['Alice', 'Bob', 'Clark']"
      ]
     },
     "execution_count": 132,
     "metadata": {},
     "output_type": "execute_result"
    }
   ],
   "source": [
    "names = ['Alice', 'Bob', 'Clark']\n",
    "names"
   ]
  },
  {
   "cell_type": "code",
   "execution_count": 133,
   "id": "f497031b",
   "metadata": {},
   "outputs": [
    {
     "data": {
      "text/plain": [
       "'Alice,Bob,Clark'"
      ]
     },
     "execution_count": 133,
     "metadata": {},
     "output_type": "execute_result"
    }
   ],
   "source": [
    "\",\".join(names)"
   ]
  },
  {
   "cell_type": "code",
   "execution_count": 134,
   "id": "658a48e7",
   "metadata": {},
   "outputs": [
    {
     "data": {
      "text/plain": [
       "'Alice, Bob, Clark'"
      ]
     },
     "execution_count": 134,
     "metadata": {},
     "output_type": "execute_result"
    }
   ],
   "source": [
    "\", \".join(names)"
   ]
  },
  {
   "cell_type": "markdown",
   "id": "c6b45762",
   "metadata": {},
   "source": [
    "`s.replace(old, new[, count])`: 返回字符串的副本，其中出现的所有子字符串`old`都将被替换为`new`"
   ]
  },
  {
   "cell_type": "code",
   "execution_count": 135,
   "id": "46cb186c",
   "metadata": {},
   "outputs": [
    {
     "data": {
      "text/plain": [
       "'Angelababy is well'"
      ]
     },
     "execution_count": 135,
     "metadata": {},
     "output_type": "execute_result"
    }
   ],
   "source": [
    "s = 'ab is well'\n",
    "s.replace('ab', 'Angelababy')"
   ]
  },
  {
   "cell_type": "code",
   "execution_count": 136,
   "id": "20d21c89",
   "metadata": {},
   "outputs": [
    {
     "data": {
      "text/plain": [
       "'AngelaBaby is the wife of @actor2'"
      ]
     },
     "execution_count": 136,
     "metadata": {},
     "output_type": "execute_result"
    }
   ],
   "source": [
    "s = '@actor1 is the wife of @actor2'\n",
    "s.replace('@actor1', 'AngelaBaby')"
   ]
  },
  {
   "cell_type": "code",
   "execution_count": 137,
   "id": "6b006998",
   "metadata": {},
   "outputs": [
    {
     "data": {
      "text/plain": [
       "'@actor1 is the wife of Huang'"
      ]
     },
     "execution_count": 137,
     "metadata": {},
     "output_type": "execute_result"
    }
   ],
   "source": [
    "s.replace('@actor2', 'Huang')"
   ]
  },
  {
   "cell_type": "markdown",
   "id": "2f53d01f",
   "metadata": {},
   "source": [
    "`str.split(sep=None, maxsplit=- 1)`: 返回一个由字符串内单词组成的列表，使用`sep`作为分隔字符串"
   ]
  },
  {
   "cell_type": "code",
   "execution_count": 138,
   "id": "0f495053",
   "metadata": {},
   "outputs": [
    {
     "data": {
      "text/plain": [
       "'1,2,3,45,78,99'"
      ]
     },
     "execution_count": 138,
     "metadata": {},
     "output_type": "execute_result"
    }
   ],
   "source": [
    "text = '1,2,3,45,78,99'\n",
    "text"
   ]
  },
  {
   "cell_type": "code",
   "execution_count": 139,
   "id": "7a805f89",
   "metadata": {},
   "outputs": [
    {
     "data": {
      "text/plain": [
       "['1', '2', '3', '45', '78', '99']"
      ]
     },
     "execution_count": 139,
     "metadata": {},
     "output_type": "execute_result"
    }
   ],
   "source": [
    "text.split(',')"
   ]
  },
  {
   "cell_type": "code",
   "execution_count": 140,
   "id": "86ed6d12",
   "metadata": {},
   "outputs": [
    {
     "data": {
      "text/plain": [
       "'2'"
      ]
     },
     "execution_count": 140,
     "metadata": {},
     "output_type": "execute_result"
    }
   ],
   "source": [
    "text[2]"
   ]
  },
  {
   "cell_type": "code",
   "execution_count": 141,
   "id": "fd9fcc5a",
   "metadata": {},
   "outputs": [
    {
     "data": {
      "text/plain": [
       "'2,3,4'"
      ]
     },
     "execution_count": 141,
     "metadata": {},
     "output_type": "execute_result"
    }
   ],
   "source": [
    "text[2:7]"
   ]
  },
  {
   "cell_type": "code",
   "execution_count": 142,
   "id": "0eed65bc",
   "metadata": {},
   "outputs": [
    {
     "data": {
      "text/plain": [
       "['1', ',', '2', ',', '3', ',', '4', '5', ',', '7', '8', ',', '9', '9']"
      ]
     },
     "execution_count": 142,
     "metadata": {},
     "output_type": "execute_result"
    }
   ],
   "source": [
    "seq = list(text)\n",
    "seq"
   ]
  },
  {
   "cell_type": "code",
   "execution_count": 143,
   "id": "839432a1",
   "metadata": {},
   "outputs": [
    {
     "data": {
      "text/plain": [
       "['A', ',', '2', ',', '3', ',', '4', '5', ',', '7', '8', ',', '9', '9']"
      ]
     },
     "execution_count": 143,
     "metadata": {},
     "output_type": "execute_result"
    }
   ],
   "source": [
    "seq[0] = 'A'\n",
    "seq"
   ]
  },
  {
   "cell_type": "code",
   "execution_count": 144,
   "id": "a6f70ae9",
   "metadata": {},
   "outputs": [
    {
     "data": {
      "text/plain": [
       "\"['A', ',', '2', ',', '3', ',', '4', '5', ',', '7', '8', ',', '9', '9']\""
      ]
     },
     "execution_count": 144,
     "metadata": {},
     "output_type": "execute_result"
    }
   ],
   "source": [
    "str(seq)"
   ]
  },
  {
   "cell_type": "code",
   "execution_count": 145,
   "id": "648c76bd",
   "metadata": {},
   "outputs": [
    {
     "data": {
      "text/plain": [
       "''"
      ]
     },
     "execution_count": 145,
     "metadata": {},
     "output_type": "execute_result"
    }
   ],
   "source": [
    "s = ''\n",
    "s"
   ]
  },
  {
   "cell_type": "code",
   "execution_count": 146,
   "id": "ca18e210",
   "metadata": {},
   "outputs": [
    {
     "data": {
      "text/plain": [
       "'A'"
      ]
     },
     "execution_count": 146,
     "metadata": {},
     "output_type": "execute_result"
    }
   ],
   "source": [
    "s += seq[0]\n",
    "s"
   ]
  },
  {
   "cell_type": "code",
   "execution_count": 147,
   "id": "d276c340",
   "metadata": {},
   "outputs": [
    {
     "data": {
      "text/plain": [
       "'A,'"
      ]
     },
     "execution_count": 147,
     "metadata": {},
     "output_type": "execute_result"
    }
   ],
   "source": [
    "s += seq[1]\n",
    "s"
   ]
  },
  {
   "cell_type": "code",
   "execution_count": 148,
   "id": "9af0270f",
   "metadata": {},
   "outputs": [
    {
     "data": {
      "text/plain": [
       "'A,2'"
      ]
     },
     "execution_count": 148,
     "metadata": {},
     "output_type": "execute_result"
    }
   ],
   "source": [
    "s += seq[2]\n",
    "s"
   ]
  },
  {
   "cell_type": "markdown",
   "id": "cfa320da",
   "metadata": {},
   "source": [
    "# 3. 结构控制语句"
   ]
  },
  {
   "cell_type": "markdown",
   "id": "95627622",
   "metadata": {},
   "source": [
    "## 3.1 If语句"
   ]
  },
  {
   "cell_type": "markdown",
   "id": "deb95c06",
   "metadata": {},
   "source": [
    "### `if`"
   ]
  },
  {
   "cell_type": "code",
   "execution_count": 149,
   "id": "6e833b1d",
   "metadata": {},
   "outputs": [
    {
     "name": "stdout",
     "output_type": "stream",
     "text": [
      "P1z input score: 80\n",
      "Pass\n"
     ]
    }
   ],
   "source": [
    "score = int(input('P1z input score: '))\n",
    "\n",
    "if score >= 60:\n",
    "    print('Pass')"
   ]
  },
  {
   "cell_type": "markdown",
   "id": "6e77f0a8",
   "metadata": {},
   "source": [
    "### `if`&`else`"
   ]
  },
  {
   "cell_type": "code",
   "execution_count": 150,
   "id": "7dd57d11",
   "metadata": {},
   "outputs": [
    {
     "name": "stdout",
     "output_type": "stream",
     "text": [
      "P1z input score: 51\n",
      "Fail\n"
     ]
    }
   ],
   "source": [
    "score = int(input('P1z input score: '))\n",
    "\n",
    "if score >= 60:\n",
    "    print('Pass')\n",
    "    print('OK')\n",
    "else:\n",
    "    print('Fail')"
   ]
  },
  {
   "cell_type": "markdown",
   "id": "5fa1a5e8",
   "metadata": {},
   "source": [
    "### `if`&`elif`&`else`"
   ]
  },
  {
   "cell_type": "code",
   "execution_count": 151,
   "id": "c7cbf1cc",
   "metadata": {},
   "outputs": [
    {
     "name": "stdout",
     "output_type": "stream",
     "text": [
      "P1z input score: 68\n",
      "Your grade is D.\n"
     ]
    }
   ],
   "source": [
    "score = int(input('P1z input score: '))\n",
    "\n",
    "if score >= 90:\n",
    "    grade = 'A'\n",
    "elif score >= 80:\n",
    "    grade = 'B'\n",
    "elif score >= 70:\n",
    "    grade = 'C'\n",
    "elif score >= 60:\n",
    "    grade = 'D'\n",
    "else:\n",
    "    grade = 'E'\n",
    "\n",
    "print(f'Your grade is {grade}.')"
   ]
  },
  {
   "cell_type": "markdown",
   "id": "8f932b14",
   "metadata": {},
   "source": [
    "### 注意点"
   ]
  },
  {
   "cell_type": "markdown",
   "id": "3703a710",
   "metadata": {},
   "source": [
    "1. 浮点数不要`==`比较\n",
    "2. 判断对象是否相等: `is`或`==`\n",
    "3. 与运算: `and`; 或运算: `or`; 非运算: `not`; 除此之外还有: `in`、`not in`、`is`、`not`\n",
    "4. 搞不清楚优先级就加`()`"
   ]
  },
  {
   "cell_type": "markdown",
   "id": "aab424ab",
   "metadata": {},
   "source": [
    "## 3.2 `while`表达式"
   ]
  },
  {
   "cell_type": "code",
   "execution_count": 152,
   "id": "0222495e",
   "metadata": {},
   "outputs": [
    {
     "name": "stdout",
     "output_type": "stream",
     "text": [
      "100\n"
     ]
    }
   ],
   "source": [
    "i = 1\n",
    "total = 0\n",
    "while i <= 100:\n",
    "    total += 1\n",
    "    i += 1\n",
    "print(total)"
   ]
  },
  {
   "cell_type": "markdown",
   "id": "5a67a914",
   "metadata": {},
   "source": [
    "## 3.3 `for`"
   ]
  },
  {
   "cell_type": "code",
   "execution_count": 153,
   "id": "82ad33d2",
   "metadata": {},
   "outputs": [
    {
     "name": "stdout",
     "output_type": "stream",
     "text": [
      "PASS\n",
      "PASS\n",
      "PASS\n",
      "FAIL\n",
      "FAIL\n"
     ]
    }
   ],
   "source": [
    "scores = [78, 66, 93, 45, 34]\n",
    "\n",
    "for score in scores:\n",
    "    if score >= 60:\n",
    "        print('PASS')\n",
    "    else:\n",
    "        print('FAIL')"
   ]
  },
  {
   "cell_type": "code",
   "execution_count": 154,
   "id": "9125ce51",
   "metadata": {},
   "outputs": [
    {
     "name": "stdout",
     "output_type": "stream",
     "text": [
      "PASS\n",
      "PASS\n",
      "PASS\n",
      "FAIL\n",
      "FAIL\n"
     ]
    }
   ],
   "source": [
    "scores = [78, 66, 93, 45, 34]\n",
    "\n",
    "idx = 0\n",
    "while idx < len(scores):\n",
    "    if scores[idx] >= 60:\n",
    "        print('PASS')\n",
    "    else:\n",
    "        print('FAIL')\n",
    "    idx += 1"
   ]
  },
  {
   "cell_type": "markdown",
   "id": "c00c4a39",
   "metadata": {},
   "source": [
    "### `range`"
   ]
  },
  {
   "cell_type": "markdown",
   "id": "62d81c93",
   "metadata": {},
   "source": [
    "`range(stop)`: 输出`0`到`step - 1`"
   ]
  },
  {
   "cell_type": "code",
   "execution_count": 155,
   "id": "6d465aa0",
   "metadata": {},
   "outputs": [
    {
     "name": "stdout",
     "output_type": "stream",
     "text": [
      "0\n",
      "1\n",
      "2\n",
      "3\n",
      "4\n",
      "5\n",
      "6\n",
      "7\n",
      "8\n",
      "9\n"
     ]
    }
   ],
   "source": [
    "for i in range(10):\n",
    "    print(i)"
   ]
  },
  {
   "cell_type": "code",
   "execution_count": 156,
   "id": "9120a37b",
   "metadata": {},
   "outputs": [
    {
     "name": "stdout",
     "output_type": "stream",
     "text": [
      "78\n",
      "66\n",
      "93\n",
      "45\n",
      "34\n"
     ]
    }
   ],
   "source": [
    "scores = [78, 66, 93, 45, 34]\n",
    "\n",
    "for i in range(len(scores)):\n",
    "    print(scores[i])"
   ]
  },
  {
   "cell_type": "markdown",
   "id": "4ded255d",
   "metadata": {},
   "source": [
    "`range(start, stop[, step])`: `start`开始元素, `stop`表示停止元素的后一个元素, `step`表示步长, 默认是`1`"
   ]
  },
  {
   "cell_type": "code",
   "execution_count": 157,
   "id": "c360df44",
   "metadata": {},
   "outputs": [
    {
     "name": "stdout",
     "output_type": "stream",
     "text": [
      "34\n",
      "45\n",
      "93\n",
      "66\n",
      "78\n"
     ]
    }
   ],
   "source": [
    "scores = [78, 66, 93, 45, 34]\n",
    "\n",
    "for i in range(len(scores) - 1, -1, -1):\n",
    "    print(scores[i])"
   ]
  },
  {
   "cell_type": "markdown",
   "id": "cd16853f",
   "metadata": {},
   "source": [
    "### `enumerate`: 产生的是`(idx, value)`"
   ]
  },
  {
   "cell_type": "code",
   "execution_count": 158,
   "id": "ceaa998e",
   "metadata": {},
   "outputs": [
    {
     "name": "stdout",
     "output_type": "stream",
     "text": [
      "(0, 78)\n",
      "(1, 66)\n",
      "(2, 93)\n",
      "(3, 45)\n",
      "(4, 34)\n"
     ]
    }
   ],
   "source": [
    "scores = [78, 66, 93, 45, 34]\n",
    "\n",
    "for score in enumerate(scores):\n",
    "    print(score)"
   ]
  },
  {
   "cell_type": "code",
   "execution_count": 159,
   "id": "d87c9116",
   "metadata": {},
   "outputs": [
    {
     "data": {
      "text/plain": [
       "(1, 2)"
      ]
     },
     "execution_count": 159,
     "metadata": {},
     "output_type": "execute_result"
    }
   ],
   "source": [
    "a, b = 1, 2\n",
    "a, b"
   ]
  },
  {
   "cell_type": "code",
   "execution_count": 160,
   "id": "da773593",
   "metadata": {},
   "outputs": [
    {
     "data": {
      "text/plain": [
       "(1, 2)"
      ]
     },
     "execution_count": 160,
     "metadata": {},
     "output_type": "execute_result"
    }
   ],
   "source": [
    "1, 2"
   ]
  },
  {
   "cell_type": "code",
   "execution_count": 161,
   "id": "417c6072",
   "metadata": {},
   "outputs": [
    {
     "data": {
      "text/plain": [
       "(1, 2)"
      ]
     },
     "execution_count": 161,
     "metadata": {},
     "output_type": "execute_result"
    }
   ],
   "source": [
    "x = (1, 2)\n",
    "x"
   ]
  },
  {
   "cell_type": "code",
   "execution_count": 162,
   "id": "a044e750",
   "metadata": {},
   "outputs": [
    {
     "data": {
      "text/plain": [
       "(1, 2)"
      ]
     },
     "execution_count": 162,
     "metadata": {},
     "output_type": "execute_result"
    }
   ],
   "source": [
    "a, b = x\n",
    "a, b"
   ]
  },
  {
   "cell_type": "code",
   "execution_count": 163,
   "id": "f4c63dfb",
   "metadata": {},
   "outputs": [
    {
     "data": {
      "text/plain": [
       "(1, 2)"
      ]
     },
     "execution_count": 163,
     "metadata": {},
     "output_type": "execute_result"
    }
   ],
   "source": [
    "idx, score = x\n",
    "idx, score"
   ]
  },
  {
   "cell_type": "code",
   "execution_count": 164,
   "id": "d3700900",
   "metadata": {},
   "outputs": [
    {
     "name": "stdout",
     "output_type": "stream",
     "text": [
      "1 78\n",
      "2 66\n",
      "3 93\n",
      "4 45\n",
      "5 34\n"
     ]
    }
   ],
   "source": [
    "scores = [78, 66, 93, 45, 34]\n",
    "\n",
    "for idx, score in enumerate(scores, 1):  #1表示idx从1开始\n",
    "    print(idx, score)"
   ]
  },
  {
   "cell_type": "markdown",
   "id": "54d3e7d5",
   "metadata": {},
   "source": [
    "### `zip`"
   ]
  },
  {
   "cell_type": "code",
   "execution_count": 165,
   "id": "bef9dd6b",
   "metadata": {},
   "outputs": [
    {
     "name": "stdout",
     "output_type": "stream",
     "text": [
      "Alice 78\n",
      "Bob 66\n",
      "Clark 93\n",
      "Debby 45\n",
      "Ellen 34\n"
     ]
    }
   ],
   "source": [
    "scores = [78, 66, 93, 45, 34]\n",
    "names = ['Alice', 'Bob', 'Clark', 'Debby', 'Ellen']\n",
    "\n",
    "for name, score in zip(names, scores):\n",
    "    print(name, score)"
   ]
  },
  {
   "cell_type": "markdown",
   "id": "8a739baf",
   "metadata": {},
   "source": [
    "# 4. 字典"
   ]
  },
  {
   "cell_type": "markdown",
   "id": "0528faf4",
   "metadata": {},
   "source": [
    "Dict, Map, key-value"
   ]
  },
  {
   "cell_type": "code",
   "execution_count": 166,
   "id": "b7f1e23d",
   "metadata": {},
   "outputs": [
    {
     "data": {
      "text/plain": [
       "2"
      ]
     },
     "execution_count": 166,
     "metadata": {},
     "output_type": "execute_result"
    }
   ],
   "source": [
    "scores = {'Mike':78, 'Jack':92}\n",
    "len(scores)"
   ]
  },
  {
   "cell_type": "code",
   "execution_count": 167,
   "id": "4636f92c",
   "metadata": {},
   "outputs": [
    {
     "data": {
      "text/plain": [
       "92"
      ]
     },
     "execution_count": 167,
     "metadata": {},
     "output_type": "execute_result"
    }
   ],
   "source": [
    "scores['Jack']"
   ]
  },
  {
   "cell_type": "markdown",
   "id": "a7bd52f3",
   "metadata": {},
   "source": [
    "## `get`"
   ]
  },
  {
   "cell_type": "code",
   "execution_count": 168,
   "id": "36094662",
   "metadata": {},
   "outputs": [
    {
     "name": "stdout",
     "output_type": "stream",
     "text": [
      "None\n"
     ]
    }
   ],
   "source": [
    "x = scores.get('Bob')\n",
    "print(x)"
   ]
  },
  {
   "cell_type": "code",
   "execution_count": 169,
   "id": "fe16984b",
   "metadata": {},
   "outputs": [
    {
     "name": "stdout",
     "output_type": "stream",
     "text": [
      "0\n"
     ]
    }
   ],
   "source": [
    "x = scores.get('Bob', 0)\n",
    "print(x)"
   ]
  },
  {
   "cell_type": "code",
   "execution_count": 170,
   "id": "1039fd3c",
   "metadata": {},
   "outputs": [
    {
     "name": "stdout",
     "output_type": "stream",
     "text": [
      "78\n"
     ]
    }
   ],
   "source": [
    "x = scores.get('Mike', 0)\n",
    "print(x)"
   ]
  },
  {
   "cell_type": "code",
   "execution_count": 171,
   "id": "6d495a46",
   "metadata": {},
   "outputs": [
    {
     "data": {
      "text/plain": [
       "{'Mike': 78, 'Jack': 92, 'Bob': 88}"
      ]
     },
     "execution_count": 171,
     "metadata": {},
     "output_type": "execute_result"
    }
   ],
   "source": [
    "scores['Bob'] = 88\n",
    "scores"
   ]
  },
  {
   "cell_type": "code",
   "execution_count": 172,
   "id": "c87c1a48",
   "metadata": {},
   "outputs": [
    {
     "data": {
      "text/plain": [
       "{'Jack': 92, 'Bob': 88}"
      ]
     },
     "execution_count": 172,
     "metadata": {},
     "output_type": "execute_result"
    }
   ],
   "source": [
    "del scores['Mike']\n",
    "scores"
   ]
  },
  {
   "cell_type": "markdown",
   "id": "eb08ec3a",
   "metadata": {},
   "source": [
    "## hash哈希"
   ]
  },
  {
   "cell_type": "markdown",
   "id": "6955ab78",
   "metadata": {},
   "source": [
    "`object`: `int`、`float`、`bool`、`str`、`tuple` → immutable"
   ]
  },
  {
   "cell_type": "markdown",
   "id": "2fbedff4",
   "metadata": {},
   "source": [
    "`hash`函数: `key` → `int`"
   ]
  },
  {
   "cell_type": "code",
   "execution_count": 173,
   "id": "d4318dfc",
   "metadata": {},
   "outputs": [
    {
     "data": {
      "text/plain": [
       "1"
      ]
     },
     "execution_count": 173,
     "metadata": {},
     "output_type": "execute_result"
    }
   ],
   "source": [
    "hash(1)"
   ]
  },
  {
   "cell_type": "code",
   "execution_count": 174,
   "id": "a52f5407",
   "metadata": {},
   "outputs": [
    {
     "data": {
      "text/plain": [
       "1729587962855703191"
      ]
     },
     "execution_count": 174,
     "metadata": {},
     "output_type": "execute_result"
    }
   ],
   "source": [
    "hash(6341273981283091093)"
   ]
  },
  {
   "cell_type": "code",
   "execution_count": 175,
   "id": "d6c36bdf",
   "metadata": {},
   "outputs": [
    {
     "data": {
      "text/plain": [
       "1498797955988897824"
      ]
     },
     "execution_count": 175,
     "metadata": {},
     "output_type": "execute_result"
    }
   ],
   "source": [
    "hash(32.65)"
   ]
  },
  {
   "cell_type": "code",
   "execution_count": 176,
   "id": "8dc82c35",
   "metadata": {},
   "outputs": [
    {
     "data": {
      "text/plain": [
       "-6487459828152452621"
      ]
     },
     "execution_count": 176,
     "metadata": {},
     "output_type": "execute_result"
    }
   ],
   "source": [
    "hash('abc')"
   ]
  },
  {
   "cell_type": "code",
   "execution_count": 177,
   "id": "efc1a9c5",
   "metadata": {},
   "outputs": [
    {
     "data": {
      "text/plain": [
       "-184975414959262601"
      ]
     },
     "execution_count": 177,
     "metadata": {},
     "output_type": "execute_result"
    }
   ],
   "source": [
    "hash('abd')"
   ]
  },
  {
   "cell_type": "code",
   "execution_count": 178,
   "id": "7d37dcca",
   "metadata": {},
   "outputs": [
    {
     "data": {
      "text/plain": [
       "-3550055125485641917"
      ]
     },
     "execution_count": 178,
     "metadata": {},
     "output_type": "execute_result"
    }
   ],
   "source": [
    "hash((1,2))"
   ]
  },
  {
   "cell_type": "code",
   "execution_count": 179,
   "id": "0c316871",
   "metadata": {},
   "outputs": [
    {
     "data": {
      "text/plain": [
       "1"
      ]
     },
     "execution_count": 179,
     "metadata": {},
     "output_type": "execute_result"
    }
   ],
   "source": [
    "hash(True)"
   ]
  },
  {
   "cell_type": "code",
   "execution_count": 180,
   "id": "e6a6fed5",
   "metadata": {},
   "outputs": [
    {
     "data": {
      "text/plain": [
       "0"
      ]
     },
     "execution_count": 180,
     "metadata": {},
     "output_type": "execute_result"
    }
   ],
   "source": [
    "hash(False)"
   ]
  },
  {
   "cell_type": "code",
   "execution_count": 181,
   "id": "17cb46c5",
   "metadata": {},
   "outputs": [],
   "source": [
    "# hash([1, 2])"
   ]
  },
  {
   "cell_type": "markdown",
   "id": "7e6ee112",
   "metadata": {},
   "source": [
    "## `keys`、`values`、`items`"
   ]
  },
  {
   "cell_type": "code",
   "execution_count": 182,
   "id": "1c0976ef",
   "metadata": {},
   "outputs": [
    {
     "data": {
      "text/plain": [
       "dict_keys(['Jack', 'Bob'])"
      ]
     },
     "execution_count": 182,
     "metadata": {},
     "output_type": "execute_result"
    }
   ],
   "source": [
    "scores.keys()"
   ]
  },
  {
   "cell_type": "code",
   "execution_count": 183,
   "id": "d49c3126",
   "metadata": {},
   "outputs": [
    {
     "data": {
      "text/plain": [
       "dict_values([92, 88])"
      ]
     },
     "execution_count": 183,
     "metadata": {},
     "output_type": "execute_result"
    }
   ],
   "source": [
    "scores.values()"
   ]
  },
  {
   "cell_type": "code",
   "execution_count": 184,
   "id": "5adcab69",
   "metadata": {},
   "outputs": [
    {
     "data": {
      "text/plain": [
       "dict_items([('Jack', 92), ('Bob', 88)])"
      ]
     },
     "execution_count": 184,
     "metadata": {},
     "output_type": "execute_result"
    }
   ],
   "source": [
    "scores.items()"
   ]
  },
  {
   "cell_type": "code",
   "execution_count": 185,
   "id": "e85b4832",
   "metadata": {},
   "outputs": [
    {
     "name": "stdout",
     "output_type": "stream",
     "text": [
      "Mike (77, 65, 38)\n",
      "Jack (86, 63, 56)\n",
      "Bob (89, 91, 60)\n"
     ]
    }
   ],
   "source": [
    "scoreSheet = {\n",
    "    'Mike': (77, 65, 38),\n",
    "    'Jack': (86, 63, 56),\n",
    "    'Bob':(89, 91, 60)\n",
    "}\n",
    "\n",
    "for key in scoreSheet.keys():\n",
    "    print(key, scoreSheet[key])"
   ]
  },
  {
   "cell_type": "code",
   "execution_count": 186,
   "id": "be8a128d",
   "metadata": {},
   "outputs": [
    {
     "name": "stdout",
     "output_type": "stream",
     "text": [
      "Mike (77, 65, 38)\n",
      "Jack (86, 63, 56)\n",
      "Bob (89, 91, 60)\n"
     ]
    }
   ],
   "source": [
    "scoreSheet = {\n",
    "    'Mike': (77, 65, 38),\n",
    "    'Jack': (86, 63, 56),\n",
    "    'Bob':(89, 91, 60)\n",
    "}\n",
    "\n",
    "for key, value in scoreSheet.items():\n",
    "    print(key, scoreSheet[key])"
   ]
  },
  {
   "cell_type": "code",
   "execution_count": 187,
   "id": "6d198184",
   "metadata": {},
   "outputs": [
    {
     "name": "stdout",
     "output_type": "stream",
     "text": [
      "Mike : 77, 65, 38, 60.0\n",
      "Jack : 86, 63, 56, 68.33333333333333\n",
      "Bob : 89, 91, 60, 80.0\n"
     ]
    }
   ],
   "source": [
    "scoreSheet = {\n",
    "    'Mike': (77, 65, 38),\n",
    "    'Jack': (86, 63, 56),\n",
    "    'Bob':(89, 91, 60)\n",
    "}\n",
    "\n",
    "for name in scoreSheet:\n",
    "    literature, math, english = scoreSheet[name]\n",
    "    averMark = (literature + math + english) / 3\n",
    "    msg = f'{name} : {literature}, {math}, {english}, {averMark}'\n",
    "    print(msg)"
   ]
  },
  {
   "cell_type": "markdown",
   "id": "f4728d1b",
   "metadata": {},
   "source": [
    "## 字典知识点总结"
   ]
  },
  {
   "cell_type": "markdown",
   "id": "0008a147",
   "metadata": {},
   "source": [
    "1. 字典是一个`key-value`\n",
    "2. `key`必须是`hashable`或`immutable`的，如`int`、`float`、`bool`、`str`、`tuple`\n",
    "3. 访问: `D[key]` / `D.get(key)`\n",
    "4. 遍历: `for key in D` / `D.values()` / `D.items()`"
   ]
  },
  {
   "cell_type": "markdown",
   "id": "d91ef9e4",
   "metadata": {},
   "source": [
    "# 5. 函数"
   ]
  },
  {
   "cell_type": "markdown",
   "id": "0d36d0ec",
   "metadata": {},
   "source": [
    "## 5.1 函数的定义"
   ]
  },
  {
   "cell_type": "code",
   "execution_count": 188,
   "id": "ba49f87f",
   "metadata": {},
   "outputs": [
    {
     "name": "stdout",
     "output_type": "stream",
     "text": [
      "Hello World.\n"
     ]
    }
   ],
   "source": [
    "def foobar():\n",
    "    print(\"Hello World.\")\n",
    "\n",
    "foobar()"
   ]
  },
  {
   "cell_type": "markdown",
   "id": "13f0ede2",
   "metadata": {},
   "source": [
    "值传递 / 引用传递"
   ]
  },
  {
   "cell_type": "code",
   "execution_count": 189,
   "id": "5dd56aff",
   "metadata": {},
   "outputs": [
    {
     "name": "stdout",
     "output_type": "stream",
     "text": [
      "[1, 2, 3]\n",
      "[1, 100, 3]\n"
     ]
    }
   ],
   "source": [
    "def foobar(x):\n",
    "    x[1] = 100\n",
    "    \n",
    "x = [1, 2, 3]\n",
    "print(x)\n",
    "foobar(x)\n",
    "print(x)"
   ]
  },
  {
   "cell_type": "code",
   "execution_count": 190,
   "id": "4f42ae73",
   "metadata": {},
   "outputs": [
    {
     "name": "stdout",
     "output_type": "stream",
     "text": [
      "1\n",
      "1\n"
     ]
    }
   ],
   "source": [
    "def foobar(x):\n",
    "    x = 2\n",
    "    \n",
    "x = 1\n",
    "print(x)\n",
    "foobar(x)\n",
    "print(x)"
   ]
  },
  {
   "cell_type": "code",
   "execution_count": 191,
   "id": "d2648238",
   "metadata": {},
   "outputs": [
    {
     "name": "stdout",
     "output_type": "stream",
     "text": [
      "2\n"
     ]
    }
   ],
   "source": [
    "def foobar(x):\n",
    "    return x ** 2 + 3 * x - 2\n",
    "\n",
    "x = 1\n",
    "y = foobar(x)\n",
    "print(y)"
   ]
  },
  {
   "cell_type": "code",
   "execution_count": 192,
   "id": "60fcce68",
   "metadata": {},
   "outputs": [
    {
     "name": "stdout",
     "output_type": "stream",
     "text": [
      "-2\n"
     ]
    }
   ],
   "source": [
    "def foobar(x, y):\n",
    "    return x - y\n",
    "\n",
    "z = foobar(3, 5)\n",
    "print(z)"
   ]
  },
  {
   "cell_type": "code",
   "execution_count": 193,
   "id": "0f909ab7",
   "metadata": {},
   "outputs": [
    {
     "name": "stdout",
     "output_type": "stream",
     "text": [
      "2\n"
     ]
    }
   ],
   "source": [
    "def foobar(x, y):\n",
    "    return x - y\n",
    "\n",
    "z = foobar(y = 3, x = 5)\n",
    "print(z)"
   ]
  },
  {
   "cell_type": "code",
   "execution_count": 194,
   "id": "55113f5a",
   "metadata": {},
   "outputs": [
    {
     "name": "stdout",
     "output_type": "stream",
     "text": [
      "2\n"
     ]
    }
   ],
   "source": [
    "def foobar(x, y = 3):   # 把没有默认值的写在前面\n",
    "    return x - y\n",
    "\n",
    "z = foobar(5)\n",
    "print(z)"
   ]
  },
  {
   "cell_type": "code",
   "execution_count": 195,
   "id": "48a44fe3",
   "metadata": {},
   "outputs": [
    {
     "name": "stdout",
     "output_type": "stream",
     "text": [
      "-3\n"
     ]
    }
   ],
   "source": [
    "def foobar(x = 5, y = 3):   # 把没有默认值的写在前面\n",
    "    return x - y\n",
    "\n",
    "z = foobar(y = 8)\n",
    "print(z)"
   ]
  },
  {
   "cell_type": "code",
   "execution_count": 196,
   "id": "06231682",
   "metadata": {},
   "outputs": [
    {
     "name": "stdout",
     "output_type": "stream",
     "text": [
      "('hello', 39.8, False)\n"
     ]
    }
   ],
   "source": [
    "def foobar(x, y, *args):\n",
    "    print(args)\n",
    "\n",
    "foobar(1, 2, \"hello\", 39.8, False)"
   ]
  },
  {
   "cell_type": "markdown",
   "id": "f594729a",
   "metadata": {},
   "source": [
    "`*args`: 不定参数"
   ]
  },
  {
   "cell_type": "code",
   "execution_count": 197,
   "id": "c9ec0af4",
   "metadata": {},
   "outputs": [
    {
     "name": "stdout",
     "output_type": "stream",
     "text": [
      "hello\n",
      "39.8\n",
      "False\n"
     ]
    }
   ],
   "source": [
    "def foobar(x, y, *args):\n",
    "    for x in args:\n",
    "        print(x)\n",
    "\n",
    "foobar(1, 2, \"hello\", 39.8, False)"
   ]
  },
  {
   "cell_type": "markdown",
   "id": "09672e65",
   "metadata": {},
   "source": [
    "`**kwargs`: 带名字的不定参数"
   ]
  },
  {
   "cell_type": "code",
   "execution_count": 198,
   "id": "c6159210",
   "metadata": {},
   "outputs": [
    {
     "name": "stdout",
     "output_type": "stream",
     "text": [
      "('hello', 39.8, False)\n",
      "{'arg1': 23, 'arg2': 32}\n"
     ]
    }
   ],
   "source": [
    "def foobar(x, y, *args, **kwargs):\n",
    "    print(args)\n",
    "    print(kwargs)\n",
    "\n",
    "foobar(1, 2, \"hello\", 39.8, False, arg1 = 23, arg2 = 32)"
   ]
  },
  {
   "cell_type": "markdown",
   "id": "a0d00731",
   "metadata": {},
   "source": [
    "## 5.2 first class"
   ]
  },
  {
   "cell_type": "markdown",
   "id": "156bc88d",
   "metadata": {},
   "source": [
    "### (1). 变量引用"
   ]
  },
  {
   "cell_type": "code",
   "execution_count": 199,
   "id": "d07658a9",
   "metadata": {},
   "outputs": [
    {
     "name": "stdout",
     "output_type": "stream",
     "text": [
      "<class 'function'>\n",
      "11.0\n"
     ]
    }
   ],
   "source": [
    "def f(x):\n",
    "    return 3 * x ** 2 + 2 * x - 5\n",
    "\n",
    "y = f\n",
    "print(type(y))\n",
    "print(y(2.0))"
   ]
  },
  {
   "cell_type": "markdown",
   "id": "7740dcad",
   "metadata": {},
   "source": [
    "### (2). 参数传递"
   ]
  },
  {
   "cell_type": "code",
   "execution_count": 200,
   "id": "6cea9e3e",
   "metadata": {},
   "outputs": [
    {
     "name": "stdout",
     "output_type": "stream",
     "text": [
      "8.000002999608569\n",
      "14.000003002223593\n"
     ]
    }
   ],
   "source": [
    "def f(x):\n",
    "    return 3 * x ** 2 + 2 * x - 5\n",
    "\n",
    "\n",
    "def diff(x, func):\n",
    "    delta = 1e-6\n",
    "    return (func(x + delta) - func(x)) / delta\n",
    "\n",
    "print(diff(1, f))\n",
    "print(diff(2, f))"
   ]
  },
  {
   "cell_type": "markdown",
   "id": "57455b7e",
   "metadata": {},
   "source": [
    "### (3). 加入到集合当中"
   ]
  },
  {
   "cell_type": "code",
   "execution_count": 201,
   "id": "18bb8296",
   "metadata": {},
   "outputs": [
    {
     "name": "stdout",
     "output_type": "stream",
     "text": [
      "25\n",
      "125\n",
      "625\n"
     ]
    }
   ],
   "source": [
    "def f2(x):\n",
    "    return x ** 2\n",
    "def f3(x):\n",
    "    return x ** 3\n",
    "def f4(x):\n",
    "    return x ** 4\n",
    "funs = [f2, f3, f4]\n",
    "for f in funs:\n",
    "    print(f(5))"
   ]
  },
  {
   "cell_type": "markdown",
   "id": "fa5ae410",
   "metadata": {},
   "source": [
    "### (4). 可以作为返回值"
   ]
  },
  {
   "cell_type": "markdown",
   "id": "bbb3469a",
   "metadata": {},
   "source": [
    "函数闭包"
   ]
  },
  {
   "cell_type": "code",
   "execution_count": 202,
   "id": "e9ea7537",
   "metadata": {},
   "outputs": [
    {
     "name": "stdout",
     "output_type": "stream",
     "text": [
      "<class 'function'>\n",
      "8\n",
      "8\n"
     ]
    }
   ],
   "source": [
    "def fun1(x):\n",
    "    def fun2(y):\n",
    "        return x + y\n",
    "    return fun2\n",
    "\n",
    "a = fun1(3)\n",
    "print(type(a))\n",
    "print(a(5))\n",
    "print(fun1(3)(5))"
   ]
  },
  {
   "cell_type": "markdown",
   "id": "00aecc21",
   "metadata": {},
   "source": [
    "### (5). `lambda`表达式"
   ]
  },
  {
   "cell_type": "markdown",
   "id": "e50787bc",
   "metadata": {},
   "source": [
    "`lambda x, y : x * x + y * y` == `def foobar(x, y): return x * x + y * y`"
   ]
  },
  {
   "cell_type": "code",
   "execution_count": 203,
   "id": "ab4a303f",
   "metadata": {},
   "outputs": [
    {
     "data": {
      "text/plain": [
       "8.000002001296025"
      ]
     },
     "execution_count": 203,
     "metadata": {},
     "output_type": "execute_result"
    }
   ],
   "source": [
    "def diff(x, f):\n",
    "    delta = 1e-6\n",
    "    return (f(x + delta) - f(x)) / delta\n",
    "\n",
    "diff(2, lambda x : 2 * x ** 2 + 3)"
   ]
  },
  {
   "cell_type": "markdown",
   "id": "1776b419",
   "metadata": {},
   "source": [
    "# 6. 异常处理"
   ]
  },
  {
   "cell_type": "markdown",
   "id": "e8992ae6",
   "metadata": {},
   "source": [
    "语法错误、语义错误（Debugger）、运行时错误"
   ]
  },
  {
   "cell_type": "code",
   "execution_count": 204,
   "id": "ece8d9c7",
   "metadata": {},
   "outputs": [
    {
     "name": "stdout",
     "output_type": "stream",
     "text": [
      "Can not convert.\n",
      "Done\n"
     ]
    }
   ],
   "source": [
    "try:\n",
    "    x = float('abc')\n",
    "except:\n",
    "    print(\"Can not convert.\")\n",
    "    \n",
    "print('Done')"
   ]
  },
  {
   "cell_type": "code",
   "execution_count": 205,
   "id": "a59e6f72",
   "metadata": {},
   "outputs": [
    {
     "name": "stdout",
     "output_type": "stream",
     "text": [
      "(\"could not convert string to float: 'abc'\",)\n",
      "0\n"
     ]
    }
   ],
   "source": [
    "try:\n",
    "    x = float('abc')\n",
    "except Exception as e:\n",
    "    print(e.args)\n",
    "finally:\n",
    "    x = 0\n",
    "\n",
    "print(x)"
   ]
  },
  {
   "cell_type": "code",
   "execution_count": 206,
   "id": "e5c8350b",
   "metadata": {},
   "outputs": [
    {
     "name": "stdout",
     "output_type": "stream",
     "text": [
      "0\n"
     ]
    }
   ],
   "source": [
    "try:\n",
    "    x = float('1.2')\n",
    "except Exception as e:\n",
    "    print(e.args)\n",
    "finally:\n",
    "    x = 0\n",
    "\n",
    "print(x)"
   ]
  },
  {
   "cell_type": "code",
   "execution_count": 207,
   "id": "255ec730",
   "metadata": {},
   "outputs": [
    {
     "name": "stdout",
     "output_type": "stream",
     "text": [
      "1.2\n"
     ]
    }
   ],
   "source": [
    "try:\n",
    "    x = 0\n",
    "    x = float('1.2')\n",
    "except Exception as e:\n",
    "    print(e.args)\n",
    "\n",
    "print(x)"
   ]
  },
  {
   "cell_type": "code",
   "execution_count": 208,
   "id": "de63e90b",
   "metadata": {},
   "outputs": [
    {
     "name": "stdout",
     "output_type": "stream",
     "text": [
      "0\n"
     ]
    }
   ],
   "source": [
    "try:\n",
    "    x = 0\n",
    "    x = float('dgasdjkadh')\n",
    "except ValueError as e:\n",
    "    x = 0\n",
    "except FileNotFound as e:\n",
    "    pass\n",
    "    \n",
    "print(x)"
   ]
  },
  {
   "cell_type": "code",
   "execution_count": 209,
   "id": "a185ea22",
   "metadata": {},
   "outputs": [
    {
     "name": "stdout",
     "output_type": "stream",
     "text": [
      "P1z input a floating number:458.89\n",
      "458.89\n"
     ]
    }
   ],
   "source": [
    "def askUser():\n",
    "    x = float(input(\"P1z input a floating number:\"))\n",
    "    return x\n",
    "\n",
    "print(askUser())"
   ]
  },
  {
   "cell_type": "code",
   "execution_count": 210,
   "id": "ece89625",
   "metadata": {},
   "outputs": [
    {
     "name": "stdout",
     "output_type": "stream",
     "text": [
      "P1z input a floating number: fhayu\n",
      "Errors: could not convert string to float: 'fhayu'\n",
      "P1z input a floating number: 1345.89\n",
      "1345.89\n"
     ]
    }
   ],
   "source": [
    "def askUser():\n",
    "    while True:\n",
    "        try:\n",
    "            x = float(input(\"P1z input a floating number: \"))\n",
    "            return x\n",
    "        except ValueError as e:\n",
    "            print('Errors: ' + e.args[0])\n",
    "\n",
    "print(askUser())"
   ]
  },
  {
   "cell_type": "markdown",
   "id": "aa190f76",
   "metadata": {},
   "source": [
    "# 7. 文件处理"
   ]
  },
  {
   "cell_type": "code",
   "execution_count": 211,
   "id": "a0cecc92",
   "metadata": {},
   "outputs": [
    {
     "name": "stdout",
     "output_type": "stream",
     "text": [
      "['\\u3000\\u3000一家刚刚成立两年的网络支付公司，它的目标是成为市值100亿美元的上市公司。\\n', '\\n', '\\u3000\\u3000这家公司叫做快钱，说这句话的是快钱的CEO关国光。他之前曾任网易的高级副总裁，负责过网易的上市工作。对于为什么选择第三方支付作为创业方向，他曾经对媒体这样说：“我能看到这个胡同对面是什么，别人只能看到这个胡同。”自信与狂妄只有一步之遥——这几乎是所有创业者的共同特征，是自信还是狂妄也许需要留待时间来考证。\\n', '\\n', '\\u3000\\u3000对于市值100亿美元的上市公司，他是这样算这笔账的，“百度上市时广告客户数量只有4万,而且它所做的只是把客户吸引过来，就可以支撑起现有的庞大市值；而我们几年后的客户数量是几千万，而且这些客户都是能直接带来利润的，说市值100亿美元一点都不夸张。”\\n', '\\n', '\\u3000\\u3000这家公司2005年年底注册用户达到400万，计划今年注册用户突破1000万，号称是国内最大的第三方网络支付平台。“在美国跟支付相关的收入已经超过了所有商业银行本身利差收入的总和，我所查到的数据是3000亿美元，其中超过70％是个人消费者带来的收入。”关国光喜欢借用美国支付产业的现状与中国的情况进行比较。虽然美国和中国差异显著，但他坚信中国的第三方支付市场前景非常广阔。\\n', '\\n', '\\u3000\\u3000便利和安全挑战网络支付\\n', '\\n', '\\u3000\\u3000“你只需要一个手机号码或者一个邮件地址就可以网络支付。”在快钱的户外广告中这样写道，这和传统的需要银行账户才能进行网络支付的习惯形成了鲜明的对比。\\n', '\\n', '\\u3000\\u3000然而这种支付模式和传统的网络支付并无本质的区别，因为每一个手机号码和邮件地址背后都会对应着一个账户——这个账户可以是信用卡账户、借记卡账户，也包括邮局支付、手机代收、电话代收、预付费卡和点卡等多种形式。\\n', '\\n', '\\u3000\\u3000“快钱的功能其实就相当于融合了很多交易工具的VISA卡，所以又被称为网络VISA。”关国光说，“从本质上讲，我们和VISA等采用的底层技术是没有差别的，我们和它的区别在于VISA卡面对的交易工具比较单一，而快钱面对的是多种分散的交易工具。”\\n', '\\n', '\\u3000\\u3000因为“信用缺位”，网络支付一直是困扰中国电子商务发展的瓶颈之一。网络支付平台相当于“信用缺位”条件下的“补位产物”，它把众多的银行卡整合到一个页面端口，以支付公司作为信用中介，在买家确认收到商品前，代替买卖双方暂时保管货款。\\n', '\\n', '\\u3000\\u3000目前最知名的网络支付平台包括阿里巴巴的支付宝和eBay的Paypal（贝宝）。关国光表示，快钱最大的特点是第三方的支付平台，主要客户为那些中小公司。这些网络支付平台的主要业务是针对母公司的，不太可能被其母公司同行使用。\\n', '\\n', '\\u3000\\u3000“而用户可以选择使用从银行卡、邮政支付到点卡、预付费卡的各种支付方式，快钱平台对人口和支付工具的覆盖都非常广泛，这是我们创新的地方。”关国光告诉《第一财经日报》。\\n', '\\n', '\\u3000\\u3000交易的安全性是网上支付平台最大的问题。关国光说：“快钱采用了各种机制来保证用户资金的安全性，例如回款机制等，可以在用户付款过程由于各种意外因素中止或未完成时，系统将用户账户自动回复到交易开始时的原始状态。”除此之外，快钱也建立了一系列监控机制，有问题的交易系统会被强制暂停两天以供审查。内部财务方面则遵守相互监督的原则，不会让任何一个人参与主导交易全程。在交易的识别方面，快钱有一套交易过滤引擎，可以识别出较明显的问题交易行为。\\n', '\\n', '\\u3000\\u3000增值服务：网络支付的撒手锏\\n', '\\n', '\\u3000\\u3000在关国光看来，快钱平台可以提供详细的用户行为记录，进而方便商户掌握用户的喜好和需要。这种增值服务对于支付平台至关重要。\\n', '\\n', '\\u3000\\u3000在市场推广方面，快钱公司市场推广的目标就是让用户知道快钱这个品牌，然后将精力集中在核心应用上。“快钱的策略就是同主流应用相捆绑，致力同大厂商合作，因为目前大型门户所掌握的用户资源是相当多的。”\\n', '\\n', '\\u3000\\u3000“我们不必去强迫用户使用快钱，因为网络支付只是交易过程中的一个附加品，单推一个支付平台是没有效果的。”关国光表示，“快钱的策略就是要找准交易，捆绑和依托在上面，用户在进行电子交易时，自然而然就会用到我们的支付平台。”\\n', '\\n', '\\u3000\\u3000除此之外，快钱的策略是先稳定一批活跃用户后，再将目光放到普通用户上。关国光把快钱的营销模式称为非线型营销，“一个注册用户在支付交易中往往会带入一个未注册用户，用户之间的互动会形成网络效应。”\\n', '\\n', '\\u3000\\u3000从创业开始，快钱的商业模式就没有变化过。“快钱的后端绝不做应用。”关国光信誓旦旦地表示。他认为一旦快钱做了应用，将面临更多的竞争对手，同时也违背了自己独立的第三方支付平台的市场定位。\\n', '\\n', '\\u3000\\u3000快钱未来的梦想是：首先，将所有的支付工具整合为一个接口，随着流量的增加，给商户带来的价值是一样的，但成本更低。其次，快钱拥有用户的详细数据资料，可以实现数据库营销，为客户提供增值服务，例如支持客户的促销、推广等，或者为客户创造商业机会。\\n', '\\n', '\\u3000\\u30002005年8月，快钱公司获得美国DCM和半岛基金的首批风险投资，第二轮目前还在评估之中。关国光表示，对快钱来说，融资是一件水到渠成的事情，是最后考虑的问题。快钱挑选风投的条件只有两个，一是必须在中国有过投资；二是在中国的投资必须取得过成功。\\n', '\\n', '\\u3000\\u3000“电子支付行业是一个入行容易、生存难的行业，”关国光说，“任何企业要在这个领域取得成功，就必须脚踏实地地认真去做，绝不能抱着投机的心理。”']\n"
     ]
    }
   ],
   "source": [
    "f = open('news.txt', 'r', encoding='UTF-8')\n",
    "lines = f.readlines()\n",
    "print(lines)\n",
    "f.close()"
   ]
  },
  {
   "cell_type": "code",
   "execution_count": 212,
   "id": "37e40e0f",
   "metadata": {},
   "outputs": [
    {
     "name": "stdout",
     "output_type": "stream",
     "text": [
      "['一家刚刚成立两年的网络支付公司，它的目标是成为市值100亿美元的上市公司', '这家公司叫做快钱，说这句话的是快钱的CEO关国光', '他之前曾任网易的高级副总裁，负责过网易的上市工作', '对于为什么选择第三方支付作为创业方向，他曾经对媒体这样说：“我能看到这个胡同对面是什么，别人只能看到这个胡同', '”自信与狂妄只有一步之遥——这几乎是所有创业者的共同特征，是自信还是狂妄也许需要留待时间来考证', '对于市值100亿美元的上市公司，他是这样算这笔账的，“百度上市时广告客户数量只有4万,而且它所做的只是把客户吸引过来，就可以支撑起现有的庞大市值；而我们几年后的客户数量是几千万，而且这些客户都是能直接带来利润的，说市值100亿美元一点都不夸张', '”', '这家公司2005年年底注册用户达到400万，计划今年注册用户突破1000万，号称是国内最大的第三方网络支付平台', '“在美国跟支付相关的收入已经超过了所有商业银行本身利差收入的总和，我所查到的数据是3000亿美元，其中超过70％是个人消费者带来的收入', '”关国光喜欢借用美国支付产业的现状与中国的情况进行比较', '虽然美国和中国差异显著，但他坚信中国的第三方支付市场前景非常广阔', '便利和安全挑战网络支付', '“你只需要一个手机号码或者一个邮件地址就可以网络支付', '”在快钱的户外广告中这样写道，这和传统的需要银行账户才能进行网络支付的习惯形成了鲜明的对比', '然而这种支付模式和传统的网络支付并无本质的区别，因为每一个手机号码和邮件地址背后都会对应着一个账户——这个账户可以是信用卡账户、借记卡账户，也包括邮局支付、手机代收、电话代收、预付费卡和点卡等多种形式', '“快钱的功能其实就相当于融合了很多交易工具的VISA卡，所以又被称为网络VISA', '”关国光说，“从本质上讲，我们和VISA等采用的底层技术是没有差别的，我们和它的区别在于VISA卡面对的交易工具比较单一，而快钱面对的是多种分散的交易工具', '”', '因为“信用缺位”，网络支付一直是困扰中国电子商务发展的瓶颈之一', '网络支付平台相当于“信用缺位”条件下的“补位产物”，它把众多的银行卡整合到一个页面端口，以支付公司作为信用中介，在买家确认收到商品前，代替买卖双方暂时保管货款', '目前最知名的网络支付平台包括阿里巴巴的支付宝和eBay的Paypal（贝宝）', '关国光表示，快钱最大的特点是第三方的支付平台，主要客户为那些中小公司', '这些网络支付平台的主要业务是针对母公司的，不太可能被其母公司同行使用', '“而用户可以选择使用从银行卡、邮政支付到点卡、预付费卡的各种支付方式，快钱平台对人口和支付工具的覆盖都非常广泛，这是我们创新的地方', '”关国光告诉《第一财经日报》', '交易的安全性是网上支付平台最大的问题', '关国光说：“快钱采用了各种机制来保证用户资金的安全性，例如回款机制等，可以在用户付款过程由于各种意外因素中止或未完成时，系统将用户账户自动回复到交易开始时的原始状态', '”除此之外，快钱也建立了一系列监控机制，有问题的交易系统会被强制暂停两天以供审查', '内部财务方面则遵守相互监督的原则，不会让任何一个人参与主导交易全程', '在交易的识别方面，快钱有一套交易过滤引擎，可以识别出较明显的问题交易行为', '增值服务：网络支付的撒手锏', '在关国光看来，快钱平台可以提供详细的用户行为记录，进而方便商户掌握用户的喜好和需要', '这种增值服务对于支付平台至关重要', '在市场推广方面，快钱公司市场推广的目标就是让用户知道快钱这个品牌，然后将精力集中在核心应用上', '“快钱的策略就是同主流应用相捆绑，致力同大厂商合作，因为目前大型门户所掌握的用户资源是相当多的', '”', '“我们不必去强迫用户使用快钱，因为网络支付只是交易过程中的一个附加品，单推一个支付平台是没有效果的', '”关国光表示，“快钱的策略就是要找准交易，捆绑和依托在上面，用户在进行电子交易时，自然而然就会用到我们的支付平台', '”', '除此之外，快钱的策略是先稳定一批活跃用户后，再将目光放到普通用户上', '关国光把快钱的营销模式称为非线型营销，“一个注册用户在支付交易中往往会带入一个未注册用户，用户之间的互动会形成网络效应', '”', '从创业开始，快钱的商业模式就没有变化过', '“快钱的后端绝不做应用', '”关国光信誓旦旦地表示', '他认为一旦快钱做了应用，将面临更多的竞争对手，同时也违背了自己独立的第三方支付平台的市场定位', '快钱未来的梦想是：首先，将所有的支付工具整合为一个接口，随着流量的增加，给商户带来的价值是一样的，但成本更低', '其次，快钱拥有用户的详细数据资料，可以实现数据库营销，为客户提供增值服务，例如支持客户的促销、推广等，或者为客户创造商业机会', '2005年8月，快钱公司获得美国DCM和半岛基金的首批风险投资，第二轮目前还在评估之中', '关国光表示，对快钱来说，融资是一件水到渠成的事情，是最后考虑的问题', '快钱挑选风投的条件只有两个，一是必须在中国有过投资；二是在中国的投资必须取得过成功', '“电子支付行业是一个入行容易、生存难的行业，”关国光说，“任何企业要在这个领域取得成功，就必须脚踏实地地认真去做，绝不能抱着投机的心理', '”']\n"
     ]
    }
   ],
   "source": [
    "with open('news.txt', 'r') as f:\n",
    "    f = open('news.txt', 'r', encoding='UTF-8')\n",
    "    lines = f.readlines()\n",
    "\n",
    "sents = []\n",
    "for line in lines:\n",
    "    line = line.strip()\n",
    "    tokens = line.split('。')\n",
    "    for token in tokens:\n",
    "        if len(token) > 0:\n",
    "            sents.append(token)\n",
    "print(sents)"
   ]
  },
  {
   "cell_type": "code",
   "execution_count": 213,
   "id": "32af8c1b",
   "metadata": {},
   "outputs": [
    {
     "data": {
      "text/plain": [
       "[1, 2, 3, 4, 5]"
      ]
     },
     "execution_count": 213,
     "metadata": {},
     "output_type": "execute_result"
    }
   ],
   "source": [
    "numbers = [1, 2, 3, 4, 5]\n",
    "numbers"
   ]
  },
  {
   "cell_type": "code",
   "execution_count": 214,
   "id": "6028057e",
   "metadata": {},
   "outputs": [
    {
     "data": {
      "text/plain": [
       "<filter at 0x253590ad7f0>"
      ]
     },
     "execution_count": 214,
     "metadata": {},
     "output_type": "execute_result"
    }
   ],
   "source": [
    "filter(lambda x: x % 2 == 0, numbers)"
   ]
  },
  {
   "cell_type": "code",
   "execution_count": 215,
   "id": "0e605e39",
   "metadata": {},
   "outputs": [
    {
     "data": {
      "text/plain": [
       "[2, 4]"
      ]
     },
     "execution_count": 215,
     "metadata": {},
     "output_type": "execute_result"
    }
   ],
   "source": [
    "list(filter(lambda x: x % 2 == 0, numbers))"
   ]
  },
  {
   "cell_type": "code",
   "execution_count": 216,
   "id": "2754e3e1",
   "metadata": {},
   "outputs": [
    {
     "name": "stdout",
     "output_type": "stream",
     "text": [
      "['一家刚刚成立两年的网络支付公司，它的目标是成为市值100亿美元的上市公司']\n",
      "[]\n",
      "['这家公司叫做快钱，说这句话的是快钱的CEO关国光', '他之前曾任网易的高级副总裁，负责过网易的上市工作', '对于为什么选择第三方支付作为创业方向，他曾经对媒体这样说：“我能看到这个胡同对面是什么，别人只能看到这个胡同', '”自信与狂妄只有一步之遥——这几乎是所有创业者的共同特征，是自信还是狂妄也许需要留待时间来考证']\n",
      "[]\n",
      "['对于市值100亿美元的上市公司，他是这样算这笔账的，“百度上市时广告客户数量只有4万,而且它所做的只是把客户吸引过来，就可以支撑起现有的庞大市值；而我们几年后的客户数量是几千万，而且这些客户都是能直接带来利润的，说市值100亿美元一点都不夸张', '”']\n",
      "[]\n",
      "['这家公司2005年年底注册用户达到400万，计划今年注册用户突破1000万，号称是国内最大的第三方网络支付平台', '“在美国跟支付相关的收入已经超过了所有商业银行本身利差收入的总和，我所查到的数据是3000亿美元，其中超过70％是个人消费者带来的收入', '”关国光喜欢借用美国支付产业的现状与中国的情况进行比较', '虽然美国和中国差异显著，但他坚信中国的第三方支付市场前景非常广阔']\n",
      "[]\n",
      "['便利和安全挑战网络支付']\n",
      "[]\n",
      "['“你只需要一个手机号码或者一个邮件地址就可以网络支付', '”在快钱的户外广告中这样写道，这和传统的需要银行账户才能进行网络支付的习惯形成了鲜明的对比']\n",
      "[]\n",
      "['然而这种支付模式和传统的网络支付并无本质的区别，因为每一个手机号码和邮件地址背后都会对应着一个账户——这个账户可以是信用卡账户、借记卡账户，也包括邮局支付、手机代收、电话代收、预付费卡和点卡等多种形式']\n",
      "[]\n",
      "['“快钱的功能其实就相当于融合了很多交易工具的VISA卡，所以又被称为网络VISA', '”关国光说，“从本质上讲，我们和VISA等采用的底层技术是没有差别的，我们和它的区别在于VISA卡面对的交易工具比较单一，而快钱面对的是多种分散的交易工具', '”']\n",
      "[]\n",
      "['因为“信用缺位”，网络支付一直是困扰中国电子商务发展的瓶颈之一', '网络支付平台相当于“信用缺位”条件下的“补位产物”，它把众多的银行卡整合到一个页面端口，以支付公司作为信用中介，在买家确认收到商品前，代替买卖双方暂时保管货款']\n",
      "[]\n",
      "['目前最知名的网络支付平台包括阿里巴巴的支付宝和eBay的Paypal（贝宝）', '关国光表示，快钱最大的特点是第三方的支付平台，主要客户为那些中小公司', '这些网络支付平台的主要业务是针对母公司的，不太可能被其母公司同行使用']\n",
      "[]\n",
      "['“而用户可以选择使用从银行卡、邮政支付到点卡、预付费卡的各种支付方式，快钱平台对人口和支付工具的覆盖都非常广泛，这是我们创新的地方', '”关国光告诉《第一财经日报》']\n",
      "[]\n",
      "['交易的安全性是网上支付平台最大的问题', '关国光说：“快钱采用了各种机制来保证用户资金的安全性，例如回款机制等，可以在用户付款过程由于各种意外因素中止或未完成时，系统将用户账户自动回复到交易开始时的原始状态', '”除此之外，快钱也建立了一系列监控机制，有问题的交易系统会被强制暂停两天以供审查', '内部财务方面则遵守相互监督的原则，不会让任何一个人参与主导交易全程', '在交易的识别方面，快钱有一套交易过滤引擎，可以识别出较明显的问题交易行为']\n",
      "[]\n",
      "['增值服务：网络支付的撒手锏']\n",
      "[]\n",
      "['在关国光看来，快钱平台可以提供详细的用户行为记录，进而方便商户掌握用户的喜好和需要', '这种增值服务对于支付平台至关重要']\n",
      "[]\n",
      "['在市场推广方面，快钱公司市场推广的目标就是让用户知道快钱这个品牌，然后将精力集中在核心应用上', '“快钱的策略就是同主流应用相捆绑，致力同大厂商合作，因为目前大型门户所掌握的用户资源是相当多的', '”']\n",
      "[]\n",
      "['“我们不必去强迫用户使用快钱，因为网络支付只是交易过程中的一个附加品，单推一个支付平台是没有效果的', '”关国光表示，“快钱的策略就是要找准交易，捆绑和依托在上面，用户在进行电子交易时，自然而然就会用到我们的支付平台', '”']\n",
      "[]\n",
      "['除此之外，快钱的策略是先稳定一批活跃用户后，再将目光放到普通用户上', '关国光把快钱的营销模式称为非线型营销，“一个注册用户在支付交易中往往会带入一个未注册用户，用户之间的互动会形成网络效应', '”']\n",
      "[]\n",
      "['从创业开始，快钱的商业模式就没有变化过', '“快钱的后端绝不做应用', '”关国光信誓旦旦地表示', '他认为一旦快钱做了应用，将面临更多的竞争对手，同时也违背了自己独立的第三方支付平台的市场定位']\n",
      "[]\n",
      "['快钱未来的梦想是：首先，将所有的支付工具整合为一个接口，随着流量的增加，给商户带来的价值是一样的，但成本更低', '其次，快钱拥有用户的详细数据资料，可以实现数据库营销，为客户提供增值服务，例如支持客户的促销、推广等，或者为客户创造商业机会']\n",
      "[]\n",
      "['2005年8月，快钱公司获得美国DCM和半岛基金的首批风险投资，第二轮目前还在评估之中', '关国光表示，对快钱来说，融资是一件水到渠成的事情，是最后考虑的问题', '快钱挑选风投的条件只有两个，一是必须在中国有过投资；二是在中国的投资必须取得过成功']\n",
      "[]\n",
      "['“电子支付行业是一个入行容易、生存难的行业，”关国光说，“任何企业要在这个领域取得成功，就必须脚踏实地地认真去做，绝不能抱着投机的心理', '”']\n"
     ]
    }
   ],
   "source": [
    "with open('news.txt', 'r') as f:\n",
    "    f = open('news.txt', 'r', encoding='UTF-8')\n",
    "    lines = f.readlines()\n",
    "\n",
    "sents = []\n",
    "for line in lines:\n",
    "    line = line.strip()\n",
    "    tokens = line.split('。')\n",
    "    tmp = list(filter(lambda x : len(x) > 0, tokens))\n",
    "    print(tmp)"
   ]
  },
  {
   "cell_type": "code",
   "execution_count": 217,
   "id": "e0683e0b",
   "metadata": {},
   "outputs": [
    {
     "name": "stdout",
     "output_type": "stream",
     "text": [
      "['一家刚刚成立两年的网络支付公司，它的目标是成为市值100亿美元的上市公司', '这家公司叫做快钱，说这句话的是快钱的CEO关国光', '他之前曾任网易的高级副总裁，负责过网易的上市工作', '对于为什么选择第三方支付作为创业方向，他曾经对媒体这样说：“我能看到这个胡同对面是什么，别人只能看到这个胡同', '”自信与狂妄只有一步之遥——这几乎是所有创业者的共同特征，是自信还是狂妄也许需要留待时间来考证', '对于市值100亿美元的上市公司，他是这样算这笔账的，“百度上市时广告客户数量只有4万,而且它所做的只是把客户吸引过来，就可以支撑起现有的庞大市值；而我们几年后的客户数量是几千万，而且这些客户都是能直接带来利润的，说市值100亿美元一点都不夸张', '”', '这家公司2005年年底注册用户达到400万，计划今年注册用户突破1000万，号称是国内最大的第三方网络支付平台', '“在美国跟支付相关的收入已经超过了所有商业银行本身利差收入的总和，我所查到的数据是3000亿美元，其中超过70％是个人消费者带来的收入', '”关国光喜欢借用美国支付产业的现状与中国的情况进行比较', '虽然美国和中国差异显著，但他坚信中国的第三方支付市场前景非常广阔', '便利和安全挑战网络支付', '“你只需要一个手机号码或者一个邮件地址就可以网络支付', '”在快钱的户外广告中这样写道，这和传统的需要银行账户才能进行网络支付的习惯形成了鲜明的对比', '然而这种支付模式和传统的网络支付并无本质的区别，因为每一个手机号码和邮件地址背后都会对应着一个账户——这个账户可以是信用卡账户、借记卡账户，也包括邮局支付、手机代收、电话代收、预付费卡和点卡等多种形式', '“快钱的功能其实就相当于融合了很多交易工具的VISA卡，所以又被称为网络VISA', '”关国光说，“从本质上讲，我们和VISA等采用的底层技术是没有差别的，我们和它的区别在于VISA卡面对的交易工具比较单一，而快钱面对的是多种分散的交易工具', '”', '因为“信用缺位”，网络支付一直是困扰中国电子商务发展的瓶颈之一', '网络支付平台相当于“信用缺位”条件下的“补位产物”，它把众多的银行卡整合到一个页面端口，以支付公司作为信用中介，在买家确认收到商品前，代替买卖双方暂时保管货款', '目前最知名的网络支付平台包括阿里巴巴的支付宝和eBay的Paypal（贝宝）', '关国光表示，快钱最大的特点是第三方的支付平台，主要客户为那些中小公司', '这些网络支付平台的主要业务是针对母公司的，不太可能被其母公司同行使用', '“而用户可以选择使用从银行卡、邮政支付到点卡、预付费卡的各种支付方式，快钱平台对人口和支付工具的覆盖都非常广泛，这是我们创新的地方', '”关国光告诉《第一财经日报》', '交易的安全性是网上支付平台最大的问题', '关国光说：“快钱采用了各种机制来保证用户资金的安全性，例如回款机制等，可以在用户付款过程由于各种意外因素中止或未完成时，系统将用户账户自动回复到交易开始时的原始状态', '”除此之外，快钱也建立了一系列监控机制，有问题的交易系统会被强制暂停两天以供审查', '内部财务方面则遵守相互监督的原则，不会让任何一个人参与主导交易全程', '在交易的识别方面，快钱有一套交易过滤引擎，可以识别出较明显的问题交易行为', '增值服务：网络支付的撒手锏', '在关国光看来，快钱平台可以提供详细的用户行为记录，进而方便商户掌握用户的喜好和需要', '这种增值服务对于支付平台至关重要', '在市场推广方面，快钱公司市场推广的目标就是让用户知道快钱这个品牌，然后将精力集中在核心应用上', '“快钱的策略就是同主流应用相捆绑，致力同大厂商合作，因为目前大型门户所掌握的用户资源是相当多的', '”', '“我们不必去强迫用户使用快钱，因为网络支付只是交易过程中的一个附加品，单推一个支付平台是没有效果的', '”关国光表示，“快钱的策略就是要找准交易，捆绑和依托在上面，用户在进行电子交易时，自然而然就会用到我们的支付平台', '”', '除此之外，快钱的策略是先稳定一批活跃用户后，再将目光放到普通用户上', '关国光把快钱的营销模式称为非线型营销，“一个注册用户在支付交易中往往会带入一个未注册用户，用户之间的互动会形成网络效应', '”', '从创业开始，快钱的商业模式就没有变化过', '“快钱的后端绝不做应用', '”关国光信誓旦旦地表示', '他认为一旦快钱做了应用，将面临更多的竞争对手，同时也违背了自己独立的第三方支付平台的市场定位', '快钱未来的梦想是：首先，将所有的支付工具整合为一个接口，随着流量的增加，给商户带来的价值是一样的，但成本更低', '其次，快钱拥有用户的详细数据资料，可以实现数据库营销，为客户提供增值服务，例如支持客户的促销、推广等，或者为客户创造商业机会', '2005年8月，快钱公司获得美国DCM和半岛基金的首批风险投资，第二轮目前还在评估之中', '关国光表示，对快钱来说，融资是一件水到渠成的事情，是最后考虑的问题', '快钱挑选风投的条件只有两个，一是必须在中国有过投资；二是在中国的投资必须取得过成功', '“电子支付行业是一个入行容易、生存难的行业，”关国光说，“任何企业要在这个领域取得成功，就必须脚踏实地地认真去做，绝不能抱着投机的心理', '”']\n"
     ]
    }
   ],
   "source": [
    "with open('news.txt', 'r') as f:\n",
    "    f = open('news.txt', 'r', encoding='UTF-8')\n",
    "    lines = f.readlines()\n",
    "\n",
    "sents = []\n",
    "for line in lines:\n",
    "    line = line.strip()\n",
    "    tokens = line.split('。')\n",
    "    sents.extend(list(filter(lambda x : len(x) > 0, tokens)))\n",
    "print(sents)"
   ]
  },
  {
   "cell_type": "code",
   "execution_count": 218,
   "id": "1597fea7",
   "metadata": {},
   "outputs": [
    {
     "name": "stdout",
     "output_type": "stream",
     "text": [
      "[36, 24, 24, 54, 47, 121, 1, 55, 67, 27, 32, 11, 26, 45, 100, 40, 77, 1, 31, 79, 38, 34, 34, 65, 14, 18, 82, 40, 33, 36, 13, 41, 16, 46, 47, 1, 49, 56, 1, 33, 59, 1, 19, 11, 11, 46, 54, 62, 43, 33, 41, 67, 1]\n"
     ]
    }
   ],
   "source": [
    "with open('news.txt', 'r') as f:\n",
    "    f = open('news.txt', 'r', encoding='UTF-8')\n",
    "    lines = f.readlines()\n",
    "\n",
    "sents = []\n",
    "for line in lines:\n",
    "    line = line.strip()\n",
    "    tokens = line.split('。')\n",
    "    sents.extend(list(filter(lambda x : len(x) > 0, tokens)))\n",
    "\n",
    "lens = []\n",
    "for sent in sents:\n",
    "    lens.append(len(sent))\n",
    "print(lens)"
   ]
  },
  {
   "cell_type": "markdown",
   "id": "3d4e3bd0",
   "metadata": {},
   "source": [
    "写成列表生成式"
   ]
  },
  {
   "cell_type": "code",
   "execution_count": 219,
   "id": "2a977e39",
   "metadata": {},
   "outputs": [
    {
     "name": "stdout",
     "output_type": "stream",
     "text": [
      "[36, 24, 24, 54, 47, 121, 1, 55, 67, 27, 32, 11, 26, 45, 100, 40, 77, 1, 31, 79, 38, 34, 34, 65, 14, 18, 82, 40, 33, 36, 13, 41, 16, 46, 47, 1, 49, 56, 1, 33, 59, 1, 19, 11, 11, 46, 54, 62, 43, 33, 41, 67, 1]\n"
     ]
    }
   ],
   "source": [
    "with open('news.txt', 'r') as f:\n",
    "    f = open('news.txt', 'r', encoding='UTF-8')\n",
    "    lines = f.readlines()\n",
    "\n",
    "sents = []\n",
    "for line in lines:\n",
    "    line = line.strip()\n",
    "    tokens = line.split('。')\n",
    "    sents.extend(list(filter(lambda x : len(x) > 0, tokens)))\n",
    "\n",
    "lens = [len(sent) for sent in sents]\n",
    "print(lens)"
   ]
  },
  {
   "cell_type": "code",
   "execution_count": 220,
   "id": "5c75d0a0",
   "metadata": {},
   "outputs": [
    {
     "data": {
      "text/plain": [
       "[(1, 2),\n",
       " (1, 3),\n",
       " (1, 4),\n",
       " (1, 5),\n",
       " (1, 6),\n",
       " (1, 7),\n",
       " (2, 2),\n",
       " (2, 3),\n",
       " (2, 4),\n",
       " (2, 5),\n",
       " (2, 6),\n",
       " (2, 7),\n",
       " (3, 2),\n",
       " (3, 3),\n",
       " (3, 4),\n",
       " (3, 5),\n",
       " (3, 6),\n",
       " (3, 7)]"
      ]
     },
     "execution_count": 220,
     "metadata": {},
     "output_type": "execute_result"
    }
   ],
   "source": [
    "[(x, y) for x in range(1, 4) for y in range(2, 8)]"
   ]
  },
  {
   "cell_type": "code",
   "execution_count": 221,
   "id": "a08d7291",
   "metadata": {},
   "outputs": [
    {
     "name": "stdout",
     "output_type": "stream",
     "text": [
      "一家刚刚成立两年的网络支付公司，它的目标是成为市值100亿美元的上市公司\n",
      "这家公司叫做快钱，说这句话的是快钱的CEO关国光\n",
      "对于市值100亿美元的上市公司，他是这样算这笔账的，“百度上市时广告客户数量只有4万,而且它所做的只是把客户吸引过来，就可以支撑起现有的庞大市值；而我们几年后的客户数量是几千万，而且这些客户都是能直接带来利润的，说市值100亿美元一点都不夸张\n",
      "这家公司2005年年底注册用户达到400万，计划今年注册用户突破1000万，号称是国内最大的第三方网络支付平台\n",
      "网络支付平台相当于“信用缺位”条件下的“补位产物”，它把众多的银行卡整合到一个页面端口，以支付公司作为信用中介，在买家确认收到商品前，代替买卖双方暂时保管货款\n",
      "关国光表示，快钱最大的特点是第三方的支付平台，主要客户为那些中小公司\n",
      "这些网络支付平台的主要业务是针对母公司的，不太可能被其母公司同行使用\n",
      "在市场推广方面，快钱公司市场推广的目标就是让用户知道快钱这个品牌，然后将精力集中在核心应用上\n",
      "2005年8月，快钱公司获得美国DCM和半岛基金的首批风险投资，第二轮目前还在评估之中\n"
     ]
    }
   ],
   "source": [
    "for sent in sents:\n",
    "    if '公司'in sent:\n",
    "        print(sent)"
   ]
  },
  {
   "cell_type": "code",
   "execution_count": 222,
   "id": "aa2c0c84",
   "metadata": {},
   "outputs": [],
   "source": [
    "import re"
   ]
  },
  {
   "cell_type": "code",
   "execution_count": 223,
   "id": "2b0d0271",
   "metadata": {},
   "outputs": [
    {
     "name": "stdout",
     "output_type": "stream",
     "text": [
      "一家刚刚成立两年的网络支付公司，它的目标是成为市值100亿美元的上市公司\n",
      "这家公司叫做快钱，说这句话的是快钱的CEO关国光\n",
      "对于市值100亿美元的上市公司，他是这样算这笔账的，“百度上市时广告客户数量只有4万,而且它所做的只是把客户吸引过来，就可以支撑起现有的庞大市值；而我们几年后的客户数量是几千万，而且这些客户都是能直接带来利润的，说市值100亿美元一点都不夸张\n",
      "这家公司2005年年底注册用户达到400万，计划今年注册用户突破1000万，号称是国内最大的第三方网络支付平台\n",
      "网络支付平台相当于“信用缺位”条件下的“补位产物”，它把众多的银行卡整合到一个页面端口，以支付公司作为信用中介，在买家确认收到商品前，代替买卖双方暂时保管货款\n",
      "关国光表示，快钱最大的特点是第三方的支付平台，主要客户为那些中小公司\n",
      "这些网络支付平台的主要业务是针对母公司的，不太可能被其母公司同行使用\n",
      "在市场推广方面，快钱公司市场推广的目标就是让用户知道快钱这个品牌，然后将精力集中在核心应用上\n",
      "2005年8月，快钱公司获得美国DCM和半岛基金的首批风险投资，第二轮目前还在评估之中\n"
     ]
    }
   ],
   "source": [
    "regex = \"公司\"\n",
    "for sent in sents:\n",
    "    if re.search(regex, sent) is not None:\n",
    "        print(sent)"
   ]
  },
  {
   "cell_type": "code",
   "execution_count": 224,
   "id": "49c40c74",
   "metadata": {},
   "outputs": [
    {
     "name": "stdout",
     "output_type": "stream",
     "text": [
      "一家刚刚成立两年的网络支付公司，它的目标是成为市值100亿美元的上市公司\n",
      "他之前曾任网易的高级副总裁，负责过网易的上市工作\n",
      "对于市值100亿美元的上市公司，他是这样算这笔账的，“百度上市时广告客户数量只有4万,而且它所做的只是把客户吸引过来，就可以支撑起现有的庞大市值；而我们几年后的客户数量是几千万，而且这些客户都是能直接带来利润的，说市值100亿美元一点都不夸张\n",
      "虽然美国和中国差异显著，但他坚信中国的第三方支付市场前景非常广阔\n",
      "在市场推广方面，快钱公司市场推广的目标就是让用户知道快钱这个品牌，然后将精力集中在核心应用上\n",
      "他认为一旦快钱做了应用，将面临更多的竞争对手，同时也违背了自己独立的第三方支付平台的市场定位\n"
     ]
    }
   ],
   "source": [
    "regex = \"市.\"      # 市 + x\n",
    "for sent in sents:\n",
    "    if re.search(regex, sent) is not None:\n",
    "        print(sent)"
   ]
  },
  {
   "cell_type": "code",
   "execution_count": 225,
   "id": "a66e2732",
   "metadata": {},
   "outputs": [
    {
     "name": "stdout",
     "output_type": "stream",
     "text": [
      "一家刚刚成立两年的网络支付公司，它的目标是成为市值100亿美元的上市公司\n",
      "他之前曾任网易的高级副总裁，负责过网易的上市工作\n",
      "对于市值100亿美元的上市公司，他是这样算这笔账的，“百度上市时广告客户数量只有4万,而且它所做的只是把客户吸引过来，就可以支撑起现有的庞大市值；而我们几年后的客户数量是几千万，而且这些客户都是能直接带来利润的，说市值100亿美元一点都不夸张\n",
      "”关国光说，“从本质上讲，我们和VISA等采用的底层技术是没有差别的，我们和它的区别在于VISA卡面对的交易工具比较单一，而快钱面对的是多种分散的交易工具\n",
      "交易的安全性是网上支付平台最大的问题\n",
      "在市场推广方面，快钱公司市场推广的目标就是让用户知道快钱这个品牌，然后将精力集中在核心应用上\n",
      "”关国光表示，“快钱的策略就是要找准交易，捆绑和依托在上面，用户在进行电子交易时，自然而然就会用到我们的支付平台\n",
      "除此之外，快钱的策略是先稳定一批活跃用户后，再将目光放到普通用户上\n"
     ]
    }
   ],
   "source": [
    "regex = \"[百上]\"    # 百 or 上\n",
    "for sent in sents:\n",
    "    if re.search(regex, sent) is not None:\n",
    "        print(sent)"
   ]
  },
  {
   "cell_type": "code",
   "execution_count": 226,
   "id": "a677e301",
   "metadata": {},
   "outputs": [
    {
     "name": "stdout",
     "output_type": "stream",
     "text": [
      "这家公司2005年年底注册用户达到400万，计划今年注册用户突破1000万，号称是国内最大的第三方网络支付平台\n",
      "2005年8月，快钱公司获得美国DCM和半岛基金的首批风险投资，第二轮目前还在评估之中\n"
     ]
    }
   ],
   "source": [
    "regex = \"2[0-9]{3}\"    # 年份: 2xxx\n",
    "for sent in sents:\n",
    "    if re.search(regex, sent) is not None:\n",
    "        print(sent)"
   ]
  },
  {
   "cell_type": "code",
   "execution_count": 227,
   "id": "5375924a",
   "metadata": {},
   "outputs": [
    {
     "name": "stdout",
     "output_type": "stream",
     "text": [
      "['100']\n",
      "['100', '4', '100']\n",
      "['2005', '400', '1000']\n",
      "['3000', '70']\n",
      "['2005', '8']\n"
     ]
    }
   ],
   "source": [
    "regex = \"[0-9]+\"    # 查找的数字是一个整体\n",
    "for sent in sents:\n",
    "    if re.search(regex, sent) is not None:\n",
    "        print(re.findall(regex, sent))"
   ]
  },
  {
   "cell_type": "code",
   "execution_count": 228,
   "id": "00b89331",
   "metadata": {},
   "outputs": [],
   "source": [
    "with open('output.txt', 'w', encoding = 'utf-8') as f:\n",
    "    sents = [sent + '\\n' for sent in sents]\n",
    "    f.writelines(sents)"
   ]
  }
 ],
 "metadata": {
  "kernelspec": {
   "display_name": "Python 3 (ipykernel)",
   "language": "python",
   "name": "python3"
  },
  "language_info": {
   "codemirror_mode": {
    "name": "ipython",
    "version": 3
   },
   "file_extension": ".py",
   "mimetype": "text/x-python",
   "name": "python",
   "nbconvert_exporter": "python",
   "pygments_lexer": "ipython3",
   "version": "3.9.7"
  }
 },
 "nbformat": 4,
 "nbformat_minor": 5
}
