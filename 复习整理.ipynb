{
 "cells": [
  {
   "cell_type": "markdown",
   "id": "ff867ecb",
   "metadata": {
    "toc": true
   },
   "source": [
    "<h1>Table of Contents<span class=\"tocSkip\"></span></h1>\n",
    "<div class=\"toc\"><ul class=\"toc-item\"><li><span><a href=\"#序列类型\" data-toc-modified-id=\"序列类型-1\"><span class=\"toc-item-num\">1&nbsp;&nbsp;</span>序列类型</a></span><ul class=\"toc-item\"><li><span><a href=\"#定义\" data-toc-modified-id=\"定义-1.1\"><span class=\"toc-item-num\">1.1&nbsp;&nbsp;</span>定义</a></span><ul class=\"toc-item\"><li><span><a href=\"#list列表\" data-toc-modified-id=\"list列表-1.1.1\"><span class=\"toc-item-num\">1.1.1&nbsp;&nbsp;</span><code>list</code>列表</a></span></li><li><span><a href=\"#tuple元组\" data-toc-modified-id=\"tuple元组-1.1.2\"><span class=\"toc-item-num\">1.1.2&nbsp;&nbsp;</span><code>tuple</code>元组</a></span></li></ul></li><li><span><a href=\"#通用序列操作\" data-toc-modified-id=\"通用序列操作-1.2\"><span class=\"toc-item-num\">1.2&nbsp;&nbsp;</span>通用序列操作</a></span><ul class=\"toc-item\"><li><span><a href=\"#x-in-s：如果s中的某项等于x，则结果为True，否则为False\" data-toc-modified-id=\"x-in-s：如果s中的某项等于x，则结果为True，否则为False-1.2.1\"><span class=\"toc-item-num\">1.2.1&nbsp;&nbsp;</span><code>x in s</code>：如果<code>s</code>中的某项等于<code>x</code>，则结果为<code>True</code>，否则为<code>False</code></a></span></li><li><span><a href=\"#s-+-t：s与t拼接\" data-toc-modified-id=\"s-+-t：s与t拼接-1.2.2\"><span class=\"toc-item-num\">1.2.2&nbsp;&nbsp;</span><code>s + t</code>：<code>s</code>与<code>t</code>拼接</a></span></li><li><span><a href=\"#s-*-n：s与自身进行n次拼接\" data-toc-modified-id=\"s-*-n：s与自身进行n次拼接-1.2.3\"><span class=\"toc-item-num\">1.2.3&nbsp;&nbsp;</span><code>s * n</code>：<code>s</code>与自身进行<code>n</code>次拼接</a></span></li><li><span><a href=\"#s[i]：s的第i项\" data-toc-modified-id=\"s[i]：s的第i项-1.2.4\"><span class=\"toc-item-num\">1.2.4&nbsp;&nbsp;</span><code>s[i]</code>：<code>s</code>的第<code>i</code>项</a></span></li><li><span><a href=\"#切片\" data-toc-modified-id=\"切片-1.2.5\"><span class=\"toc-item-num\">1.2.5&nbsp;&nbsp;</span>切片</a></span><ul class=\"toc-item\"><li><span><a href=\"#s[i:j]：s从i到j的切片。i表示开始位置，j表示结束位置的前一个位置。\" data-toc-modified-id=\"s[i:j]：s从i到j的切片。i表示开始位置，j表示结束位置的前一个位置。-1.2.5.1\"><span class=\"toc-item-num\">1.2.5.1&nbsp;&nbsp;</span><code>s[i:j]</code>：<code>s</code>从<code>i</code>到<code>j</code>的切片。<code>i</code>表示开始位置，<code>j</code>表示结束位置的前一个位置。</a></span></li><li><span><a href=\"#s[i:j:k]：s从i到j，以步长为k进行切片。i表示开始位置，j表示结束位置的前一个位置，k表示步长。\" data-toc-modified-id=\"s[i:j:k]：s从i到j，以步长为k进行切片。i表示开始位置，j表示结束位置的前一个位置，k表示步长。-1.2.5.2\"><span class=\"toc-item-num\">1.2.5.2&nbsp;&nbsp;</span><code>s[i:j:k]</code>：<code>s</code>从<code>i</code>到<code>j</code>，以步长为<code>k</code>进行切片。<code>i</code>表示开始位置，<code>j</code>表示结束位置的前一个位置，<code>k</code>表示步长。</a></span></li></ul></li><li><span><a href=\"#len(s)：s的长度\" data-toc-modified-id=\"len(s)：s的长度-1.2.6\"><span class=\"toc-item-num\">1.2.6&nbsp;&nbsp;</span><code>len(s)</code>：<code>s</code>的长度</a></span></li><li><span><a href=\"#min(s)-&amp;-max(s)：s的最小-/-大值\" data-toc-modified-id=\"min(s)-&amp;-max(s)：s的最小-/-大值-1.2.7\"><span class=\"toc-item-num\">1.2.7&nbsp;&nbsp;</span><code>min(s)</code> &amp; <code>max(s)</code>：<code>s</code>的最小 / 大值</a></span></li><li><span><a href=\"#s.index(x)：x在s中首次出现项的索引号\" data-toc-modified-id=\"s.index(x)：x在s中首次出现项的索引号-1.2.8\"><span class=\"toc-item-num\">1.2.8&nbsp;&nbsp;</span><code>s.index(x)</code>：<code>x</code>在<code>s</code>中首次出现项的索引号</a></span></li><li><span><a href=\"#s.count(x)：x在s中出现的总次数\" data-toc-modified-id=\"s.count(x)：x在s中出现的总次数-1.2.9\"><span class=\"toc-item-num\">1.2.9&nbsp;&nbsp;</span><code>s.count(x)</code>：<code>x</code>在<code>s</code>中出现的总次数</a></span></li></ul></li><li><span><a href=\"#可变序列操作\" data-toc-modified-id=\"可变序列操作-1.3\"><span class=\"toc-item-num\">1.3&nbsp;&nbsp;</span>可变序列操作</a></span><ul class=\"toc-item\"><li><span><a href=\"#s.append(x)：将元素x添加到s中\" data-toc-modified-id=\"s.append(x)：将元素x添加到s中-1.3.1\"><span class=\"toc-item-num\">1.3.1&nbsp;&nbsp;</span><code>s.append(x)</code>：将元素<code>x</code>添加到<code>s</code>中</a></span></li><li><span><a href=\"#s.extend(t)：用t的内容扩展s\" data-toc-modified-id=\"s.extend(t)：用t的内容扩展s-1.3.2\"><span class=\"toc-item-num\">1.3.2&nbsp;&nbsp;</span><code>s.extend(t)</code>：用<code>t</code>的内容扩展<code>s</code></a></span></li><li><span><a href=\"#s[i]-=-x：将s的第i项替换为x\" data-toc-modified-id=\"s[i]-=-x：将s的第i项替换为x-1.3.3\"><span class=\"toc-item-num\">1.3.3&nbsp;&nbsp;</span><code>s[i] = x</code>：将<code>s</code>的第<code>i</code>项替换为<code>x</code></a></span></li><li><span><a href=\"#[]：空列表\" data-toc-modified-id=\"[]：空列表-1.3.4\"><span class=\"toc-item-num\">1.3.4&nbsp;&nbsp;</span><code>[]</code>：空列表</a></span></li><li><span><a href=\"#[[]]：一个包含了一个空列表的单元素列表\" data-toc-modified-id=\"[[]]：一个包含了一个空列表的单元素列表-1.3.5\"><span class=\"toc-item-num\">1.3.5&nbsp;&nbsp;</span><code>[[]]</code>：一个包含了一个空列表的单元素列表</a></span></li></ul></li><li><span><a href=\"#tuple中引用list\" data-toc-modified-id=\"tuple中引用list-1.4\"><span class=\"toc-item-num\">1.4&nbsp;&nbsp;</span><code>tuple</code>中引用<code>list</code></a></span></li></ul></li><li><span><a href=\"#文本序列类型-——-str字符串\" data-toc-modified-id=\"文本序列类型-——-str字符串-2\"><span class=\"toc-item-num\">2&nbsp;&nbsp;</span>文本序列类型 —— <code>str</code>字符串</a></span><ul class=\"toc-item\"><li><span><a href=\"#定义\" data-toc-modified-id=\"定义-2.1\"><span class=\"toc-item-num\">2.1&nbsp;&nbsp;</span>定义</a></span><ul class=\"toc-item\"><li><span><a href=\"#单引号：带转移字符，并且不能同时带有'和&quot;\" data-toc-modified-id=\"单引号：带转移字符，并且不能同时带有'和&quot;-2.1.1\"><span class=\"toc-item-num\">2.1.1&nbsp;&nbsp;</span>单引号：带转移字符，并且不能同时带有<code>'</code>和<code>\"</code></a></span></li><li><span><a href=\"#双引号：可直接输出'，但&quot;需要带转义字符\" data-toc-modified-id=\"双引号：可直接输出'，但&quot;需要带转义字符-2.1.2\"><span class=\"toc-item-num\">2.1.2&nbsp;&nbsp;</span>双引号：可直接输出<code>'</code>，但<code>\"</code>需要带转义字符</a></span></li><li><span><a href=\"#三重引号：句子里既有'和&quot;时用&quot;&quot;&quot;，常用于代码前的大段注释\" data-toc-modified-id=\"三重引号：句子里既有'和&quot;时用&quot;&quot;&quot;，常用于代码前的大段注释-2.1.3\"><span class=\"toc-item-num\">2.1.3&nbsp;&nbsp;</span>三重引号：句子里既有<code>'</code>和<code>\"</code>时用<code>\"\"\"</code>，常用于代码前的大段注释</a></span></li></ul></li><li><span><a href=\"#注意点\" data-toc-modified-id=\"注意点-2.2\"><span class=\"toc-item-num\">2.2&nbsp;&nbsp;</span>注意点</a></span><ul class=\"toc-item\"><li><span><a href=\"#r：告诉python解释器不要把\\看成转义字符，而就是\\本身\" data-toc-modified-id=\"r：告诉python解释器不要把\\看成转义字符，而就是\\本身-2.2.1\"><span class=\"toc-item-num\">2.2.1&nbsp;&nbsp;</span><code>r</code>：告诉<code>python</code>解释器不要把<code>\\</code>看成转义字符，而就是<code>\\</code>本身</a></span></li><li><span><a href=\"#Unicode编码，正确处理中文\" data-toc-modified-id=\"Unicode编码，正确处理中文-2.2.2\"><span class=\"toc-item-num\">2.2.2&nbsp;&nbsp;</span><code>Unicode</code>编码，正确处理中文</a></span></li><li><span><a href=\"#字符串拼接\" data-toc-modified-id=\"字符串拼接-2.2.3\"><span class=\"toc-item-num\">2.2.3&nbsp;&nbsp;</span>字符串拼接</a></span></li></ul></li><li><span><a href=\"#格式化\" data-toc-modified-id=\"格式化-2.3\"><span class=\"toc-item-num\">2.3&nbsp;&nbsp;</span>格式化</a></span><ul class=\"toc-item\"><li><span><a href=\"#+\" data-toc-modified-id=\"+-2.3.1\"><span class=\"toc-item-num\">2.3.1&nbsp;&nbsp;</span><code>+</code></a></span></li><li><span><a href=\"#%\" data-toc-modified-id=\"%-2.3.2\"><span class=\"toc-item-num\">2.3.2&nbsp;&nbsp;</span><code>%</code></a></span></li><li><span><a href=\"#format\" data-toc-modified-id=\"format-2.3.3\"><span class=\"toc-item-num\">2.3.3&nbsp;&nbsp;</span><code>format</code></a></span></li><li><span><a href=\"#f\" data-toc-modified-id=\"f-2.3.4\"><span class=\"toc-item-num\">2.3.4&nbsp;&nbsp;</span><code>f</code></a></span></li></ul></li><li><span><a href=\"#字符串的方法\" data-toc-modified-id=\"字符串的方法-2.4\"><span class=\"toc-item-num\">2.4&nbsp;&nbsp;</span>字符串的方法</a></span><ul class=\"toc-item\"><li><span><a href=\"#seq.join(list)\" data-toc-modified-id=\"seq.join(list)-2.4.1\"><span class=\"toc-item-num\">2.4.1&nbsp;&nbsp;</span><code>seq.join(list)</code></a></span></li><li><span><a href=\"#str.replace(old,-new)\" data-toc-modified-id=\"str.replace(old,-new)-2.4.2\"><span class=\"toc-item-num\">2.4.2&nbsp;&nbsp;</span><code>str.replace(old, new)</code></a></span></li><li><span><a href=\"#str.split(sep)\" data-toc-modified-id=\"str.split(sep)-2.4.3\"><span class=\"toc-item-num\">2.4.3&nbsp;&nbsp;</span><code>str.split(sep)</code></a></span></li></ul></li></ul></li><li><span><a href=\"#结构控制语句\" data-toc-modified-id=\"结构控制语句-3\"><span class=\"toc-item-num\">3&nbsp;&nbsp;</span>结构控制语句</a></span><ul class=\"toc-item\"><li><span><a href=\"#if语句\" data-toc-modified-id=\"if语句-3.1\"><span class=\"toc-item-num\">3.1&nbsp;&nbsp;</span><code>if</code>语句</a></span></li><li><span><a href=\"#while语句\" data-toc-modified-id=\"while语句-3.2\"><span class=\"toc-item-num\">3.2&nbsp;&nbsp;</span><code>while</code>语句</a></span></li><li><span><a href=\"#for语句\" data-toc-modified-id=\"for语句-3.3\"><span class=\"toc-item-num\">3.3&nbsp;&nbsp;</span><code>for</code>语句</a></span><ul class=\"toc-item\"><li><span><a href=\"#for语句的句式\" data-toc-modified-id=\"for语句的句式-3.3.1\"><span class=\"toc-item-num\">3.3.1&nbsp;&nbsp;</span><code>for</code>语句的句式</a></span></li><li><span><a href=\"#range对象\" data-toc-modified-id=\"range对象-3.3.2\"><span class=\"toc-item-num\">3.3.2&nbsp;&nbsp;</span><code>range</code>对象</a></span><ul class=\"toc-item\"><li><span><a href=\"#range(stop)：[0,-stop---1]的值\" data-toc-modified-id=\"range(stop)：[0,-stop---1]的值-3.3.2.1\"><span class=\"toc-item-num\">3.3.2.1&nbsp;&nbsp;</span><code>range(stop)</code>：<code>[0, stop - 1]</code>的值</a></span></li><li><span><a href=\"#range(start,-stop,-step)：[start,-stop---1]中步长为step的值\" data-toc-modified-id=\"range(start,-stop,-step)：[start,-stop---1]中步长为step的值-3.3.2.2\"><span class=\"toc-item-num\">3.3.2.2&nbsp;&nbsp;</span><code>range(start, stop, step)</code>：[start, stop - 1]中步长为<code>step</code>的值</a></span></li><li><span><a href=\"#range在for语句中的应用\" data-toc-modified-id=\"range在for语句中的应用-3.3.2.3\"><span class=\"toc-item-num\">3.3.2.3&nbsp;&nbsp;</span><code>range</code>在<code>for</code>语句中的应用</a></span></li></ul></li><li><span><a href=\"#enumerate对象\" data-toc-modified-id=\"enumerate对象-3.3.3\"><span class=\"toc-item-num\">3.3.3&nbsp;&nbsp;</span><code>enumerate</code>对象</a></span><ul class=\"toc-item\"><li><span><a href=\"#enumerate(seq)：将seq组合为一个索引序列，同时列出数据value和数据下标index\" data-toc-modified-id=\"enumerate(seq)：将seq组合为一个索引序列，同时列出数据value和数据下标index-3.3.3.1\"><span class=\"toc-item-num\">3.3.3.1&nbsp;&nbsp;</span><code>enumerate(seq)</code>：将<code>seq</code>组合为一个索引序列，同时列出数据<code>value</code>和数据下标<code>index</code></a></span></li><li><span><a href=\"#enumerate(seq,-start)：将seq组合为一个索引序列，同时列出数据value和数据下标index（index从start开始编号）\" data-toc-modified-id=\"enumerate(seq,-start)：将seq组合为一个索引序列，同时列出数据value和数据下标index（index从start开始编号）-3.3.3.2\"><span class=\"toc-item-num\">3.3.3.2&nbsp;&nbsp;</span><code>enumerate(seq, start)</code>：将<code>seq</code>组合为一个索引序列，同时列出数据<code>value</code>和数据下标<code>index</code>（<code>index</code>从<code>start</code>开始编号）</a></span></li><li><span><a href=\"#enumerate在for语句中的应用\" data-toc-modified-id=\"enumerate在for语句中的应用-3.3.3.3\"><span class=\"toc-item-num\">3.3.3.3&nbsp;&nbsp;</span><code>enumerate</code>在<code>for</code>语句中的应用</a></span></li></ul></li><li><span><a href=\"#zip对象\" data-toc-modified-id=\"zip对象-3.3.4\"><span class=\"toc-item-num\">3.3.4&nbsp;&nbsp;</span><code>zip</code>对象</a></span><ul class=\"toc-item\"><li><span><a href=\"#zip(it,-...)：将it中对应的元素打包成元组，然后返回由这些元组组成的列表。\" data-toc-modified-id=\"zip(it,-...)：将it中对应的元素打包成元组，然后返回由这些元组组成的列表。-3.3.4.1\"><span class=\"toc-item-num\">3.3.4.1&nbsp;&nbsp;</span><code>zip(it, ...)</code>：将<code>it</code>中对应的元素打包成元组，然后返回由这些元组组成的列表。</a></span></li><li><span><a href=\"#zip在for语句中的应用\" data-toc-modified-id=\"zip在for语句中的应用-3.3.4.2\"><span class=\"toc-item-num\">3.3.4.2&nbsp;&nbsp;</span><code>zip</code>在<code>for</code>语句中的应用</a></span></li></ul></li></ul></li></ul></li><li><span><a href=\"#映射集合-——-dict\" data-toc-modified-id=\"映射集合-——-dict-4\"><span class=\"toc-item-num\">4&nbsp;&nbsp;</span>映射集合 —— <code>dict</code></a></span><ul class=\"toc-item\"><li><span><a href=\"#字典的创建\" data-toc-modified-id=\"字典的创建-4.1\"><span class=\"toc-item-num\">4.1&nbsp;&nbsp;</span>字典的创建</a></span></li><li><span><a href=\"#字典的访问\" data-toc-modified-id=\"字典的访问-4.2\"><span class=\"toc-item-num\">4.2&nbsp;&nbsp;</span>字典的访问</a></span><ul class=\"toc-item\"><li><span><a href=\"#d[key]：返回d中以key为键的值\" data-toc-modified-id=\"d[key]：返回d中以key为键的值-4.2.1\"><span class=\"toc-item-num\">4.2.1&nbsp;&nbsp;</span><code>d[key]</code>：返回<code>d</code>中以<code>key</code>为键的值</a></span></li><li><span><a href=\"#d.get(key,-default)\" data-toc-modified-id=\"d.get(key,-default)-4.2.2\"><span class=\"toc-item-num\">4.2.2&nbsp;&nbsp;</span><code>d.get(key, default)</code></a></span><ul class=\"toc-item\"><li><span><a href=\"#不设置default：如果key存在于d中则返回key的value，否则返回None\" data-toc-modified-id=\"不设置default：如果key存在于d中则返回key的value，否则返回None-4.2.2.1\"><span class=\"toc-item-num\">4.2.2.1&nbsp;&nbsp;</span>不设置<code>default</code>：如果<code>key</code>存在于<code>d</code>中则返回<code>key</code>的<code>value</code>，否则返回<code>None</code></a></span></li><li><span><a href=\"#设置default：如果key存在于d中则返回key的value，否则返回default\" data-toc-modified-id=\"设置default：如果key存在于d中则返回key的value，否则返回default-4.2.2.2\"><span class=\"toc-item-num\">4.2.2.2&nbsp;&nbsp;</span>设置<code>default</code>：如果<code>key</code>存在于<code>d</code>中则返回<code>key</code>的<code>value</code>，否则返回<code>default</code></a></span></li></ul></li></ul></li><li><span><a href=\"#字典的方法\" data-toc-modified-id=\"字典的方法-4.3\"><span class=\"toc-item-num\">4.3&nbsp;&nbsp;</span>字典的方法</a></span><ul class=\"toc-item\"><li><span><a href=\"#d[key]-=-value：将d[key]设为value\" data-toc-modified-id=\"d[key]-=-value：将d[key]设为value-4.3.1\"><span class=\"toc-item-num\">4.3.1&nbsp;&nbsp;</span><code>d[key] = value</code>：将<code>d[key]</code>设为<code>value</code></a></span></li><li><span><a href=\"#del-d[key]：将d[key]从d中移除\" data-toc-modified-id=\"del-d[key]：将d[key]从d中移除-4.3.2\"><span class=\"toc-item-num\">4.3.2&nbsp;&nbsp;</span><code>del d[key]</code>：将<code>d[key]</code>从<code>d</code>中移除</a></span></li><li><span><a href=\"#key-in-d：如果d中存在key则返回True，否则返回False\" data-toc-modified-id=\"key-in-d：如果d中存在key则返回True，否则返回False-4.3.3\"><span class=\"toc-item-num\">4.3.3&nbsp;&nbsp;</span><code>key in d</code>：如果<code>d</code>中存在<code>key</code>则返回<code>True</code>，否则返回<code>False</code></a></span></li></ul></li><li><span><a href=\"#字典的遍历\" data-toc-modified-id=\"字典的遍历-4.4\"><span class=\"toc-item-num\">4.4&nbsp;&nbsp;</span>字典的遍历</a></span><ul class=\"toc-item\"><li><span><a href=\"#d.keys()：返回由字典key组成的一个新视图\" data-toc-modified-id=\"d.keys()：返回由字典key组成的一个新视图-4.4.1\"><span class=\"toc-item-num\">4.4.1&nbsp;&nbsp;</span><code>d.keys()</code>：返回由字典<code>key</code>组成的一个新视图</a></span></li><li><span><a href=\"#d.values()：返回由字典value组成的一个新视图\" data-toc-modified-id=\"d.values()：返回由字典value组成的一个新视图-4.4.2\"><span class=\"toc-item-num\">4.4.2&nbsp;&nbsp;</span><code>d.values()</code>：返回由字典<code>value</code>组成的一个新视图</a></span></li><li><span><a href=\"#d.items()：返回由字典(key,-value)组成的一个新视图\" data-toc-modified-id=\"d.items()：返回由字典(key,-value)组成的一个新视图-4.4.3\"><span class=\"toc-item-num\">4.4.3&nbsp;&nbsp;</span><code>d.items()</code>：返回由字典<code>(key, value)</code>组成的一个新视图</a></span></li></ul></li></ul></li><li><span><a href=\"#函数\" data-toc-modified-id=\"函数-5\"><span class=\"toc-item-num\">5&nbsp;&nbsp;</span>函数</a></span><ul class=\"toc-item\"><li><span><a href=\"#函数的定义\" data-toc-modified-id=\"函数的定义-5.1\"><span class=\"toc-item-num\">5.1&nbsp;&nbsp;</span>函数的定义</a></span></li><li><span><a href=\"#参数\" data-toc-modified-id=\"参数-5.2\"><span class=\"toc-item-num\">5.2&nbsp;&nbsp;</span>参数</a></span><ul class=\"toc-item\"><li><span><a href=\"#引用传递\" data-toc-modified-id=\"引用传递-5.2.1\"><span class=\"toc-item-num\">5.2.1&nbsp;&nbsp;</span>引用传递</a></span></li><li><span><a href=\"#实参的顺序\" data-toc-modified-id=\"实参的顺序-5.2.2\"><span class=\"toc-item-num\">5.2.2&nbsp;&nbsp;</span>实参的顺序</a></span></li><li><span><a href=\"#形参的默认值\" data-toc-modified-id=\"形参的默认值-5.2.3\"><span class=\"toc-item-num\">5.2.3&nbsp;&nbsp;</span>形参的默认值</a></span></li><li><span><a href=\"#*args：[list]-不定参数\" data-toc-modified-id=\"*args：[list]-不定参数-5.2.4\"><span class=\"toc-item-num\">5.2.4&nbsp;&nbsp;</span><code>*args</code>：[<code>list</code>] 不定参数</a></span></li><li><span><a href=\"#**kwargs：[dict]-带名字的不定参数\" data-toc-modified-id=\"**kwargs：[dict]-带名字的不定参数-5.2.5\"><span class=\"toc-item-num\">5.2.5&nbsp;&nbsp;</span><code>**kwargs</code>：[<code>dict</code>] 带名字的不定参数</a></span></li></ul></li><li><span><a href=\"#first-class\" data-toc-modified-id=\"first-class-5.3\"><span class=\"toc-item-num\">5.3&nbsp;&nbsp;</span>first class</a></span><ul class=\"toc-item\"><li><span><a href=\"#变量引用\" data-toc-modified-id=\"变量引用-5.3.1\"><span class=\"toc-item-num\">5.3.1&nbsp;&nbsp;</span>变量引用</a></span></li><li><span><a href=\"#参数传递\" data-toc-modified-id=\"参数传递-5.3.2\"><span class=\"toc-item-num\">5.3.2&nbsp;&nbsp;</span>参数传递</a></span></li><li><span><a href=\"#加入到集合当中\" data-toc-modified-id=\"加入到集合当中-5.3.3\"><span class=\"toc-item-num\">5.3.3&nbsp;&nbsp;</span>加入到集合当中</a></span></li><li><span><a href=\"#函数闭包\" data-toc-modified-id=\"函数闭包-5.3.4\"><span class=\"toc-item-num\">5.3.4&nbsp;&nbsp;</span>函数闭包</a></span></li><li><span><a href=\"#lambda表达式\" data-toc-modified-id=\"lambda表达式-5.3.5\"><span class=\"toc-item-num\">5.3.5&nbsp;&nbsp;</span><code>lambda</code>表达式</a></span></li></ul></li></ul></li><li><span><a href=\"#异常处理\" data-toc-modified-id=\"异常处理-6\"><span class=\"toc-item-num\">6&nbsp;&nbsp;</span>异常处理</a></span></li><li><span><a href=\"#文件处理\" data-toc-modified-id=\"文件处理-7\"><span class=\"toc-item-num\">7&nbsp;&nbsp;</span>文件处理</a></span><ul class=\"toc-item\"><li><span><a href=\"#读取文件\" data-toc-modified-id=\"读取文件-7.1\"><span class=\"toc-item-num\">7.1&nbsp;&nbsp;</span>读取文件</a></span><ul class=\"toc-item\"><li><span><a href=\"#with语句\" data-toc-modified-id=\"with语句-7.1.1\"><span class=\"toc-item-num\">7.1.1&nbsp;&nbsp;</span><code>with</code>语句</a></span></li><li><span><a href=\"#使用with语句读取文本\" data-toc-modified-id=\"使用with语句读取文本-7.1.2\"><span class=\"toc-item-num\">7.1.2&nbsp;&nbsp;</span>使用<code>with</code>语句读取文本</a></span></li></ul></li><li><span><a href=\"#文本处理\" data-toc-modified-id=\"文本处理-7.2\"><span class=\"toc-item-num\">7.2&nbsp;&nbsp;</span>文本处理</a></span><ul class=\"toc-item\"><li><span><a href=\"#str.strip()：返回字符串的副本，移除其中的前导和末尾字符。\" data-toc-modified-id=\"str.strip()：返回字符串的副本，移除其中的前导和末尾字符。-7.2.1\"><span class=\"toc-item-num\">7.2.1&nbsp;&nbsp;</span><code>str.strip()</code>：返回字符串的副本，移除其中的前导和末尾字符。</a></span></li><li><span><a href=\"#清除空列表（len-==-0）：\" data-toc-modified-id=\"清除空列表（len-==-0）：-7.2.2\"><span class=\"toc-item-num\">7.2.2&nbsp;&nbsp;</span>清除空列表（<code>len == 0</code>）：</a></span><ul class=\"toc-item\"><li><span><a href=\"#for循环\" data-toc-modified-id=\"for循环-7.2.2.1\"><span class=\"toc-item-num\">7.2.2.1&nbsp;&nbsp;</span><code>for</code>循环</a></span></li><li><span><a href=\"#filter内置函数\" data-toc-modified-id=\"filter内置函数-7.2.2.2\"><span class=\"toc-item-num\">7.2.2.2&nbsp;&nbsp;</span><code>filter</code>内置函数</a></span></li><li><span><a href=\"#filter改写for\" data-toc-modified-id=\"filter改写for-7.2.2.3\"><span class=\"toc-item-num\">7.2.2.3&nbsp;&nbsp;</span><code>filter</code>改写<code>for</code></a></span></li></ul></li><li><span><a href=\"#使用“列表生成式”处理文本\" data-toc-modified-id=\"使用“列表生成式”处理文本-7.2.3\"><span class=\"toc-item-num\">7.2.3&nbsp;&nbsp;</span>使用“列表生成式”处理文本</a></span><ul class=\"toc-item\"><li><span><a href=\"#for语句\" data-toc-modified-id=\"for语句-7.2.3.1\"><span class=\"toc-item-num\">7.2.3.1&nbsp;&nbsp;</span><code>for</code>语句</a></span></li><li><span><a href=\"#列表生成式\" data-toc-modified-id=\"列表生成式-7.2.3.2\"><span class=\"toc-item-num\">7.2.3.2&nbsp;&nbsp;</span>列表生成式</a></span></li><li><span><a href=\"#列表生成式改写for语句\" data-toc-modified-id=\"列表生成式改写for语句-7.2.3.3\"><span class=\"toc-item-num\">7.2.3.3&nbsp;&nbsp;</span>列表生成式改写<code>for</code>语句</a></span></li></ul></li><li><span><a href=\"#查找文字\" data-toc-modified-id=\"查找文字-7.2.4\"><span class=\"toc-item-num\">7.2.4&nbsp;&nbsp;</span>查找文字</a></span><ul class=\"toc-item\"><li><span><a href=\"#不导re包进行查找\" data-toc-modified-id=\"不导re包进行查找-7.2.4.1\"><span class=\"toc-item-num\">7.2.4.1&nbsp;&nbsp;</span>不导<code>re</code>包进行查找</a></span></li><li><span><a href=\"#导入re包进行查找\" data-toc-modified-id=\"导入re包进行查找-7.2.4.2\"><span class=\"toc-item-num\">7.2.4.2&nbsp;&nbsp;</span>导入<code>re</code>包进行查找</a></span></li></ul></li><li><span><a href=\"#写入文件\" data-toc-modified-id=\"写入文件-7.2.5\"><span class=\"toc-item-num\">7.2.5&nbsp;&nbsp;</span>写入文件</a></span></li></ul></li></ul></li></ul></div>"
   ]
  },
  {
   "cell_type": "markdown",
   "id": "8cdbbcf0",
   "metadata": {},
   "source": [
    "# 序列类型"
   ]
  },
  {
   "cell_type": "markdown",
   "id": "dff38e64",
   "metadata": {},
   "source": [
    "## 定义"
   ]
  },
  {
   "cell_type": "markdown",
   "id": "c8d743ec",
   "metadata": {},
   "source": [
    "### `list`列表"
   ]
  },
  {
   "cell_type": "markdown",
   "id": "90cbb64a",
   "metadata": {},
   "source": [
    "`list`是可变序列类型"
   ]
  },
  {
   "cell_type": "code",
   "execution_count": 1,
   "id": "a31be924",
   "metadata": {},
   "outputs": [
    {
     "data": {
      "text/plain": [
       "list"
      ]
     },
     "execution_count": 1,
     "metadata": {},
     "output_type": "execute_result"
    }
   ],
   "source": [
    "s = [1, 2, 3]\n",
    "type(s)"
   ]
  },
  {
   "cell_type": "markdown",
   "id": "20e36885",
   "metadata": {},
   "source": [
    "### `tuple`元组"
   ]
  },
  {
   "cell_type": "markdown",
   "id": "1064e924",
   "metadata": {},
   "source": [
    "`tuple`是不可变序列"
   ]
  },
  {
   "cell_type": "code",
   "execution_count": 2,
   "id": "0e6c3c16",
   "metadata": {},
   "outputs": [
    {
     "data": {
      "text/plain": [
       "tuple"
      ]
     },
     "execution_count": 2,
     "metadata": {},
     "output_type": "execute_result"
    }
   ],
   "source": [
    "s = (1, 2, 3)\n",
    "type(s)"
   ]
  },
  {
   "cell_type": "markdown",
   "id": "c3f15d7e",
   "metadata": {},
   "source": [
    "## 通用序列操作"
   ]
  },
  {
   "cell_type": "markdown",
   "id": "d7f879ca",
   "metadata": {},
   "source": [
    "### `x in s`：如果`s`中的某项等于`x`，则结果为`True`，否则为`False`"
   ]
  },
  {
   "cell_type": "code",
   "execution_count": 3,
   "id": "8b1de388",
   "metadata": {},
   "outputs": [],
   "source": [
    "s = [1, 2, 3, 4, 'a', 'b']"
   ]
  },
  {
   "cell_type": "code",
   "execution_count": 4,
   "id": "a2ebfe51",
   "metadata": {},
   "outputs": [
    {
     "data": {
      "text/plain": [
       "False"
      ]
     },
     "execution_count": 4,
     "metadata": {},
     "output_type": "execute_result"
    }
   ],
   "source": [
    "[1, 2] in s"
   ]
  },
  {
   "cell_type": "code",
   "execution_count": 5,
   "id": "8207c963",
   "metadata": {},
   "outputs": [
    {
     "data": {
      "text/plain": [
       "True"
      ]
     },
     "execution_count": 5,
     "metadata": {},
     "output_type": "execute_result"
    }
   ],
   "source": [
    "'a' in s"
   ]
  },
  {
   "cell_type": "markdown",
   "id": "92650b1b",
   "metadata": {},
   "source": [
    "### `s + t`：`s`与`t`拼接"
   ]
  },
  {
   "cell_type": "code",
   "execution_count": 6,
   "id": "7466b5ba",
   "metadata": {},
   "outputs": [
    {
     "data": {
      "text/plain": [
       "[1, 2, 3, 'a', 'b']"
      ]
     },
     "execution_count": 6,
     "metadata": {},
     "output_type": "execute_result"
    }
   ],
   "source": [
    "s = [1, 2, 3]\n",
    "t = ['a', 'b']\n",
    "s + t"
   ]
  },
  {
   "cell_type": "markdown",
   "id": "15a0e961",
   "metadata": {},
   "source": [
    "###  `s * n`：`s`与自身进行`n`次拼接"
   ]
  },
  {
   "cell_type": "code",
   "execution_count": 7,
   "id": "3414376b",
   "metadata": {},
   "outputs": [
    {
     "data": {
      "text/plain": [
       "[1, 'ab', 1, 'ab', 1, 'ab']"
      ]
     },
     "execution_count": 7,
     "metadata": {},
     "output_type": "execute_result"
    }
   ],
   "source": [
    "s = [1, 'ab']\n",
    "s * 3"
   ]
  },
  {
   "cell_type": "markdown",
   "id": "cceea844",
   "metadata": {},
   "source": [
    "###  `s[i]`：`s`的第`i`项"
   ]
  },
  {
   "cell_type": "code",
   "execution_count": 8,
   "id": "2a3c26ae",
   "metadata": {},
   "outputs": [],
   "source": [
    "s = [1, 'a', 2, 'b']"
   ]
  },
  {
   "cell_type": "markdown",
   "id": "d28d0871",
   "metadata": {},
   "source": [
    "正数第`i`项（从`0`开始）"
   ]
  },
  {
   "cell_type": "code",
   "execution_count": 9,
   "id": "1b979f4b",
   "metadata": {},
   "outputs": [
    {
     "data": {
      "text/plain": [
       "1"
      ]
     },
     "execution_count": 9,
     "metadata": {},
     "output_type": "execute_result"
    }
   ],
   "source": [
    "s[0]"
   ]
  },
  {
   "cell_type": "code",
   "execution_count": 10,
   "id": "6e6f8135",
   "metadata": {},
   "outputs": [
    {
     "data": {
      "text/plain": [
       "'a'"
      ]
     },
     "execution_count": 10,
     "metadata": {},
     "output_type": "execute_result"
    }
   ],
   "source": [
    "s[1]"
   ]
  },
  {
   "cell_type": "markdown",
   "id": "e6b545ca",
   "metadata": {},
   "source": [
    "倒数第`i`项（从`-1`开始）"
   ]
  },
  {
   "cell_type": "code",
   "execution_count": 11,
   "id": "08c9c9de",
   "metadata": {},
   "outputs": [
    {
     "data": {
      "text/plain": [
       "'b'"
      ]
     },
     "execution_count": 11,
     "metadata": {},
     "output_type": "execute_result"
    }
   ],
   "source": [
    "s[-1]"
   ]
  },
  {
   "cell_type": "code",
   "execution_count": 12,
   "id": "3fabf3e6",
   "metadata": {},
   "outputs": [
    {
     "data": {
      "text/plain": [
       "2"
      ]
     },
     "execution_count": 12,
     "metadata": {},
     "output_type": "execute_result"
    }
   ],
   "source": [
    "s[-2]"
   ]
  },
  {
   "cell_type": "markdown",
   "id": "703229d6",
   "metadata": {},
   "source": [
    "### 切片"
   ]
  },
  {
   "cell_type": "code",
   "execution_count": 13,
   "id": "1e61d511",
   "metadata": {},
   "outputs": [],
   "source": [
    "s = [1, 'a', 2, 'b', 3, 'c', 4567]"
   ]
  },
  {
   "cell_type": "markdown",
   "id": "bc9281d2",
   "metadata": {},
   "source": [
    "#### `s[i:j]`：`s`从`i`到`j`的切片。`i`表示开始位置，`j`表示结束位置的前一个位置。"
   ]
  },
  {
   "cell_type": "code",
   "execution_count": 14,
   "id": "55fb5a45",
   "metadata": {},
   "outputs": [
    {
     "data": {
      "text/plain": [
       "['a', 2, 'b', 3]"
      ]
     },
     "execution_count": 14,
     "metadata": {},
     "output_type": "execute_result"
    }
   ],
   "source": [
    "# 将s[1] - s[3]进行切片\n",
    "s2 = s[1:5]\n",
    "s2"
   ]
  },
  {
   "cell_type": "markdown",
   "id": "85d83607",
   "metadata": {},
   "source": [
    "省略`j`表示到末尾"
   ]
  },
  {
   "cell_type": "code",
   "execution_count": 15,
   "id": "da8533d6",
   "metadata": {},
   "outputs": [
    {
     "data": {
      "text/plain": [
       "['a', 2, 'b', 3, 'c', 4567]"
      ]
     },
     "execution_count": 15,
     "metadata": {},
     "output_type": "execute_result"
    }
   ],
   "source": [
    "s3 = s[1:]\n",
    "s3"
   ]
  },
  {
   "cell_type": "markdown",
   "id": "469f058d",
   "metadata": {},
   "source": [
    "#### `s[i:j:k]`：`s`从`i`到`j`，以步长为`k`进行切片。`i`表示开始位置，`j`表示结束位置的前一个位置，`k`表示步长。"
   ]
  },
  {
   "cell_type": "code",
   "execution_count": 16,
   "id": "8546645e",
   "metadata": {},
   "outputs": [
    {
     "data": {
      "text/plain": [
       "['a', 'b']"
      ]
     },
     "execution_count": 16,
     "metadata": {},
     "output_type": "execute_result"
    }
   ],
   "source": [
    "# 将s[1], s[1+2]进行切片（s[1+2+2]=s[5]不能要）\n",
    "s4 = s[1:5:2]\n",
    "s4"
   ]
  },
  {
   "cell_type": "markdown",
   "id": "18f77d5f",
   "metadata": {},
   "source": [
    "省略`j`表示到末尾"
   ]
  },
  {
   "cell_type": "code",
   "execution_count": 17,
   "id": "a433e5ca",
   "metadata": {},
   "outputs": [
    {
     "data": {
      "text/plain": [
       "['a', 'b', 'c']"
      ]
     },
     "execution_count": 17,
     "metadata": {},
     "output_type": "execute_result"
    }
   ],
   "source": [
    "# 将s[1], s[1+2], s[1+2+2]进行切片\n",
    "s5 = s[1::2]\n",
    "s5"
   ]
  },
  {
   "cell_type": "markdown",
   "id": "a9e719ea",
   "metadata": {},
   "source": [
    "### `len(s)`：`s`的长度"
   ]
  },
  {
   "cell_type": "code",
   "execution_count": 18,
   "id": "e8a1daad",
   "metadata": {},
   "outputs": [
    {
     "data": {
      "text/plain": [
       "0"
      ]
     },
     "execution_count": 18,
     "metadata": {},
     "output_type": "execute_result"
    }
   ],
   "source": [
    "s = []\n",
    "len(s)"
   ]
  },
  {
   "cell_type": "code",
   "execution_count": 19,
   "id": "f019f123",
   "metadata": {},
   "outputs": [
    {
     "data": {
      "text/plain": [
       "1"
      ]
     },
     "execution_count": 19,
     "metadata": {},
     "output_type": "execute_result"
    }
   ],
   "source": [
    "s = [[]]\n",
    "len(s)"
   ]
  },
  {
   "cell_type": "code",
   "execution_count": 20,
   "id": "e75d6663",
   "metadata": {},
   "outputs": [
    {
     "data": {
      "text/plain": [
       "3"
      ]
     },
     "execution_count": 20,
     "metadata": {},
     "output_type": "execute_result"
    }
   ],
   "source": [
    "s = [1, 2, '中文']\n",
    "len(s)"
   ]
  },
  {
   "cell_type": "markdown",
   "id": "1928b6ca",
   "metadata": {},
   "source": [
    "### `min(s)` & `max(s)`：`s`的最小 / 大值"
   ]
  },
  {
   "cell_type": "code",
   "execution_count": 21,
   "id": "03cb2b00",
   "metadata": {},
   "outputs": [
    {
     "data": {
      "text/plain": [
       "(66.89, 999)"
      ]
     },
     "execution_count": 21,
     "metadata": {},
     "output_type": "execute_result"
    }
   ],
   "source": [
    "s = [100, 999, 66.89]\n",
    "min(s), max(s)"
   ]
  },
  {
   "cell_type": "code",
   "execution_count": 22,
   "id": "a57aa687",
   "metadata": {},
   "outputs": [
    {
     "data": {
      "text/plain": [
       "('abc', 'def')"
      ]
     },
     "execution_count": 22,
     "metadata": {},
     "output_type": "execute_result"
    }
   ],
   "source": [
    "s = ['abc', 'def', 'azx']\n",
    "min(s), max(s)"
   ]
  },
  {
   "cell_type": "markdown",
   "id": "f4d1af59",
   "metadata": {},
   "source": [
    "### `s.index(x)`：`x`在`s`中首次出现项的索引号"
   ]
  },
  {
   "cell_type": "code",
   "execution_count": 23,
   "id": "8a65f05f",
   "metadata": {},
   "outputs": [
    {
     "data": {
      "text/plain": [
       "2"
      ]
     },
     "execution_count": 23,
     "metadata": {},
     "output_type": "execute_result"
    }
   ],
   "source": [
    "s = [1, 2, 'ab', 3, 'cd']\n",
    "s.index('ab')"
   ]
  },
  {
   "cell_type": "markdown",
   "id": "a7eb6cf2",
   "metadata": {},
   "source": [
    "###  `s.count(x)`：`x`在`s`中出现的总次数"
   ]
  },
  {
   "cell_type": "code",
   "execution_count": 24,
   "id": "d854600b",
   "metadata": {},
   "outputs": [
    {
     "data": {
      "text/plain": [
       "2"
      ]
     },
     "execution_count": 24,
     "metadata": {},
     "output_type": "execute_result"
    }
   ],
   "source": [
    "s = ['a', 'b', 1, 2, 'a', 1]\n",
    "s.count('a')"
   ]
  },
  {
   "cell_type": "code",
   "execution_count": 25,
   "id": "dce52c05",
   "metadata": {},
   "outputs": [
    {
     "data": {
      "text/plain": [
       "3"
      ]
     },
     "execution_count": 25,
     "metadata": {},
     "output_type": "execute_result"
    }
   ],
   "source": [
    "s = [[], [], []]\n",
    "s.count([])"
   ]
  },
  {
   "cell_type": "markdown",
   "id": "9817adc3",
   "metadata": {},
   "source": [
    "## 可变序列操作"
   ]
  },
  {
   "cell_type": "markdown",
   "id": "a0bb2b9b",
   "metadata": {},
   "source": [
    "### `s.append(x)`：将元素`x`添加到`s`中"
   ]
  },
  {
   "cell_type": "code",
   "execution_count": 26,
   "id": "9b4731e3",
   "metadata": {},
   "outputs": [
    {
     "data": {
      "text/plain": [
       "['ab', 'cd', 1, 2]"
      ]
     },
     "execution_count": 26,
     "metadata": {},
     "output_type": "execute_result"
    }
   ],
   "source": [
    "s = ['ab', 'cd', 1]\n",
    "s.append(2)\n",
    "s"
   ]
  },
  {
   "cell_type": "markdown",
   "id": "0e0b39ac",
   "metadata": {},
   "source": [
    "### `s.extend(t)`：用`t`的内容扩展`s`"
   ]
  },
  {
   "cell_type": "code",
   "execution_count": 27,
   "id": "5b4753ba",
   "metadata": {},
   "outputs": [],
   "source": [
    "s = [1, 2, 3]\n",
    "t = ['a', 'b']"
   ]
  },
  {
   "cell_type": "code",
   "execution_count": 28,
   "id": "b7046102",
   "metadata": {},
   "outputs": [
    {
     "data": {
      "text/plain": [
       "[1, 2, 3, 'a', 'b']"
      ]
     },
     "execution_count": 28,
     "metadata": {},
     "output_type": "execute_result"
    }
   ],
   "source": [
    "s.extend(t)\n",
    "s"
   ]
  },
  {
   "cell_type": "code",
   "execution_count": 29,
   "id": "e362cd9e",
   "metadata": {},
   "outputs": [
    {
     "data": {
      "text/plain": [
       "[1, 2, 3, 'a', 'b', ['a', 'b']]"
      ]
     },
     "execution_count": 29,
     "metadata": {},
     "output_type": "execute_result"
    }
   ],
   "source": [
    "s.append(t)\n",
    "s"
   ]
  },
  {
   "cell_type": "markdown",
   "id": "265d7de8",
   "metadata": {},
   "source": [
    "### `s[i] = x`：将`s`的第`i`项替换为`x`"
   ]
  },
  {
   "cell_type": "code",
   "execution_count": 30,
   "id": "fd94a6eb",
   "metadata": {},
   "outputs": [
    {
     "data": {
      "text/plain": [
       "[1, 2, 3, 'a', 'c']"
      ]
     },
     "execution_count": 30,
     "metadata": {},
     "output_type": "execute_result"
    }
   ],
   "source": [
    "s = [1, 2, 4, 'a', 'c']\n",
    "s[2] = 3\n",
    "s"
   ]
  },
  {
   "cell_type": "markdown",
   "id": "ab3c44c1",
   "metadata": {},
   "source": [
    "### `[]`：空列表"
   ]
  },
  {
   "cell_type": "code",
   "execution_count": 31,
   "id": "3d7d714c",
   "metadata": {},
   "outputs": [
    {
     "data": {
      "text/plain": [
       "[]"
      ]
     },
     "execution_count": 31,
     "metadata": {},
     "output_type": "execute_result"
    }
   ],
   "source": [
    "s = []\n",
    "s"
   ]
  },
  {
   "cell_type": "markdown",
   "id": "f7222b89",
   "metadata": {},
   "source": [
    "### `[[]]`：一个包含了一个空列表的单元素列表"
   ]
  },
  {
   "cell_type": "markdown",
   "id": "26a83bde",
   "metadata": {},
   "source": [
    "`[[]] * 3`结果中的三个元素都是对一个空列表的引用："
   ]
  },
  {
   "cell_type": "code",
   "execution_count": 32,
   "id": "2e69551e",
   "metadata": {},
   "outputs": [
    {
     "data": {
      "text/plain": [
       "[[1, 3, 5], [1, 3, 5], [1, 3, 5]]"
      ]
     },
     "execution_count": 32,
     "metadata": {},
     "output_type": "execute_result"
    }
   ],
   "source": [
    "s = [[]] * 3\n",
    "s[0].append(1)\n",
    "s[1].append(3)\n",
    "s[2].append(5)\n",
    "s"
   ]
  },
  {
   "cell_type": "markdown",
   "id": "cc14221d",
   "metadata": {},
   "source": [
    "创建以不同列表为元素的列表："
   ]
  },
  {
   "cell_type": "code",
   "execution_count": 33,
   "id": "22fcf31f",
   "metadata": {},
   "outputs": [
    {
     "data": {
      "text/plain": [
       "[[1], [3], [5]]"
      ]
     },
     "execution_count": 33,
     "metadata": {},
     "output_type": "execute_result"
    }
   ],
   "source": [
    "s = [[], [], []]\n",
    "s[0].append(1)\n",
    "s[1].append(3)\n",
    "s[2].append(5)\n",
    "s"
   ]
  },
  {
   "cell_type": "markdown",
   "id": "82943975",
   "metadata": {},
   "source": [
    "## `tuple`中引用`list`"
   ]
  },
  {
   "cell_type": "code",
   "execution_count": 34,
   "id": "6784e8b2",
   "metadata": {},
   "outputs": [],
   "source": [
    "s1 = [1, 2]\n",
    "s2 = [3, 4]\n",
    "s3 = [5, 6]"
   ]
  },
  {
   "cell_type": "code",
   "execution_count": 35,
   "id": "2012d761",
   "metadata": {},
   "outputs": [
    {
     "data": {
      "text/plain": [
       "([1, 2], [3, 4], [5, 6])"
      ]
     },
     "execution_count": 35,
     "metadata": {},
     "output_type": "execute_result"
    }
   ],
   "source": [
    "s = (s1, s2, s3)\n",
    "s"
   ]
  },
  {
   "cell_type": "markdown",
   "id": "f79cf691",
   "metadata": {},
   "source": [
    "`list`改变，但`tuple`不变"
   ]
  },
  {
   "cell_type": "code",
   "execution_count": 36,
   "id": "92f8ce94",
   "metadata": {},
   "outputs": [
    {
     "data": {
      "text/plain": [
       "([1, 2], [3, 4], [5, 6])"
      ]
     },
     "execution_count": 36,
     "metadata": {},
     "output_type": "execute_result"
    }
   ],
   "source": [
    "s2 = ['a', 'b']\n",
    "s"
   ]
  },
  {
   "cell_type": "markdown",
   "id": "02cf79b4",
   "metadata": {},
   "source": [
    "`list`改变，`tuple`也改变"
   ]
  },
  {
   "cell_type": "code",
   "execution_count": 37,
   "id": "30d4c4f5",
   "metadata": {},
   "outputs": [
    {
     "data": {
      "text/plain": [
       "([1, 2, 'ab'], [3, 4], [5, 6])"
      ]
     },
     "execution_count": 37,
     "metadata": {},
     "output_type": "execute_result"
    }
   ],
   "source": [
    "s1.append('ab')\n",
    "s"
   ]
  },
  {
   "cell_type": "markdown",
   "id": "b2b0bfda",
   "metadata": {},
   "source": [
    "# 文本序列类型 —— `str`字符串"
   ]
  },
  {
   "cell_type": "markdown",
   "id": "03252b17",
   "metadata": {},
   "source": [
    "由`Unicode`码位构成的不可变序列"
   ]
  },
  {
   "cell_type": "markdown",
   "id": "930d34e0",
   "metadata": {},
   "source": [
    "## 定义"
   ]
  },
  {
   "cell_type": "markdown",
   "id": "7c4ec080",
   "metadata": {},
   "source": [
    "### 单引号：带转移字符，并且不能同时带有`'`和`\"`"
   ]
  },
  {
   "cell_type": "code",
   "execution_count": 38,
   "id": "ffcd96e7",
   "metadata": {},
   "outputs": [
    {
     "data": {
      "text/plain": [
       "\"I'm a batman.\""
      ]
     },
     "execution_count": 38,
     "metadata": {},
     "output_type": "execute_result"
    }
   ],
   "source": [
    "s = 'I\\'m a batman.'\n",
    "s"
   ]
  },
  {
   "cell_type": "markdown",
   "id": "ff7ffc48",
   "metadata": {},
   "source": [
    "### 双引号：可直接输出`'`，但`\"`需要带转义字符"
   ]
  },
  {
   "cell_type": "code",
   "execution_count": 39,
   "id": "b8d60c00",
   "metadata": {},
   "outputs": [
    {
     "data": {
      "text/plain": [
       "'John said: \"I\\'m a batman.\"'"
      ]
     },
     "execution_count": 39,
     "metadata": {},
     "output_type": "execute_result"
    }
   ],
   "source": [
    "s = \"John said: \\\"I'm a batman.\\\"\"\n",
    "s"
   ]
  },
  {
   "cell_type": "markdown",
   "id": "cc51bb10",
   "metadata": {},
   "source": [
    "### 三重引号：句子里既有`'`和`\"`时用`\"\"\"`，常用于代码前的大段注释"
   ]
  },
  {
   "cell_type": "code",
   "execution_count": 40,
   "id": "5ead8a60",
   "metadata": {},
   "outputs": [
    {
     "data": {
      "text/plain": [
       "'This is a python document.\\nRevise on 05.01\\n\\n@author: Iris1946'"
      ]
     },
     "execution_count": 40,
     "metadata": {},
     "output_type": "execute_result"
    }
   ],
   "source": [
    "s = \"\"\"This is a python document.\n",
    "Revise on 05.01\n",
    "\n",
    "@author: Iris1946\"\"\"\n",
    "s"
   ]
  },
  {
   "cell_type": "markdown",
   "id": "851f5dbc",
   "metadata": {},
   "source": [
    "## 注意点"
   ]
  },
  {
   "cell_type": "markdown",
   "id": "678cf0ef",
   "metadata": {},
   "source": [
    "### `r`：告诉`python`解释器不要把`\\`看成转义字符，而就是`\\`本身"
   ]
  },
  {
   "cell_type": "code",
   "execution_count": 41,
   "id": "6a438417",
   "metadata": {},
   "outputs": [
    {
     "name": "stdout",
     "output_type": "stream",
     "text": [
      "d:\\dir\\a.txt\n"
     ]
    }
   ],
   "source": [
    "s = 'd:\\\\dir\\\\a.txt'\n",
    "print(s)"
   ]
  },
  {
   "cell_type": "code",
   "execution_count": 42,
   "id": "9fc222bb",
   "metadata": {},
   "outputs": [
    {
     "name": "stdout",
     "output_type": "stream",
     "text": [
      "d:\\dir\\a.txt\n"
     ]
    }
   ],
   "source": [
    "s = r'd:\\dir\\a.txt'\n",
    "print(s)"
   ]
  },
  {
   "cell_type": "markdown",
   "id": "19ce8695",
   "metadata": {},
   "source": [
    "### `Unicode`编码，正确处理中文"
   ]
  },
  {
   "cell_type": "code",
   "execution_count": 43,
   "id": "c8689f5e",
   "metadata": {},
   "outputs": [
    {
     "data": {
      "text/plain": [
       "(5, '中')"
      ]
     },
     "execution_count": 43,
     "metadata": {},
     "output_type": "execute_result"
    }
   ],
   "source": [
    "s = \"中文abc\"\n",
    "len(s), s[0]"
   ]
  },
  {
   "cell_type": "markdown",
   "id": "b47ac824",
   "metadata": {},
   "source": [
    "### 字符串拼接"
   ]
  },
  {
   "cell_type": "code",
   "execution_count": 44,
   "id": "9bab2723",
   "metadata": {},
   "outputs": [
    {
     "data": {
      "text/plain": [
       "'英文abc24'"
      ]
     },
     "execution_count": 44,
     "metadata": {},
     "output_type": "execute_result"
    }
   ],
   "source": [
    "s = '英文' + \"abc\" + str(24) \n",
    "s"
   ]
  },
  {
   "cell_type": "markdown",
   "id": "b96dcf72",
   "metadata": {},
   "source": [
    "## 格式化"
   ]
  },
  {
   "cell_type": "code",
   "execution_count": 45,
   "id": "1db3dbce",
   "metadata": {},
   "outputs": [],
   "source": [
    "name = 'Mike'\n",
    "age = 12"
   ]
  },
  {
   "cell_type": "markdown",
   "id": "1902a7d1",
   "metadata": {},
   "source": [
    "### `+`"
   ]
  },
  {
   "cell_type": "code",
   "execution_count": 46,
   "id": "f5f18846",
   "metadata": {},
   "outputs": [
    {
     "data": {
      "text/plain": [
       "'Mike is 12 years old.'"
      ]
     },
     "execution_count": 46,
     "metadata": {},
     "output_type": "execute_result"
    }
   ],
   "source": [
    "name + \" is \" + str(age) + \" years old.\""
   ]
  },
  {
   "cell_type": "markdown",
   "id": "44376043",
   "metadata": {},
   "source": [
    "### `%`"
   ]
  },
  {
   "cell_type": "markdown",
   "id": "a910db0f",
   "metadata": {},
   "source": [
    "`str` % `tuple`：【`printf`风格】字符串`str`包含字符串字面值以及需要替换的`%`字符。"
   ]
  },
  {
   "cell_type": "code",
   "execution_count": 47,
   "id": "ff421e0e",
   "metadata": {},
   "outputs": [
    {
     "data": {
      "text/plain": [
       "'Mike is 012 years old.'"
      ]
     },
     "execution_count": 47,
     "metadata": {},
     "output_type": "execute_result"
    }
   ],
   "source": [
    "'%s is %03d years old.' % (name, age)"
   ]
  },
  {
   "cell_type": "markdown",
   "id": "f49d98f0",
   "metadata": {},
   "source": [
    "### `format`"
   ]
  },
  {
   "cell_type": "markdown",
   "id": "ed8232b2",
   "metadata": {},
   "source": [
    "`str`.format `tuple`：字符串`str`包含字符串字面值以及花括号`{}`括起来的替换域。"
   ]
  },
  {
   "cell_type": "code",
   "execution_count": 48,
   "id": "a84ae3aa",
   "metadata": {},
   "outputs": [
    {
     "data": {
      "text/plain": [
       "'Mike is 12 years old.'"
      ]
     },
     "execution_count": 48,
     "metadata": {},
     "output_type": "execute_result"
    }
   ],
   "source": [
    "'{0} is {1} years old.'.format(name, age)"
   ]
  },
  {
   "cell_type": "code",
   "execution_count": 49,
   "id": "a3d035b9",
   "metadata": {},
   "outputs": [
    {
     "data": {
      "text/plain": [
       "'Mike is 12 years old, and gonna to be 13 years old next year.'"
      ]
     },
     "execution_count": 49,
     "metadata": {},
     "output_type": "execute_result"
    }
   ],
   "source": [
    "'{0} is {2} years old, and gonna to be {1} years old next year.'.format(name, age + 1, age)"
   ]
  },
  {
   "cell_type": "markdown",
   "id": "ec340dcf",
   "metadata": {},
   "source": [
    "### `f`"
   ]
  },
  {
   "cell_type": "markdown",
   "id": "5a59d313",
   "metadata": {},
   "source": [
    "f `str`：字符串`str`包含字符串字面值以及花括号`{}`括起来的替换域。"
   ]
  },
  {
   "cell_type": "code",
   "execution_count": 50,
   "id": "d179707f",
   "metadata": {},
   "outputs": [
    {
     "data": {
      "text/plain": [
       "'Mike is 12 years old.'"
      ]
     },
     "execution_count": 50,
     "metadata": {},
     "output_type": "execute_result"
    }
   ],
   "source": [
    "f'{name} is {age} years old.'"
   ]
  },
  {
   "cell_type": "markdown",
   "id": "9baa04e9",
   "metadata": {},
   "source": [
    "## 字符串的方法"
   ]
  },
  {
   "cell_type": "markdown",
   "id": "835ebb43",
   "metadata": {},
   "source": [
    "### `seq.join(list)`"
   ]
  },
  {
   "cell_type": "markdown",
   "id": "9712340a",
   "metadata": {},
   "source": [
    "【`list`→`str`】返回一个由`list`中的字符串拼接而成的字符串，调用`seq`作为元素间的分隔。"
   ]
  },
  {
   "cell_type": "code",
   "execution_count": 51,
   "id": "c5fbe378",
   "metadata": {},
   "outputs": [
    {
     "data": {
      "text/plain": [
       "'Alice, Bob, Clark'"
      ]
     },
     "execution_count": 51,
     "metadata": {},
     "output_type": "execute_result"
    }
   ],
   "source": [
    "name = ['Alice', 'Bob', 'Clark']\n",
    "\", \".join(name)"
   ]
  },
  {
   "cell_type": "markdown",
   "id": "244abb60",
   "metadata": {},
   "source": [
    "### `str.replace(old, new)`"
   ]
  },
  {
   "cell_type": "markdown",
   "id": "0872ea37",
   "metadata": {},
   "source": [
    "返回字符串的副本，其中出现的所有子字符串`old`都被替换为`new`。"
   ]
  },
  {
   "cell_type": "code",
   "execution_count": 52,
   "id": "8293e6b3",
   "metadata": {},
   "outputs": [
    {
     "data": {
      "text/plain": [
       "'Lisa is 12 years old.'"
      ]
     },
     "execution_count": 52,
     "metadata": {},
     "output_type": "execute_result"
    }
   ],
   "source": [
    "s = \"Mike is 12 years old.\"\n",
    "s.replace('Mike', 'Lisa')"
   ]
  },
  {
   "cell_type": "markdown",
   "id": "90a2b6d6",
   "metadata": {},
   "source": [
    "### `str.split(sep)`"
   ]
  },
  {
   "cell_type": "markdown",
   "id": "b726d4a9",
   "metadata": {},
   "source": [
    "【`str`→`list`】返回一个由字符串内单词组成的列表，使用`sep`作为分隔字符串。"
   ]
  },
  {
   "cell_type": "code",
   "execution_count": 53,
   "id": "43cdfb3d",
   "metadata": {},
   "outputs": [
    {
     "data": {
      "text/plain": [
       "['1', '2', '3', 'a', 'b', 'c']"
      ]
     },
     "execution_count": 53,
     "metadata": {},
     "output_type": "execute_result"
    }
   ],
   "source": [
    "text = '1, 2, 3, a, b, c'\n",
    "text.split(', ')"
   ]
  },
  {
   "cell_type": "markdown",
   "id": "3500569e",
   "metadata": {},
   "source": [
    "# 结构控制语句"
   ]
  },
  {
   "cell_type": "markdown",
   "id": "dbe5deb6",
   "metadata": {},
   "source": [
    "## `if`语句"
   ]
  },
  {
   "cell_type": "code",
   "execution_count": 54,
   "id": "70219e8e",
   "metadata": {},
   "outputs": [],
   "source": [
    "score = 88"
   ]
  },
  {
   "cell_type": "code",
   "execution_count": 55,
   "id": "54094947",
   "metadata": {},
   "outputs": [
    {
     "name": "stdout",
     "output_type": "stream",
     "text": [
      "B\n"
     ]
    }
   ],
   "source": [
    "if score < 60:\n",
    "    print('C')\n",
    "elif score >= 60 and score < 90:\n",
    "    print('B')\n",
    "else:\n",
    "    print('A')"
   ]
  },
  {
   "cell_type": "markdown",
   "id": "815e7d02",
   "metadata": {},
   "source": [
    "## `while`语句"
   ]
  },
  {
   "cell_type": "code",
   "execution_count": 56,
   "id": "fcd3fb1c",
   "metadata": {},
   "outputs": [],
   "source": [
    "i = 0"
   ]
  },
  {
   "cell_type": "code",
   "execution_count": 57,
   "id": "3ca1fd56",
   "metadata": {},
   "outputs": [
    {
     "name": "stdout",
     "output_type": "stream",
     "text": [
      "0\n",
      "1\n",
      "2\n"
     ]
    }
   ],
   "source": [
    "while i < 3:\n",
    "    print(i)\n",
    "    i += 1"
   ]
  },
  {
   "cell_type": "markdown",
   "id": "f64d9f13",
   "metadata": {},
   "source": [
    "## `for`语句"
   ]
  },
  {
   "cell_type": "code",
   "execution_count": 58,
   "id": "959e3fbd",
   "metadata": {},
   "outputs": [],
   "source": [
    "scores = [66, 45, 93]"
   ]
  },
  {
   "cell_type": "markdown",
   "id": "30f95722",
   "metadata": {},
   "source": [
    "### `for`语句的句式"
   ]
  },
  {
   "cell_type": "code",
   "execution_count": 59,
   "id": "d5eb36b2",
   "metadata": {},
   "outputs": [
    {
     "name": "stdout",
     "output_type": "stream",
     "text": [
      "66\n",
      "45\n",
      "93\n"
     ]
    }
   ],
   "source": [
    "for score in scores:\n",
    "    print(score)"
   ]
  },
  {
   "cell_type": "markdown",
   "id": "55342089",
   "metadata": {},
   "source": [
    "### `range`对象"
   ]
  },
  {
   "cell_type": "markdown",
   "id": "009dfa99",
   "metadata": {},
   "source": [
    "#### `range(stop)`：`[0, stop - 1]`的值"
   ]
  },
  {
   "cell_type": "code",
   "execution_count": 60,
   "id": "e101fba0",
   "metadata": {},
   "outputs": [
    {
     "data": {
      "text/plain": [
       "[0, 1, 2, 3, 4, 5, 6, 7, 8, 9]"
      ]
     },
     "execution_count": 60,
     "metadata": {},
     "output_type": "execute_result"
    }
   ],
   "source": [
    "list(range(10))"
   ]
  },
  {
   "cell_type": "markdown",
   "id": "cba1ba84",
   "metadata": {},
   "source": [
    "#### `range(start, stop, step)`：[start, stop - 1]中步长为`step`的值"
   ]
  },
  {
   "cell_type": "code",
   "execution_count": 61,
   "id": "6f79f8cc",
   "metadata": {},
   "outputs": [
    {
     "data": {
      "text/plain": [
       "[1, 3, 5, 7, 9]"
      ]
     },
     "execution_count": 61,
     "metadata": {},
     "output_type": "execute_result"
    }
   ],
   "source": [
    "list(range(1, 10, 2))"
   ]
  },
  {
   "cell_type": "markdown",
   "id": "589475ac",
   "metadata": {},
   "source": [
    "#### `range`在`for`语句中的应用"
   ]
  },
  {
   "cell_type": "code",
   "execution_count": 62,
   "id": "5670172b",
   "metadata": {},
   "outputs": [
    {
     "name": "stdout",
     "output_type": "stream",
     "text": [
      "0\n",
      "1\n",
      "2\n"
     ]
    }
   ],
   "source": [
    "for i in range(3):\n",
    "    print(i)"
   ]
  },
  {
   "cell_type": "code",
   "execution_count": 63,
   "id": "0924e7a2",
   "metadata": {},
   "outputs": [
    {
     "name": "stdout",
     "output_type": "stream",
     "text": [
      "66\n",
      "45\n",
      "93\n"
     ]
    }
   ],
   "source": [
    "for i in range(len(scores)):\n",
    "    print(scores[i])"
   ]
  },
  {
   "cell_type": "code",
   "execution_count": 64,
   "id": "396bbf65",
   "metadata": {},
   "outputs": [
    {
     "name": "stdout",
     "output_type": "stream",
     "text": [
      "93\n",
      "45\n",
      "66\n"
     ]
    }
   ],
   "source": [
    "for i in range(len(scores) - 1, -1, -1):\n",
    "    print(scores[i])"
   ]
  },
  {
   "cell_type": "markdown",
   "id": "419e345d",
   "metadata": {},
   "source": [
    "### `enumerate`对象"
   ]
  },
  {
   "cell_type": "markdown",
   "id": "8a2958b6",
   "metadata": {},
   "source": [
    "#### `enumerate(seq)`：将`seq`组合为一个索引序列，同时列出数据`value`和数据下标`index`"
   ]
  },
  {
   "cell_type": "code",
   "execution_count": 65,
   "id": "3feeadf8",
   "metadata": {},
   "outputs": [
    {
     "data": {
      "text/plain": [
       "[(0, 66), (1, 45), (2, 93)]"
      ]
     },
     "execution_count": 65,
     "metadata": {},
     "output_type": "execute_result"
    }
   ],
   "source": [
    "list(enumerate(scores))"
   ]
  },
  {
   "cell_type": "markdown",
   "id": "82d93e03",
   "metadata": {},
   "source": [
    "#### `enumerate(seq, start)`：将`seq`组合为一个索引序列，同时列出数据`value`和数据下标`index`（`index`从`start`开始编号）"
   ]
  },
  {
   "cell_type": "code",
   "execution_count": 66,
   "id": "2ee74f2d",
   "metadata": {},
   "outputs": [
    {
     "data": {
      "text/plain": [
       "[(1, 66), (2, 45), (3, 93)]"
      ]
     },
     "execution_count": 66,
     "metadata": {},
     "output_type": "execute_result"
    }
   ],
   "source": [
    "list(enumerate(scores, 1))"
   ]
  },
  {
   "cell_type": "markdown",
   "id": "f0931d26",
   "metadata": {},
   "source": [
    "#### `enumerate`在`for`语句中的应用"
   ]
  },
  {
   "cell_type": "code",
   "execution_count": 67,
   "id": "88724e5e",
   "metadata": {},
   "outputs": [
    {
     "name": "stdout",
     "output_type": "stream",
     "text": [
      "0 66\n",
      "1 45\n",
      "2 93\n"
     ]
    }
   ],
   "source": [
    "for idx, score in enumerate(scores):\n",
    "    print(idx, score)"
   ]
  },
  {
   "cell_type": "code",
   "execution_count": 68,
   "id": "0fd55f7b",
   "metadata": {},
   "outputs": [
    {
     "name": "stdout",
     "output_type": "stream",
     "text": [
      "1 66\n",
      "2 45\n",
      "3 93\n"
     ]
    }
   ],
   "source": [
    "for idx, score in enumerate(scores, 1):\n",
    "    print(idx, score)"
   ]
  },
  {
   "cell_type": "markdown",
   "id": "4fd127bb",
   "metadata": {},
   "source": [
    "### `zip`对象"
   ]
  },
  {
   "cell_type": "markdown",
   "id": "2a7f85e6",
   "metadata": {},
   "source": [
    "#### `zip(it, ...)`：将`it`中对应的元素打包成元组，然后返回由这些元组组成的列表。"
   ]
  },
  {
   "cell_type": "code",
   "execution_count": 69,
   "id": "36f1e960",
   "metadata": {},
   "outputs": [],
   "source": [
    "names = ['Alice', 'Bob', 'Clark']"
   ]
  },
  {
   "cell_type": "code",
   "execution_count": 70,
   "id": "07ded49a",
   "metadata": {},
   "outputs": [
    {
     "data": {
      "text/plain": [
       "[('Alice', 66), ('Bob', 45), ('Clark', 93)]"
      ]
     },
     "execution_count": 70,
     "metadata": {},
     "output_type": "execute_result"
    }
   ],
   "source": [
    "list(zip(names, scores))"
   ]
  },
  {
   "cell_type": "markdown",
   "id": "1a083285",
   "metadata": {},
   "source": [
    "#### `zip`在`for`语句中的应用"
   ]
  },
  {
   "cell_type": "code",
   "execution_count": 71,
   "id": "10975cde",
   "metadata": {},
   "outputs": [
    {
     "name": "stdout",
     "output_type": "stream",
     "text": [
      "Alice 66\n",
      "Bob 45\n",
      "Clark 93\n"
     ]
    }
   ],
   "source": [
    "for name, score in zip(names, scores):\n",
    "    print(name, score)"
   ]
  },
  {
   "cell_type": "markdown",
   "id": "1e3bcba7",
   "metadata": {},
   "source": [
    "# 映射集合 —— `dict`"
   ]
  },
  {
   "cell_type": "markdown",
   "id": "9e672b77",
   "metadata": {},
   "source": [
    "字典`dict`属于**可变对象**"
   ]
  },
  {
   "cell_type": "markdown",
   "id": "5320c8d7",
   "metadata": {},
   "source": [
    "## 字典的创建"
   ]
  },
  {
   "cell_type": "markdown",
   "id": "4de7f898",
   "metadata": {},
   "source": [
    "字典`dict`可以通过以`,`分割的`key: value`对列表包含于花括号`{}`来创建："
   ]
  },
  {
   "cell_type": "code",
   "execution_count": 72,
   "id": "faeb062a",
   "metadata": {},
   "outputs": [],
   "source": [
    "scores = {'Alice': 66, 'Bob': 45, 'Clark': 93}"
   ]
  },
  {
   "cell_type": "markdown",
   "id": "b0e4f62e",
   "metadata": {},
   "source": [
    "`dict`对象会将hashable值映射到任意对象，因此字典的**key**必须必是**hashable**的，包含`int`、`float`、`bool`、`str`、`tuple`，而**value**可以是**任何值**（包括非`hashable`的`list`对象）。"
   ]
  },
  {
   "cell_type": "markdown",
   "id": "1463b2f6",
   "metadata": {},
   "source": [
    "## 字典的访问"
   ]
  },
  {
   "cell_type": "markdown",
   "id": "2c7f86ce",
   "metadata": {},
   "source": [
    "### `d[key]`：返回`d`中以`key`为键的值"
   ]
  },
  {
   "cell_type": "code",
   "execution_count": 73,
   "id": "39382328",
   "metadata": {},
   "outputs": [
    {
     "data": {
      "text/plain": [
       "66"
      ]
     },
     "execution_count": 73,
     "metadata": {},
     "output_type": "execute_result"
    }
   ],
   "source": [
    "scores['Alice']"
   ]
  },
  {
   "cell_type": "markdown",
   "id": "5afda4c8",
   "metadata": {},
   "source": [
    "### `d.get(key, default)`"
   ]
  },
  {
   "cell_type": "markdown",
   "id": "32c6ffc9",
   "metadata": {},
   "source": [
    "#### 不设置`default`：如果`key`存在于`d`中则返回`key`的`value`，否则返回`None`"
   ]
  },
  {
   "cell_type": "code",
   "execution_count": 74,
   "id": "db19ca81",
   "metadata": {},
   "outputs": [
    {
     "data": {
      "text/plain": [
       "45"
      ]
     },
     "execution_count": 74,
     "metadata": {},
     "output_type": "execute_result"
    }
   ],
   "source": [
    "scores.get('Bob')"
   ]
  },
  {
   "cell_type": "code",
   "execution_count": 75,
   "id": "46806832",
   "metadata": {},
   "outputs": [
    {
     "name": "stdout",
     "output_type": "stream",
     "text": [
      "None\n"
     ]
    }
   ],
   "source": [
    "print(scores.get('Mike'))"
   ]
  },
  {
   "cell_type": "markdown",
   "id": "7aad2e2f",
   "metadata": {},
   "source": [
    "#### 设置`default`：如果`key`存在于`d`中则返回`key`的`value`，否则返回`default`"
   ]
  },
  {
   "cell_type": "code",
   "execution_count": 76,
   "id": "9e70ef9b",
   "metadata": {},
   "outputs": [
    {
     "data": {
      "text/plain": [
       "0"
      ]
     },
     "execution_count": 76,
     "metadata": {},
     "output_type": "execute_result"
    }
   ],
   "source": [
    "scores.get('Mike', 0)"
   ]
  },
  {
   "cell_type": "markdown",
   "id": "088df3b8",
   "metadata": {},
   "source": [
    "## 字典的方法"
   ]
  },
  {
   "cell_type": "markdown",
   "id": "13659f75",
   "metadata": {},
   "source": [
    "### `d[key] = value`：将`d[key]`设为`value`"
   ]
  },
  {
   "cell_type": "code",
   "execution_count": 77,
   "id": "cee1e4b7",
   "metadata": {},
   "outputs": [
    {
     "data": {
      "text/plain": [
       "{'Alice': 66, 'Bob': 88, 'Clark': 93}"
      ]
     },
     "execution_count": 77,
     "metadata": {},
     "output_type": "execute_result"
    }
   ],
   "source": [
    "scores['Bob'] = 88\n",
    "scores"
   ]
  },
  {
   "cell_type": "markdown",
   "id": "93764339",
   "metadata": {},
   "source": [
    "### `del d[key]`：将`d[key]`从`d`中移除"
   ]
  },
  {
   "cell_type": "code",
   "execution_count": 78,
   "id": "e7b82437",
   "metadata": {},
   "outputs": [
    {
     "data": {
      "text/plain": [
       "{'Alice': 66, 'Clark': 93}"
      ]
     },
     "execution_count": 78,
     "metadata": {},
     "output_type": "execute_result"
    }
   ],
   "source": [
    "del scores['Bob']\n",
    "scores"
   ]
  },
  {
   "cell_type": "markdown",
   "id": "b7ccb7ac",
   "metadata": {},
   "source": [
    "### `key in d`：如果`d`中存在`key`则返回`True`，否则返回`False`"
   ]
  },
  {
   "cell_type": "code",
   "execution_count": 79,
   "id": "0d18fb5c",
   "metadata": {},
   "outputs": [
    {
     "data": {
      "text/plain": [
       "True"
      ]
     },
     "execution_count": 79,
     "metadata": {},
     "output_type": "execute_result"
    }
   ],
   "source": [
    "'Clark' in scores"
   ]
  },
  {
   "cell_type": "markdown",
   "id": "b3b2286a",
   "metadata": {},
   "source": [
    "## 字典的遍历"
   ]
  },
  {
   "cell_type": "code",
   "execution_count": 80,
   "id": "ec38b786",
   "metadata": {},
   "outputs": [],
   "source": [
    "scoreSheet = {\n",
    "    'Mike': [77, 87, 38],\n",
    "    'Jack': [19, 98, 81],\n",
    "    'Lisa': [100, 98, 88]\n",
    "}"
   ]
  },
  {
   "cell_type": "code",
   "execution_count": 81,
   "id": "a7fe40d6",
   "metadata": {},
   "outputs": [
    {
     "name": "stdout",
     "output_type": "stream",
     "text": [
      "Mike [77, 87, 38]\n",
      "Jack [19, 98, 81]\n",
      "Lisa [100, 98, 88]\n"
     ]
    }
   ],
   "source": [
    "for name in scoreSheet:\n",
    "    print(name, scoreSheet[name])"
   ]
  },
  {
   "cell_type": "markdown",
   "id": "40db0b88",
   "metadata": {},
   "source": [
    "### `d.keys()`：返回由字典`key`组成的一个新视图"
   ]
  },
  {
   "cell_type": "code",
   "execution_count": 82,
   "id": "0408d3ae",
   "metadata": {},
   "outputs": [
    {
     "data": {
      "text/plain": [
       "dict_keys(['Mike', 'Jack', 'Lisa'])"
      ]
     },
     "execution_count": 82,
     "metadata": {},
     "output_type": "execute_result"
    }
   ],
   "source": [
    "scoreSheet.keys()"
   ]
  },
  {
   "cell_type": "code",
   "execution_count": 83,
   "id": "2ad27bef",
   "metadata": {},
   "outputs": [
    {
     "name": "stdout",
     "output_type": "stream",
     "text": [
      "Mike [77, 87, 38]\n",
      "Jack [19, 98, 81]\n",
      "Lisa [100, 98, 88]\n"
     ]
    }
   ],
   "source": [
    "for key in scoreSheet.keys():\n",
    "    print(key, scoreSheet[key])"
   ]
  },
  {
   "cell_type": "markdown",
   "id": "45c5948d",
   "metadata": {},
   "source": [
    "### `d.values()`：返回由字典`value`组成的一个新视图"
   ]
  },
  {
   "cell_type": "code",
   "execution_count": 84,
   "id": "95874c8e",
   "metadata": {},
   "outputs": [
    {
     "data": {
      "text/plain": [
       "dict_values([[77, 87, 38], [19, 98, 81], [100, 98, 88]])"
      ]
     },
     "execution_count": 84,
     "metadata": {},
     "output_type": "execute_result"
    }
   ],
   "source": [
    "scoreSheet.values()"
   ]
  },
  {
   "cell_type": "code",
   "execution_count": 85,
   "id": "b95283ee",
   "metadata": {},
   "outputs": [
    {
     "name": "stdout",
     "output_type": "stream",
     "text": [
      "[77, 87, 38]\n",
      "[19, 98, 81]\n",
      "[100, 98, 88]\n"
     ]
    }
   ],
   "source": [
    "for value in scoreSheet.values():\n",
    "    print(value)"
   ]
  },
  {
   "cell_type": "markdown",
   "id": "39602446",
   "metadata": {},
   "source": [
    "### `d.items()`：返回由字典`(key, value)`组成的一个新视图"
   ]
  },
  {
   "cell_type": "code",
   "execution_count": 86,
   "id": "8bbe6e8a",
   "metadata": {},
   "outputs": [
    {
     "data": {
      "text/plain": [
       "dict_items([('Mike', [77, 87, 38]), ('Jack', [19, 98, 81]), ('Lisa', [100, 98, 88])])"
      ]
     },
     "execution_count": 86,
     "metadata": {},
     "output_type": "execute_result"
    }
   ],
   "source": [
    "scoreSheet.items()"
   ]
  },
  {
   "cell_type": "code",
   "execution_count": 87,
   "id": "d99cebe5",
   "metadata": {},
   "outputs": [
    {
     "name": "stdout",
     "output_type": "stream",
     "text": [
      "Mike [77, 87, 38]\n",
      "Jack [19, 98, 81]\n",
      "Lisa [100, 98, 88]\n"
     ]
    }
   ],
   "source": [
    "for key, value in scoreSheet.items():\n",
    "    print(key, value)"
   ]
  },
  {
   "cell_type": "markdown",
   "id": "4c513171",
   "metadata": {},
   "source": [
    "# 函数"
   ]
  },
  {
   "cell_type": "markdown",
   "id": "052488ed",
   "metadata": {},
   "source": [
    "## 函数的定义"
   ]
  },
  {
   "cell_type": "code",
   "execution_count": 88,
   "id": "e4909b13",
   "metadata": {},
   "outputs": [],
   "source": [
    "def foobar():\n",
    "    pass"
   ]
  },
  {
   "cell_type": "code",
   "execution_count": 89,
   "id": "cdbde97f",
   "metadata": {},
   "outputs": [],
   "source": [
    "foobar()"
   ]
  },
  {
   "cell_type": "markdown",
   "id": "a93c8607",
   "metadata": {},
   "source": [
    "## 参数"
   ]
  },
  {
   "cell_type": "markdown",
   "id": "a8c7f04f",
   "metadata": {},
   "source": [
    "### 引用传递"
   ]
  },
  {
   "cell_type": "markdown",
   "id": "ec53d11e",
   "metadata": {},
   "source": [
    "形参改变，但实参不改变"
   ]
  },
  {
   "cell_type": "code",
   "execution_count": 90,
   "id": "0df957c9",
   "metadata": {},
   "outputs": [],
   "source": [
    "def foobar(x):\n",
    "    x = 2"
   ]
  },
  {
   "cell_type": "code",
   "execution_count": 91,
   "id": "d09e0dd4",
   "metadata": {},
   "outputs": [
    {
     "data": {
      "text/plain": [
       "1"
      ]
     },
     "execution_count": 91,
     "metadata": {},
     "output_type": "execute_result"
    }
   ],
   "source": [
    "x = 1\n",
    "x"
   ]
  },
  {
   "cell_type": "code",
   "execution_count": 92,
   "id": "d4ed435e",
   "metadata": {},
   "outputs": [
    {
     "data": {
      "text/plain": [
       "1"
      ]
     },
     "execution_count": 92,
     "metadata": {},
     "output_type": "execute_result"
    }
   ],
   "source": [
    "foobar(x)\n",
    "x"
   ]
  },
  {
   "cell_type": "markdown",
   "id": "0b35ad3c",
   "metadata": {},
   "source": [
    "形参改变，实参也改变"
   ]
  },
  {
   "cell_type": "code",
   "execution_count": 93,
   "id": "5993df8b",
   "metadata": {},
   "outputs": [],
   "source": [
    "def foobar(x):\n",
    "    x[1] = 'a'"
   ]
  },
  {
   "cell_type": "code",
   "execution_count": 94,
   "id": "a4083b8e",
   "metadata": {},
   "outputs": [
    {
     "data": {
      "text/plain": [
       "[1, 2, 3]"
      ]
     },
     "execution_count": 94,
     "metadata": {},
     "output_type": "execute_result"
    }
   ],
   "source": [
    "x = [1, 2, 3]\n",
    "x"
   ]
  },
  {
   "cell_type": "code",
   "execution_count": 95,
   "id": "e7dbb17c",
   "metadata": {},
   "outputs": [
    {
     "data": {
      "text/plain": [
       "[1, 'a', 3]"
      ]
     },
     "execution_count": 95,
     "metadata": {},
     "output_type": "execute_result"
    }
   ],
   "source": [
    "foobar(x)\n",
    "x"
   ]
  },
  {
   "cell_type": "markdown",
   "id": "9e45ca11",
   "metadata": {},
   "source": [
    "### 实参的顺序"
   ]
  },
  {
   "cell_type": "code",
   "execution_count": 96,
   "id": "a1649a9e",
   "metadata": {},
   "outputs": [],
   "source": [
    "def minus(x, y):\n",
    "    return x - y"
   ]
  },
  {
   "cell_type": "markdown",
   "id": "077abd23",
   "metadata": {},
   "source": [
    "如果**实参**按`def`中`parameter_list`的**顺序输入**，则无需表明`parameter`"
   ]
  },
  {
   "cell_type": "code",
   "execution_count": 97,
   "id": "89bc8927",
   "metadata": {},
   "outputs": [
    {
     "data": {
      "text/plain": [
       "5"
      ]
     },
     "execution_count": 97,
     "metadata": {},
     "output_type": "execute_result"
    }
   ],
   "source": [
    "minus(6, 1)"
   ]
  },
  {
   "cell_type": "markdown",
   "id": "86c90bc2",
   "metadata": {},
   "source": [
    "如果实参是**非顺序输入**，则传递时需要标明`parameter`的**名称**"
   ]
  },
  {
   "cell_type": "code",
   "execution_count": 98,
   "id": "313f6444",
   "metadata": {},
   "outputs": [
    {
     "data": {
      "text/plain": [
       "5"
      ]
     },
     "execution_count": 98,
     "metadata": {},
     "output_type": "execute_result"
    }
   ],
   "source": [
    "minus(y = 1, x = 6)"
   ]
  },
  {
   "cell_type": "markdown",
   "id": "e724ec71",
   "metadata": {},
   "source": [
    "### 形参的默认值"
   ]
  },
  {
   "cell_type": "markdown",
   "id": "88a4cab8",
   "metadata": {},
   "source": [
    "在定义`def`时可以设定`parameter`的默认值，如果在调用`def`时没有传递实参值，则用默认值进行计算"
   ]
  },
  {
   "cell_type": "code",
   "execution_count": 99,
   "id": "4c1e4a8a",
   "metadata": {},
   "outputs": [],
   "source": [
    "def plus(x = 6, y = 3):\n",
    "    return x + y"
   ]
  },
  {
   "cell_type": "code",
   "execution_count": 100,
   "id": "582e835d",
   "metadata": {},
   "outputs": [
    {
     "data": {
      "text/plain": [
       "9"
      ]
     },
     "execution_count": 100,
     "metadata": {},
     "output_type": "execute_result"
    }
   ],
   "source": [
    "plus()"
   ]
  },
  {
   "cell_type": "code",
   "execution_count": 101,
   "id": "69ae2fc6",
   "metadata": {},
   "outputs": [
    {
     "data": {
      "text/plain": [
       "4"
      ]
     },
     "execution_count": 101,
     "metadata": {},
     "output_type": "execute_result"
    }
   ],
   "source": [
    "plus(1)"
   ]
  },
  {
   "cell_type": "code",
   "execution_count": 102,
   "id": "75e9f760",
   "metadata": {},
   "outputs": [
    {
     "data": {
      "text/plain": [
       "13"
      ]
     },
     "execution_count": 102,
     "metadata": {},
     "output_type": "execute_result"
    }
   ],
   "source": [
    "plus(y = 7)"
   ]
  },
  {
   "cell_type": "markdown",
   "id": "a950a08b",
   "metadata": {},
   "source": [
    "注意：需要把**没有默认值**的`parameter`写在**前面**!!!"
   ]
  },
  {
   "cell_type": "code",
   "execution_count": 103,
   "id": "a8ed52a0",
   "metadata": {},
   "outputs": [],
   "source": [
    "def multiply(a, b, c = 1):\n",
    "    return a * b * c"
   ]
  },
  {
   "cell_type": "code",
   "execution_count": 104,
   "id": "68b61068",
   "metadata": {},
   "outputs": [
    {
     "data": {
      "text/plain": [
       "60"
      ]
     },
     "execution_count": 104,
     "metadata": {},
     "output_type": "execute_result"
    }
   ],
   "source": [
    "multiply(4, 5, 3)"
   ]
  },
  {
   "cell_type": "markdown",
   "id": "05e8dab8",
   "metadata": {},
   "source": [
    "### `*args`：[`list`] 不定参数"
   ]
  },
  {
   "cell_type": "code",
   "execution_count": 105,
   "id": "7fffeba0",
   "metadata": {},
   "outputs": [],
   "source": [
    "def foobar(x, y, *args):\n",
    "    print(args)"
   ]
  },
  {
   "cell_type": "code",
   "execution_count": 106,
   "id": "590fdc33",
   "metadata": {},
   "outputs": [
    {
     "name": "stdout",
     "output_type": "stream",
     "text": [
      "('abc', 2001, 'M')\n"
     ]
    }
   ],
   "source": [
    "foobar(1, 2, 'abc', 2001, 'M')"
   ]
  },
  {
   "cell_type": "markdown",
   "id": "1cb7fd06",
   "metadata": {},
   "source": [
    "### `**kwargs`：[`dict`] 带名字的不定参数"
   ]
  },
  {
   "cell_type": "markdown",
   "id": "9570c713",
   "metadata": {},
   "source": [
    "传参语法：`key = value`"
   ]
  },
  {
   "cell_type": "code",
   "execution_count": 107,
   "id": "fb3508c7",
   "metadata": {},
   "outputs": [],
   "source": [
    "def foobar(x, y, *args, **kwargs):\n",
    "    print(args)\n",
    "    print(kwargs)"
   ]
  },
  {
   "cell_type": "code",
   "execution_count": 108,
   "id": "4a2ce4bf",
   "metadata": {},
   "outputs": [
    {
     "name": "stdout",
     "output_type": "stream",
     "text": [
      "(1, 2)\n",
      "{'Zhang': 97, 'Lei': 100}\n"
     ]
    }
   ],
   "source": [
    "foobar('a', 'b', 1, 2, Zhang = 97, Lei = 100)"
   ]
  },
  {
   "cell_type": "markdown",
   "id": "e0fda69b",
   "metadata": {},
   "source": [
    "## first class"
   ]
  },
  {
   "cell_type": "markdown",
   "id": "a9629a7a",
   "metadata": {},
   "source": [
    "### 变量引用"
   ]
  },
  {
   "cell_type": "code",
   "execution_count": 109,
   "id": "d5f6df2f",
   "metadata": {},
   "outputs": [],
   "source": [
    "def fun(x):\n",
    "    return 3 * x ** 2 + 2 * x - 5"
   ]
  },
  {
   "cell_type": "code",
   "execution_count": 110,
   "id": "88f15d63",
   "metadata": {},
   "outputs": [],
   "source": [
    "y = fun"
   ]
  },
  {
   "cell_type": "code",
   "execution_count": 111,
   "id": "3cb6580c",
   "metadata": {},
   "outputs": [
    {
     "data": {
      "text/plain": [
       "11"
      ]
     },
     "execution_count": 111,
     "metadata": {},
     "output_type": "execute_result"
    }
   ],
   "source": [
    "y(2)"
   ]
  },
  {
   "cell_type": "markdown",
   "id": "098b2c98",
   "metadata": {},
   "source": [
    "### 参数传递"
   ]
  },
  {
   "cell_type": "code",
   "execution_count": 112,
   "id": "8b6d5efe",
   "metadata": {},
   "outputs": [],
   "source": [
    "def fun(x):\n",
    "    return 3 * x ** 2 + 2 * x - 5"
   ]
  },
  {
   "cell_type": "code",
   "execution_count": 113,
   "id": "6735b243",
   "metadata": {},
   "outputs": [],
   "source": [
    "def diff(a, f):\n",
    "    delta = 1e-6\n",
    "    return int((f(a + delta) - f(a)) / delta)"
   ]
  },
  {
   "cell_type": "code",
   "execution_count": 114,
   "id": "d8995c74",
   "metadata": {},
   "outputs": [
    {
     "data": {
      "text/plain": [
       "14"
      ]
     },
     "execution_count": 114,
     "metadata": {},
     "output_type": "execute_result"
    }
   ],
   "source": [
    "diff(2, fun)"
   ]
  },
  {
   "cell_type": "markdown",
   "id": "793cae68",
   "metadata": {},
   "source": [
    "### 加入到集合当中"
   ]
  },
  {
   "cell_type": "code",
   "execution_count": 115,
   "id": "b51de63a",
   "metadata": {},
   "outputs": [],
   "source": [
    "def fun1(x):\n",
    "    return x ** 2"
   ]
  },
  {
   "cell_type": "code",
   "execution_count": 116,
   "id": "a38eb840",
   "metadata": {},
   "outputs": [],
   "source": [
    "def fun2(x):\n",
    "    return x ** 3"
   ]
  },
  {
   "cell_type": "code",
   "execution_count": 117,
   "id": "52b215db",
   "metadata": {},
   "outputs": [],
   "source": [
    "def fun3(x):\n",
    "    return x ** 4"
   ]
  },
  {
   "cell_type": "code",
   "execution_count": 118,
   "id": "e83d2724",
   "metadata": {},
   "outputs": [],
   "source": [
    "funs = [fun1, fun2, fun3]"
   ]
  },
  {
   "cell_type": "code",
   "execution_count": 119,
   "id": "304a634c",
   "metadata": {},
   "outputs": [
    {
     "name": "stdout",
     "output_type": "stream",
     "text": [
      "25\n",
      "125\n",
      "625\n"
     ]
    }
   ],
   "source": [
    "for fun in funs:\n",
    "    print(fun(5))"
   ]
  },
  {
   "cell_type": "markdown",
   "id": "099f3810",
   "metadata": {},
   "source": [
    "### 函数闭包"
   ]
  },
  {
   "cell_type": "code",
   "execution_count": 120,
   "id": "f9c97a7e",
   "metadata": {},
   "outputs": [],
   "source": [
    "def fun1(x):\n",
    "    def fun2(y):\n",
    "        return x * y\n",
    "    return fun2"
   ]
  },
  {
   "cell_type": "markdown",
   "id": "252829de",
   "metadata": {},
   "source": [
    "传入`x`的值后`fun1(x)`是一个`function`类，因此再次传入`y`的值"
   ]
  },
  {
   "cell_type": "code",
   "execution_count": 121,
   "id": "31b1cf6f",
   "metadata": {},
   "outputs": [],
   "source": [
    "f = fun1(2)"
   ]
  },
  {
   "cell_type": "code",
   "execution_count": 122,
   "id": "91a57abc",
   "metadata": {},
   "outputs": [
    {
     "data": {
      "text/plain": [
       "6"
      ]
     },
     "execution_count": 122,
     "metadata": {},
     "output_type": "execute_result"
    }
   ],
   "source": [
    "f(3)"
   ]
  },
  {
   "cell_type": "markdown",
   "id": "2ae86bad",
   "metadata": {},
   "source": [
    "以上步骤可简写为："
   ]
  },
  {
   "cell_type": "code",
   "execution_count": 123,
   "id": "a77e84b2",
   "metadata": {},
   "outputs": [
    {
     "data": {
      "text/plain": [
       "12"
      ]
     },
     "execution_count": 123,
     "metadata": {},
     "output_type": "execute_result"
    }
   ],
   "source": [
    "fun1(3)(4)"
   ]
  },
  {
   "cell_type": "markdown",
   "id": "3342f534",
   "metadata": {},
   "source": [
    "### `lambda`表达式"
   ]
  },
  {
   "cell_type": "markdown",
   "id": "660b6fc6",
   "metadata": {},
   "source": [
    "以下`lambda`表达式与`def`函数等价："
   ]
  },
  {
   "cell_type": "code",
   "execution_count": 124,
   "id": "98f77713",
   "metadata": {},
   "outputs": [
    {
     "data": {
      "text/plain": [
       "<function __main__.<lambda>(x)>"
      ]
     },
     "execution_count": 124,
     "metadata": {},
     "output_type": "execute_result"
    }
   ],
   "source": [
    "lambda x : 3 * x ** 2 + 2 * x - 5"
   ]
  },
  {
   "cell_type": "code",
   "execution_count": 125,
   "id": "298454c4",
   "metadata": {},
   "outputs": [],
   "source": [
    "def lambda_x(x):\n",
    "    return 3 * x ** 2 + 2 * x - 5"
   ]
  },
  {
   "cell_type": "markdown",
   "id": "d71525e3",
   "metadata": {},
   "source": [
    "`lambda`表达式在`def`函数中的应用："
   ]
  },
  {
   "cell_type": "code",
   "execution_count": 126,
   "id": "207c51d6",
   "metadata": {},
   "outputs": [],
   "source": [
    "def diff(a, f):\n",
    "    delta = 1e-6\n",
    "    return int((f(a + delta) - f(a)) / delta)"
   ]
  },
  {
   "cell_type": "code",
   "execution_count": 127,
   "id": "9ca42d5f",
   "metadata": {},
   "outputs": [
    {
     "data": {
      "text/plain": [
       "14"
      ]
     },
     "execution_count": 127,
     "metadata": {},
     "output_type": "execute_result"
    }
   ],
   "source": [
    "diff(2, lambda x : 3 * x ** 2 + 2 * x - 5)"
   ]
  },
  {
   "cell_type": "markdown",
   "id": "2f9b2d74",
   "metadata": {},
   "source": [
    "# 异常处理"
   ]
  },
  {
   "cell_type": "markdown",
   "id": "33a8dcd2",
   "metadata": {},
   "source": [
    "`try`语句"
   ]
  },
  {
   "cell_type": "code",
   "execution_count": 128,
   "id": "cc635740",
   "metadata": {},
   "outputs": [],
   "source": [
    "try:\n",
    "    pass   # 可能会报错的语句\n",
    "except Exception as e:\n",
    "    pass   # 异常处理\n",
    "finally:\n",
    "    pass   # 无论怎样都会执行"
   ]
  },
  {
   "cell_type": "markdown",
   "id": "23d41b47",
   "metadata": {},
   "source": [
    "example 1:"
   ]
  },
  {
   "cell_type": "code",
   "execution_count": 129,
   "id": "38134eb1",
   "metadata": {},
   "outputs": [
    {
     "name": "stdout",
     "output_type": "stream",
     "text": [
      "(\"could not convert string to float: 'abc'\",)\n"
     ]
    }
   ],
   "source": [
    "try:\n",
    "    x = float('abc')\n",
    "except Exception as e:\n",
    "    print(e.args)"
   ]
  },
  {
   "cell_type": "markdown",
   "id": "e382ad0e",
   "metadata": {},
   "source": [
    "example 2：当`x`输入无误的值时，就让`x`正常赋值；而出现异常的话，则让`x`为`0`。"
   ]
  },
  {
   "cell_type": "code",
   "execution_count": 130,
   "id": "39b50660",
   "metadata": {},
   "outputs": [
    {
     "name": "stdout",
     "output_type": "stream",
     "text": [
      "(\"could not convert string to float: 'abc'\",)\n"
     ]
    }
   ],
   "source": [
    "try:\n",
    "    x = 0\n",
    "    x = float('abc')\n",
    "except Exception as e:\n",
    "    print(e.args)"
   ]
  },
  {
   "cell_type": "code",
   "execution_count": 131,
   "id": "0118067a",
   "metadata": {},
   "outputs": [
    {
     "name": "stdout",
     "output_type": "stream",
     "text": [
      "0\n"
     ]
    }
   ],
   "source": [
    "print(x)"
   ]
  },
  {
   "cell_type": "markdown",
   "id": "6e98c899",
   "metadata": {},
   "source": [
    "example 3：出现多种`Error`时可以使用多个`except`。"
   ]
  },
  {
   "cell_type": "code",
   "execution_count": 132,
   "id": "b243467d",
   "metadata": {},
   "outputs": [
    {
     "name": "stdout",
     "output_type": "stream",
     "text": [
      "(\"could not convert string to float: 'abc'\",)\n"
     ]
    }
   ],
   "source": [
    "try:\n",
    "    x = float('abc')\n",
    "    f = open('new.txt', 'r')\n",
    "except ValueError as v:\n",
    "    print(v.args)\n",
    "except FileNotFound as f:\n",
    "    print(f.args)\n",
    "except Exception as e:\n",
    "    print(e.args)"
   ]
  },
  {
   "cell_type": "markdown",
   "id": "9e54adb2",
   "metadata": {},
   "source": [
    "example 4：`input`输入的值出现异常。"
   ]
  },
  {
   "cell_type": "code",
   "execution_count": 133,
   "id": "5e456d00",
   "metadata": {},
   "outputs": [],
   "source": [
    "def askUser():\n",
    "    while True:\n",
    "        try:\n",
    "            return float(input('P1z input a floating number:'))\n",
    "        except ValueError as v:\n",
    "            print(v.args)"
   ]
  },
  {
   "cell_type": "raw",
   "id": "4ad232f1",
   "metadata": {},
   "source": [
    "askUser()"
   ]
  },
  {
   "cell_type": "markdown",
   "id": "01438958",
   "metadata": {},
   "source": [
    "# 文件处理"
   ]
  },
  {
   "cell_type": "markdown",
   "id": "83967e06",
   "metadata": {},
   "source": [
    "## 读取文件"
   ]
  },
  {
   "cell_type": "markdown",
   "id": "f9a75dd6",
   "metadata": {},
   "source": [
    "### `with`语句"
   ]
  },
  {
   "cell_type": "raw",
   "id": "b0116682",
   "metadata": {},
   "source": [
    "with EXPRESSION as TARGET:\n",
    "    SUITE"
   ]
  },
  {
   "cell_type": "markdown",
   "id": "99b44302",
   "metadata": {},
   "source": [
    "### 使用`with`语句读取文本"
   ]
  },
  {
   "cell_type": "code",
   "execution_count": 134,
   "id": "559bc73f",
   "metadata": {},
   "outputs": [],
   "source": [
    "with open('news.txt', 'r', encoding = 'UTF-8') as f:\n",
    "    lines = f.readlines()"
   ]
  },
  {
   "cell_type": "markdown",
   "id": "1007da34",
   "metadata": {},
   "source": [
    "## 文本处理"
   ]
  },
  {
   "cell_type": "markdown",
   "id": "feb67a39",
   "metadata": {},
   "source": [
    "### `str.strip()`：返回字符串的副本，移除其中的前导和末尾字符。"
   ]
  },
  {
   "cell_type": "code",
   "execution_count": 135,
   "id": "3077804e",
   "metadata": {},
   "outputs": [
    {
     "name": "stdout",
     "output_type": "stream",
     "text": [
      "['一家刚刚成立两年的网络支付公司，它的目标是成为市值100亿美元的上市公司', '']\n",
      "['']\n",
      "['这家公司叫做快钱，说这句话的是快钱的CEO关国光', '他之前曾任网易的高级副总裁，负责过网易的上市工作', '对于为什么选择第三方支付作为创业方向，他曾经对媒体这样说：“我能看到这个胡同对面是什么，别人只能看到这个胡同', '”自信与狂妄只有一步之遥——这几乎是所有创业者的共同特征，是自信还是狂妄也许需要留待时间来考证', '']\n",
      "['']\n",
      "['对于市值100亿美元的上市公司，他是这样算这笔账的，“百度上市时广告客户数量只有4万,而且它所做的只是把客户吸引过来，就可以支撑起现有的庞大市值；而我们几年后的客户数量是几千万，而且这些客户都是能直接带来利润的，说市值100亿美元一点都不夸张', '”']\n",
      "['']\n",
      "['这家公司2005年年底注册用户达到400万，计划今年注册用户突破1000万，号称是国内最大的第三方网络支付平台', '“在美国跟支付相关的收入已经超过了所有商业银行本身利差收入的总和，我所查到的数据是3000亿美元，其中超过70％是个人消费者带来的收入', '”关国光喜欢借用美国支付产业的现状与中国的情况进行比较', '虽然美国和中国差异显著，但他坚信中国的第三方支付市场前景非常广阔', '']\n"
     ]
    }
   ],
   "source": [
    "for line in lines:\n",
    "    line = line.strip()\n",
    "    tokens = line.split(\"。\")\n",
    "    print(tokens)"
   ]
  },
  {
   "cell_type": "markdown",
   "id": "b0b9d6d7",
   "metadata": {},
   "source": [
    "### 清除空列表（`len == 0`）："
   ]
  },
  {
   "cell_type": "markdown",
   "id": "ef821585",
   "metadata": {},
   "source": [
    "#### `for`循环"
   ]
  },
  {
   "cell_type": "code",
   "execution_count": 136,
   "id": "2e984a5f",
   "metadata": {},
   "outputs": [],
   "source": [
    "sents = []"
   ]
  },
  {
   "cell_type": "code",
   "execution_count": 137,
   "id": "5fcf7ecd",
   "metadata": {},
   "outputs": [],
   "source": [
    "for line in lines:\n",
    "    line = line.strip()\n",
    "    tokens = line.split('。')\n",
    "    for token in tokens:\n",
    "        if(len(token) > 0):\n",
    "            sents.append(token)"
   ]
  },
  {
   "cell_type": "code",
   "execution_count": 138,
   "id": "b77b3917",
   "metadata": {},
   "outputs": [
    {
     "name": "stdout",
     "output_type": "stream",
     "text": [
      "['一家刚刚成立两年的网络支付公司，它的目标是成为市值100亿美元的上市公司', '这家公司叫做快钱，说这句话的是快钱的CEO关国光', '他之前曾任网易的高级副总裁，负责过网易的上市工作', '对于为什么选择第三方支付作为创业方向，他曾经对媒体这样说：“我能看到这个胡同对面是什么，别人只能看到这个胡同', '”自信与狂妄只有一步之遥——这几乎是所有创业者的共同特征，是自信还是狂妄也许需要留待时间来考证', '对于市值100亿美元的上市公司，他是这样算这笔账的，“百度上市时广告客户数量只有4万,而且它所做的只是把客户吸引过来，就可以支撑起现有的庞大市值；而我们几年后的客户数量是几千万，而且这些客户都是能直接带来利润的，说市值100亿美元一点都不夸张', '”', '这家公司2005年年底注册用户达到400万，计划今年注册用户突破1000万，号称是国内最大的第三方网络支付平台', '“在美国跟支付相关的收入已经超过了所有商业银行本身利差收入的总和，我所查到的数据是3000亿美元，其中超过70％是个人消费者带来的收入', '”关国光喜欢借用美国支付产业的现状与中国的情况进行比较', '虽然美国和中国差异显著，但他坚信中国的第三方支付市场前景非常广阔']\n"
     ]
    }
   ],
   "source": [
    "print(sents)"
   ]
  },
  {
   "cell_type": "markdown",
   "id": "ca33e7ed",
   "metadata": {},
   "source": [
    "#### `filter`内置函数"
   ]
  },
  {
   "cell_type": "markdown",
   "id": "5d2f8561",
   "metadata": {},
   "source": [
    "`filter`(`function`, `list`)：用`list`中函数`function`返回`True`的那些元素，构成一个新的迭代器。"
   ]
  },
  {
   "cell_type": "code",
   "execution_count": 139,
   "id": "e358f889",
   "metadata": {},
   "outputs": [],
   "source": [
    "numbers = [1, 2, 3, 4, 5]"
   ]
  },
  {
   "cell_type": "code",
   "execution_count": 140,
   "id": "983ecce8",
   "metadata": {},
   "outputs": [],
   "source": [
    "it = filter(lambda x : x % 2 == 0, numbers)"
   ]
  },
  {
   "cell_type": "code",
   "execution_count": 141,
   "id": "e7d674b7",
   "metadata": {},
   "outputs": [
    {
     "data": {
      "text/plain": [
       "[2, 4]"
      ]
     },
     "execution_count": 141,
     "metadata": {},
     "output_type": "execute_result"
    }
   ],
   "source": [
    "list(it)"
   ]
  },
  {
   "cell_type": "markdown",
   "id": "9cd7e4ec",
   "metadata": {},
   "source": [
    "#### `filter`改写`for`"
   ]
  },
  {
   "cell_type": "code",
   "execution_count": 142,
   "id": "efee083d",
   "metadata": {},
   "outputs": [],
   "source": [
    "sents = []"
   ]
  },
  {
   "cell_type": "code",
   "execution_count": 143,
   "id": "c73bb14a",
   "metadata": {},
   "outputs": [],
   "source": [
    "for line in lines:\n",
    "    line = line.strip()\n",
    "    tokens = line.split('。')\n",
    "    it = filter(lambda x : len(x) > 0, tokens)\n",
    "    sents.extend(it)"
   ]
  },
  {
   "cell_type": "code",
   "execution_count": 144,
   "id": "61c87299",
   "metadata": {},
   "outputs": [
    {
     "name": "stdout",
     "output_type": "stream",
     "text": [
      "['一家刚刚成立两年的网络支付公司，它的目标是成为市值100亿美元的上市公司', '这家公司叫做快钱，说这句话的是快钱的CEO关国光', '他之前曾任网易的高级副总裁，负责过网易的上市工作', '对于为什么选择第三方支付作为创业方向，他曾经对媒体这样说：“我能看到这个胡同对面是什么，别人只能看到这个胡同', '”自信与狂妄只有一步之遥——这几乎是所有创业者的共同特征，是自信还是狂妄也许需要留待时间来考证', '对于市值100亿美元的上市公司，他是这样算这笔账的，“百度上市时广告客户数量只有4万,而且它所做的只是把客户吸引过来，就可以支撑起现有的庞大市值；而我们几年后的客户数量是几千万，而且这些客户都是能直接带来利润的，说市值100亿美元一点都不夸张', '”', '这家公司2005年年底注册用户达到400万，计划今年注册用户突破1000万，号称是国内最大的第三方网络支付平台', '“在美国跟支付相关的收入已经超过了所有商业银行本身利差收入的总和，我所查到的数据是3000亿美元，其中超过70％是个人消费者带来的收入', '”关国光喜欢借用美国支付产业的现状与中国的情况进行比较', '虽然美国和中国差异显著，但他坚信中国的第三方支付市场前景非常广阔']\n"
     ]
    }
   ],
   "source": [
    "print(sents)"
   ]
  },
  {
   "cell_type": "markdown",
   "id": "fcb50737",
   "metadata": {},
   "source": [
    "### 使用“列表生成式”处理文本"
   ]
  },
  {
   "cell_type": "markdown",
   "id": "b65c18c7",
   "metadata": {},
   "source": [
    "#### `for`语句"
   ]
  },
  {
   "cell_type": "code",
   "execution_count": 145,
   "id": "be203c27",
   "metadata": {},
   "outputs": [],
   "source": [
    "lens = []"
   ]
  },
  {
   "cell_type": "code",
   "execution_count": 146,
   "id": "419be937",
   "metadata": {},
   "outputs": [],
   "source": [
    "for sent in sents:\n",
    "    lens.append(len(sent))"
   ]
  },
  {
   "cell_type": "code",
   "execution_count": 147,
   "id": "a24db9a7",
   "metadata": {},
   "outputs": [
    {
     "name": "stdout",
     "output_type": "stream",
     "text": [
      "[36, 24, 24, 54, 47, 121, 1, 55, 67, 27, 32]\n"
     ]
    }
   ],
   "source": [
    "print(lens)"
   ]
  },
  {
   "cell_type": "markdown",
   "id": "9c61eff9",
   "metadata": {},
   "source": [
    "#### 列表生成式"
   ]
  },
  {
   "cell_type": "code",
   "execution_count": 148,
   "id": "0cff166c",
   "metadata": {},
   "outputs": [
    {
     "data": {
      "text/plain": [
       "[(1, 2), (1, 3), (1, 4), (2, 2), (2, 3), (2, 4), (3, 2), (3, 3), (3, 4)]"
      ]
     },
     "execution_count": 148,
     "metadata": {},
     "output_type": "execute_result"
    }
   ],
   "source": [
    "[(x, y) for x in range(1, 4) for y in range(2, 5)]"
   ]
  },
  {
   "cell_type": "markdown",
   "id": "f666afab",
   "metadata": {},
   "source": [
    "#### 列表生成式改写`for`语句"
   ]
  },
  {
   "cell_type": "code",
   "execution_count": 149,
   "id": "dfc5f126",
   "metadata": {},
   "outputs": [],
   "source": [
    "lens = [len(sent) for sent in sents]"
   ]
  },
  {
   "cell_type": "code",
   "execution_count": 150,
   "id": "4ffb8949",
   "metadata": {},
   "outputs": [
    {
     "name": "stdout",
     "output_type": "stream",
     "text": [
      "[36, 24, 24, 54, 47, 121, 1, 55, 67, 27, 32]\n"
     ]
    }
   ],
   "source": [
    "print(lens)"
   ]
  },
  {
   "cell_type": "markdown",
   "id": "ad4b918c",
   "metadata": {},
   "source": [
    "### 查找文字"
   ]
  },
  {
   "cell_type": "markdown",
   "id": "1a8fff26",
   "metadata": {},
   "source": [
    "#### 不导`re`包进行查找"
   ]
  },
  {
   "cell_type": "code",
   "execution_count": 151,
   "id": "a5753795",
   "metadata": {},
   "outputs": [
    {
     "name": "stdout",
     "output_type": "stream",
     "text": [
      "一家刚刚成立两年的网络支付公司，它的目标是成为市值100亿美元的上市公司\n",
      "这家公司叫做快钱，说这句话的是快钱的CEO关国光\n",
      "对于市值100亿美元的上市公司，他是这样算这笔账的，“百度上市时广告客户数量只有4万,而且它所做的只是把客户吸引过来，就可以支撑起现有的庞大市值；而我们几年后的客户数量是几千万，而且这些客户都是能直接带来利润的，说市值100亿美元一点都不夸张\n",
      "这家公司2005年年底注册用户达到400万，计划今年注册用户突破1000万，号称是国内最大的第三方网络支付平台\n"
     ]
    }
   ],
   "source": [
    "for sent in sents:\n",
    "    if '公司' in sent:\n",
    "        print(sent)"
   ]
  },
  {
   "cell_type": "markdown",
   "id": "d0caf3a5",
   "metadata": {},
   "source": [
    "#### 导入`re`包进行查找"
   ]
  },
  {
   "cell_type": "code",
   "execution_count": 152,
   "id": "8e601366",
   "metadata": {},
   "outputs": [],
   "source": [
    "import re"
   ]
  },
  {
   "cell_type": "markdown",
   "id": "ff90e1a1",
   "metadata": {},
   "source": [
    "##### 查找“公司”"
   ]
  },
  {
   "cell_type": "code",
   "execution_count": 153,
   "id": "b68005da",
   "metadata": {},
   "outputs": [],
   "source": [
    "regex = '公司'"
   ]
  },
  {
   "cell_type": "code",
   "execution_count": 154,
   "id": "2947b7ee",
   "metadata": {},
   "outputs": [
    {
     "name": "stdout",
     "output_type": "stream",
     "text": [
      "一家刚刚成立两年的网络支付公司，它的目标是成为市值100亿美元的上市公司\n",
      "这家公司叫做快钱，说这句话的是快钱的CEO关国光\n",
      "对于市值100亿美元的上市公司，他是这样算这笔账的，“百度上市时广告客户数量只有4万,而且它所做的只是把客户吸引过来，就可以支撑起现有的庞大市值；而我们几年后的客户数量是几千万，而且这些客户都是能直接带来利润的，说市值100亿美元一点都不夸张\n",
      "这家公司2005年年底注册用户达到400万，计划今年注册用户突破1000万，号称是国内最大的第三方网络支付平台\n"
     ]
    }
   ],
   "source": [
    "for sent in sents:\n",
    "    if re.search(regex, sent) is not None:\n",
    "        print(sent)"
   ]
  },
  {
   "cell_type": "markdown",
   "id": "d6785423",
   "metadata": {},
   "source": [
    "##### 查找“市 + x”"
   ]
  },
  {
   "cell_type": "code",
   "execution_count": 155,
   "id": "f395e31f",
   "metadata": {},
   "outputs": [],
   "source": [
    "regex = '市.'"
   ]
  },
  {
   "cell_type": "code",
   "execution_count": 156,
   "id": "c1489d0b",
   "metadata": {},
   "outputs": [
    {
     "name": "stdout",
     "output_type": "stream",
     "text": [
      "一家刚刚成立两年的网络支付公司，它的目标是成为市值100亿美元的上市公司\n",
      "他之前曾任网易的高级副总裁，负责过网易的上市工作\n",
      "对于市值100亿美元的上市公司，他是这样算这笔账的，“百度上市时广告客户数量只有4万,而且它所做的只是把客户吸引过来，就可以支撑起现有的庞大市值；而我们几年后的客户数量是几千万，而且这些客户都是能直接带来利润的，说市值100亿美元一点都不夸张\n",
      "虽然美国和中国差异显著，但他坚信中国的第三方支付市场前景非常广阔\n"
     ]
    }
   ],
   "source": [
    "for sent in sents:\n",
    "    if re.search(regex, sent) is not None:\n",
    "        print(sent)"
   ]
  },
  {
   "cell_type": "markdown",
   "id": "4f2f690c",
   "metadata": {},
   "source": [
    "##### 查找“百 or 上”"
   ]
  },
  {
   "cell_type": "code",
   "execution_count": 157,
   "id": "e112122c",
   "metadata": {},
   "outputs": [],
   "source": [
    "regex = '[百上]'"
   ]
  },
  {
   "cell_type": "code",
   "execution_count": 158,
   "id": "18128d70",
   "metadata": {},
   "outputs": [
    {
     "name": "stdout",
     "output_type": "stream",
     "text": [
      "一家刚刚成立两年的网络支付公司，它的目标是成为市值100亿美元的上市公司\n",
      "他之前曾任网易的高级副总裁，负责过网易的上市工作\n",
      "对于市值100亿美元的上市公司，他是这样算这笔账的，“百度上市时广告客户数量只有4万,而且它所做的只是把客户吸引过来，就可以支撑起现有的庞大市值；而我们几年后的客户数量是几千万，而且这些客户都是能直接带来利润的，说市值100亿美元一点都不夸张\n"
     ]
    }
   ],
   "source": [
    "for sent in sents:\n",
    "    if re.search(regex, sent) is not None:\n",
    "        print(sent)"
   ]
  },
  {
   "cell_type": "markdown",
   "id": "264a66fd",
   "metadata": {},
   "source": [
    "##### 查找“年份”（2xxx）"
   ]
  },
  {
   "cell_type": "code",
   "execution_count": 159,
   "id": "cbbf022b",
   "metadata": {},
   "outputs": [],
   "source": [
    "regex = '2{0-9}{3}'"
   ]
  },
  {
   "cell_type": "code",
   "execution_count": 160,
   "id": "4c929e41",
   "metadata": {},
   "outputs": [],
   "source": [
    "for sent in sents:\n",
    "    if re.search(regex, sent) is not None:\n",
    "        print(sent)"
   ]
  },
  {
   "cell_type": "markdown",
   "id": "a61a5266",
   "metadata": {},
   "source": [
    "##### 查找作为一个整体的数字"
   ]
  },
  {
   "cell_type": "code",
   "execution_count": 161,
   "id": "cd8edd72",
   "metadata": {},
   "outputs": [],
   "source": [
    "regex = '[0-9]+'"
   ]
  },
  {
   "cell_type": "code",
   "execution_count": 162,
   "id": "727b969a",
   "metadata": {},
   "outputs": [
    {
     "name": "stdout",
     "output_type": "stream",
     "text": [
      "['100']\n",
      "一家刚刚成立两年的网络支付公司，它的目标是成为市值100亿美元的上市公司\n",
      "['100', '4', '100']\n",
      "对于市值100亿美元的上市公司，他是这样算这笔账的，“百度上市时广告客户数量只有4万,而且它所做的只是把客户吸引过来，就可以支撑起现有的庞大市值；而我们几年后的客户数量是几千万，而且这些客户都是能直接带来利润的，说市值100亿美元一点都不夸张\n",
      "['2005', '400', '1000']\n",
      "这家公司2005年年底注册用户达到400万，计划今年注册用户突破1000万，号称是国内最大的第三方网络支付平台\n",
      "['3000', '70']\n",
      "“在美国跟支付相关的收入已经超过了所有商业银行本身利差收入的总和，我所查到的数据是3000亿美元，其中超过70％是个人消费者带来的收入\n"
     ]
    }
   ],
   "source": [
    "for sent in sents:\n",
    "    if re.search(regex, sent) is not None:\n",
    "        print(re.findall(regex, sent))\n",
    "        print(sent)"
   ]
  },
  {
   "cell_type": "markdown",
   "id": "380b61dc",
   "metadata": {},
   "source": [
    "### 写入文件"
   ]
  },
  {
   "cell_type": "code",
   "execution_count": 163,
   "id": "6edaf50f",
   "metadata": {},
   "outputs": [],
   "source": [
    "with open('output.txt', 'w') as f:\n",
    "    sents = [sent + '\\n' for sent in sents]\n",
    "    f.writelines(sents)"
   ]
  }
 ],
 "metadata": {
  "kernelspec": {
   "display_name": "Python 3 (ipykernel)",
   "language": "python",
   "name": "python3"
  },
  "language_info": {
   "codemirror_mode": {
    "name": "ipython",
    "version": 3
   },
   "file_extension": ".py",
   "mimetype": "text/x-python",
   "name": "python",
   "nbconvert_exporter": "python",
   "pygments_lexer": "ipython3",
   "version": "3.9.7"
  },
  "latex_envs": {
   "LaTeX_envs_menu_present": true,
   "autoclose": false,
   "autocomplete": true,
   "bibliofile": "biblio.bib",
   "cite_by": "apalike",
   "current_citInitial": 1,
   "eqLabelWithNumbers": true,
   "eqNumInitial": 1,
   "hotkeys": {
    "equation": "Ctrl-E",
    "itemize": "Ctrl-I"
   },
   "labels_anchors": false,
   "latex_user_defs": false,
   "report_style_numbering": false,
   "user_envs_cfg": false
  },
  "toc": {
   "base_numbering": 1,
   "nav_menu": {},
   "number_sections": true,
   "sideBar": true,
   "skip_h1_title": false,
   "title_cell": "Table of Contents",
   "title_sidebar": "Contents",
   "toc_cell": true,
   "toc_position": {
    "height": "calc(100% - 180px)",
    "left": "10px",
    "top": "150px",
    "width": "284.442px"
   },
   "toc_section_display": true,
   "toc_window_display": false
  }
 },
 "nbformat": 4,
 "nbformat_minor": 5
}
